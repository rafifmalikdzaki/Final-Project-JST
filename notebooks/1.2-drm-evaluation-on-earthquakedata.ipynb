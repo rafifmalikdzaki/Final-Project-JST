{
 "cells": [
  {
   "cell_type": "code",
   "execution_count": 40,
   "outputs": [],
   "source": [
    "import numpy as np\n",
    "import pandas as pd\n",
    "import sklearn.datasets as dt\n",
    "from sklearn.model_selection import train_test_split as tts\n",
    "from sklearn.metrics import accuracy_score, classification_report\n",
    "import matplotlib.pyplot as plt\n",
    "from sklearn.preprocessing import StandardScaler,MinMaxScaler\n",
    "from LVQ.lvq import LVQ3\n",
    "from sklearn.preprocessing import OneHotEncoder"
   ],
   "metadata": {
    "collapsed": false,
    "ExecuteTime": {
     "end_time": "2023-11-21T07:03:41.553623899Z",
     "start_time": "2023-11-21T07:03:41.512491808Z"
    }
   },
   "id": "initial_id"
  },
  {
   "cell_type": "code",
   "execution_count": 41,
   "outputs": [],
   "source": [
    "X, y = pd.read_csv(\"../data/raw/train_values.csv\"), pd.read_csv(\"../data/raw/train_labels.csv\")"
   ],
   "metadata": {
    "collapsed": false,
    "ExecuteTime": {
     "end_time": "2023-11-21T07:03:41.824937492Z",
     "start_time": "2023-11-21T07:03:41.637489530Z"
    }
   },
   "id": "5f7ca36ee97ebc54"
  },
  {
   "cell_type": "code",
   "execution_count": 42,
   "outputs": [
    {
     "data": {
      "text/plain": "        building_id  geo_level_1_id  geo_level_2_id  geo_level_3_id  \\\n0           1020144              10             804            1371   \n1            199685              25             211            5071   \n2           1038433              22             816           12104   \n3            461920               6             449            3741   \n4            957027              20             254            5266   \n...             ...             ...             ...             ...   \n208475       788768              22             165           10190   \n208476       490379              27             269            5197   \n208477       294228              26            1259           10829   \n208478       464117               7             258            1869   \n208479       652585              26             366            2116   \n\n        count_floors_pre_eq  age  area_percentage  height_percentage  \\\n0                         2    5                7                  6   \n1                         2   25                9                  4   \n2                         2   10                5                  4   \n3                         1   10                8                  3   \n4                         2   10               10                  6   \n...                     ...  ...              ...                ...   \n208475                    2   30                5                  4   \n208476                    3   80                5                  6   \n208477                    1   10                4                  6   \n208478                    1   15                6                  3   \n208479                    2   20                8                  5   \n\n       land_surface_condition foundation_type  ...  \\\n0                           t               r  ...   \n1                           n               r  ...   \n2                           t               r  ...   \n3                           t               r  ...   \n4                           n               w  ...   \n...                       ...             ...  ...   \n208475                      t               r  ...   \n208476                      t               r  ...   \n208477                      t               r  ...   \n208478                      t               r  ...   \n208479                      o               r  ...   \n\n       has_secondary_use_agriculture has_secondary_use_hotel  \\\n0                                  0                       0   \n1                                  0                       0   \n2                                  0                       0   \n3                                  0                       0   \n4                                  1                       0   \n...                              ...                     ...   \n208475                             0                       0   \n208476                             0                       0   \n208477                             0                       0   \n208478                             0                       0   \n208479                             0                       0   \n\n       has_secondary_use_rental has_secondary_use_institution  \\\n0                             0                             0   \n1                             0                             0   \n2                             0                             0   \n3                             0                             0   \n4                             0                             0   \n...                         ...                           ...   \n208475                        0                             0   \n208476                        0                             0   \n208477                        0                             0   \n208478                        0                             0   \n208479                        0                             0   \n\n       has_secondary_use_school  has_secondary_use_industry  \\\n0                             0                           0   \n1                             0                           0   \n2                             0                           0   \n3                             0                           0   \n4                             0                           0   \n...                         ...                         ...   \n208475                        0                           0   \n208476                        0                           0   \n208477                        0                           0   \n208478                        0                           0   \n208479                        0                           0   \n\n        has_secondary_use_health_post  has_secondary_use_gov_office  \\\n0                                   0                             0   \n1                                   0                             0   \n2                                   0                             0   \n3                                   0                             0   \n4                                   0                             0   \n...                               ...                           ...   \n208475                              0                             0   \n208476                              0                             0   \n208477                              0                             0   \n208478                              0                             0   \n208479                              0                             0   \n\n        has_secondary_use_use_police  has_secondary_use_other  \n0                                  0                        0  \n1                                  0                        0  \n2                                  0                        0  \n3                                  0                        0  \n4                                  0                        0  \n...                              ...                      ...  \n208475                             0                        0  \n208476                             0                        0  \n208477                             0                        0  \n208478                             0                        0  \n208479                             0                        0  \n\n[208480 rows x 39 columns]",
      "text/html": "<div>\n<style scoped>\n    .dataframe tbody tr th:only-of-type {\n        vertical-align: middle;\n    }\n\n    .dataframe tbody tr th {\n        vertical-align: top;\n    }\n\n    .dataframe thead th {\n        text-align: right;\n    }\n</style>\n<table border=\"1\" class=\"dataframe\">\n  <thead>\n    <tr style=\"text-align: right;\">\n      <th></th>\n      <th>building_id</th>\n      <th>geo_level_1_id</th>\n      <th>geo_level_2_id</th>\n      <th>geo_level_3_id</th>\n      <th>count_floors_pre_eq</th>\n      <th>age</th>\n      <th>area_percentage</th>\n      <th>height_percentage</th>\n      <th>land_surface_condition</th>\n      <th>foundation_type</th>\n      <th>...</th>\n      <th>has_secondary_use_agriculture</th>\n      <th>has_secondary_use_hotel</th>\n      <th>has_secondary_use_rental</th>\n      <th>has_secondary_use_institution</th>\n      <th>has_secondary_use_school</th>\n      <th>has_secondary_use_industry</th>\n      <th>has_secondary_use_health_post</th>\n      <th>has_secondary_use_gov_office</th>\n      <th>has_secondary_use_use_police</th>\n      <th>has_secondary_use_other</th>\n    </tr>\n  </thead>\n  <tbody>\n    <tr>\n      <th>0</th>\n      <td>1020144</td>\n      <td>10</td>\n      <td>804</td>\n      <td>1371</td>\n      <td>2</td>\n      <td>5</td>\n      <td>7</td>\n      <td>6</td>\n      <td>t</td>\n      <td>r</td>\n      <td>...</td>\n      <td>0</td>\n      <td>0</td>\n      <td>0</td>\n      <td>0</td>\n      <td>0</td>\n      <td>0</td>\n      <td>0</td>\n      <td>0</td>\n      <td>0</td>\n      <td>0</td>\n    </tr>\n    <tr>\n      <th>1</th>\n      <td>199685</td>\n      <td>25</td>\n      <td>211</td>\n      <td>5071</td>\n      <td>2</td>\n      <td>25</td>\n      <td>9</td>\n      <td>4</td>\n      <td>n</td>\n      <td>r</td>\n      <td>...</td>\n      <td>0</td>\n      <td>0</td>\n      <td>0</td>\n      <td>0</td>\n      <td>0</td>\n      <td>0</td>\n      <td>0</td>\n      <td>0</td>\n      <td>0</td>\n      <td>0</td>\n    </tr>\n    <tr>\n      <th>2</th>\n      <td>1038433</td>\n      <td>22</td>\n      <td>816</td>\n      <td>12104</td>\n      <td>2</td>\n      <td>10</td>\n      <td>5</td>\n      <td>4</td>\n      <td>t</td>\n      <td>r</td>\n      <td>...</td>\n      <td>0</td>\n      <td>0</td>\n      <td>0</td>\n      <td>0</td>\n      <td>0</td>\n      <td>0</td>\n      <td>0</td>\n      <td>0</td>\n      <td>0</td>\n      <td>0</td>\n    </tr>\n    <tr>\n      <th>3</th>\n      <td>461920</td>\n      <td>6</td>\n      <td>449</td>\n      <td>3741</td>\n      <td>1</td>\n      <td>10</td>\n      <td>8</td>\n      <td>3</td>\n      <td>t</td>\n      <td>r</td>\n      <td>...</td>\n      <td>0</td>\n      <td>0</td>\n      <td>0</td>\n      <td>0</td>\n      <td>0</td>\n      <td>0</td>\n      <td>0</td>\n      <td>0</td>\n      <td>0</td>\n      <td>0</td>\n    </tr>\n    <tr>\n      <th>4</th>\n      <td>957027</td>\n      <td>20</td>\n      <td>254</td>\n      <td>5266</td>\n      <td>2</td>\n      <td>10</td>\n      <td>10</td>\n      <td>6</td>\n      <td>n</td>\n      <td>w</td>\n      <td>...</td>\n      <td>1</td>\n      <td>0</td>\n      <td>0</td>\n      <td>0</td>\n      <td>0</td>\n      <td>0</td>\n      <td>0</td>\n      <td>0</td>\n      <td>0</td>\n      <td>0</td>\n    </tr>\n    <tr>\n      <th>...</th>\n      <td>...</td>\n      <td>...</td>\n      <td>...</td>\n      <td>...</td>\n      <td>...</td>\n      <td>...</td>\n      <td>...</td>\n      <td>...</td>\n      <td>...</td>\n      <td>...</td>\n      <td>...</td>\n      <td>...</td>\n      <td>...</td>\n      <td>...</td>\n      <td>...</td>\n      <td>...</td>\n      <td>...</td>\n      <td>...</td>\n      <td>...</td>\n      <td>...</td>\n      <td>...</td>\n    </tr>\n    <tr>\n      <th>208475</th>\n      <td>788768</td>\n      <td>22</td>\n      <td>165</td>\n      <td>10190</td>\n      <td>2</td>\n      <td>30</td>\n      <td>5</td>\n      <td>4</td>\n      <td>t</td>\n      <td>r</td>\n      <td>...</td>\n      <td>0</td>\n      <td>0</td>\n      <td>0</td>\n      <td>0</td>\n      <td>0</td>\n      <td>0</td>\n      <td>0</td>\n      <td>0</td>\n      <td>0</td>\n      <td>0</td>\n    </tr>\n    <tr>\n      <th>208476</th>\n      <td>490379</td>\n      <td>27</td>\n      <td>269</td>\n      <td>5197</td>\n      <td>3</td>\n      <td>80</td>\n      <td>5</td>\n      <td>6</td>\n      <td>t</td>\n      <td>r</td>\n      <td>...</td>\n      <td>0</td>\n      <td>0</td>\n      <td>0</td>\n      <td>0</td>\n      <td>0</td>\n      <td>0</td>\n      <td>0</td>\n      <td>0</td>\n      <td>0</td>\n      <td>0</td>\n    </tr>\n    <tr>\n      <th>208477</th>\n      <td>294228</td>\n      <td>26</td>\n      <td>1259</td>\n      <td>10829</td>\n      <td>1</td>\n      <td>10</td>\n      <td>4</td>\n      <td>6</td>\n      <td>t</td>\n      <td>r</td>\n      <td>...</td>\n      <td>0</td>\n      <td>0</td>\n      <td>0</td>\n      <td>0</td>\n      <td>0</td>\n      <td>0</td>\n      <td>0</td>\n      <td>0</td>\n      <td>0</td>\n      <td>0</td>\n    </tr>\n    <tr>\n      <th>208478</th>\n      <td>464117</td>\n      <td>7</td>\n      <td>258</td>\n      <td>1869</td>\n      <td>1</td>\n      <td>15</td>\n      <td>6</td>\n      <td>3</td>\n      <td>t</td>\n      <td>r</td>\n      <td>...</td>\n      <td>0</td>\n      <td>0</td>\n      <td>0</td>\n      <td>0</td>\n      <td>0</td>\n      <td>0</td>\n      <td>0</td>\n      <td>0</td>\n      <td>0</td>\n      <td>0</td>\n    </tr>\n    <tr>\n      <th>208479</th>\n      <td>652585</td>\n      <td>26</td>\n      <td>366</td>\n      <td>2116</td>\n      <td>2</td>\n      <td>20</td>\n      <td>8</td>\n      <td>5</td>\n      <td>o</td>\n      <td>r</td>\n      <td>...</td>\n      <td>0</td>\n      <td>0</td>\n      <td>0</td>\n      <td>0</td>\n      <td>0</td>\n      <td>0</td>\n      <td>0</td>\n      <td>0</td>\n      <td>0</td>\n      <td>0</td>\n    </tr>\n  </tbody>\n</table>\n<p>208480 rows × 39 columns</p>\n</div>"
     },
     "execution_count": 42,
     "metadata": {},
     "output_type": "execute_result"
    }
   ],
   "source": [
    "X"
   ],
   "metadata": {
    "collapsed": false,
    "ExecuteTime": {
     "end_time": "2023-11-21T07:03:41.851449968Z",
     "start_time": "2023-11-21T07:03:41.826500848Z"
    }
   },
   "id": "7649019767f56b6f"
  },
  {
   "cell_type": "code",
   "execution_count": 43,
   "outputs": [],
   "source": [
    "df = pd.merge(X, y,left_on=\"building_id\", right_on=\"building_id\").iloc[:,1:]"
   ],
   "metadata": {
    "collapsed": false,
    "ExecuteTime": {
     "end_time": "2023-11-21T07:03:42.250948592Z",
     "start_time": "2023-11-21T07:03:42.183322671Z"
    }
   },
   "id": "470270e8742ffdf7"
  },
  {
   "cell_type": "code",
   "execution_count": 44,
   "outputs": [
    {
     "name": "stdout",
     "output_type": "stream",
     "text": [
      "<class 'pandas.core.frame.DataFrame'>\n",
      "Int64Index: 208480 entries, 0 to 208479\n",
      "Data columns (total 39 columns):\n",
      " #   Column                                  Non-Null Count   Dtype \n",
      "---  ------                                  --------------   ----- \n",
      " 0   geo_level_1_id                          208480 non-null  int64 \n",
      " 1   geo_level_2_id                          208480 non-null  int64 \n",
      " 2   geo_level_3_id                          208480 non-null  int64 \n",
      " 3   count_floors_pre_eq                     208480 non-null  int64 \n",
      " 4   age                                     208480 non-null  int64 \n",
      " 5   area_percentage                         208480 non-null  int64 \n",
      " 6   height_percentage                       208480 non-null  int64 \n",
      " 7   land_surface_condition                  208480 non-null  object\n",
      " 8   foundation_type                         208480 non-null  object\n",
      " 9   roof_type                               208480 non-null  object\n",
      " 10  ground_floor_type                       208480 non-null  object\n",
      " 11  other_floor_type                        208480 non-null  object\n",
      " 12  position                                208480 non-null  object\n",
      " 13  plan_configuration                      208480 non-null  object\n",
      " 14  has_superstructure_adobe_mud            208480 non-null  int64 \n",
      " 15  has_superstructure_mud_mortar_stone     208480 non-null  int64 \n",
      " 16  has_superstructure_stone_flag           208480 non-null  int64 \n",
      " 17  has_superstructure_cement_mortar_stone  208480 non-null  int64 \n",
      " 18  has_superstructure_mud_mortar_brick     208480 non-null  int64 \n",
      " 19  has_superstructure_cement_mortar_brick  208480 non-null  int64 \n",
      " 20  has_superstructure_timber               208480 non-null  int64 \n",
      " 21  has_superstructure_bamboo               208480 non-null  int64 \n",
      " 22  has_superstructure_rc_non_engineered    208480 non-null  int64 \n",
      " 23  has_superstructure_rc_engineered        208480 non-null  int64 \n",
      " 24  has_superstructure_other                208480 non-null  int64 \n",
      " 25  legal_ownership_status                  208480 non-null  object\n",
      " 26  count_families                          208480 non-null  int64 \n",
      " 27  has_secondary_use                       208480 non-null  int64 \n",
      " 28  has_secondary_use_agriculture           208480 non-null  int64 \n",
      " 29  has_secondary_use_hotel                 208480 non-null  int64 \n",
      " 30  has_secondary_use_rental                208480 non-null  int64 \n",
      " 31  has_secondary_use_institution           208480 non-null  int64 \n",
      " 32  has_secondary_use_school                208480 non-null  int64 \n",
      " 33  has_secondary_use_industry              208480 non-null  int64 \n",
      " 34  has_secondary_use_health_post           208480 non-null  int64 \n",
      " 35  has_secondary_use_gov_office            208480 non-null  int64 \n",
      " 36  has_secondary_use_use_police            208480 non-null  int64 \n",
      " 37  has_secondary_use_other                 208480 non-null  int64 \n",
      " 38  damage_grade                            208480 non-null  int64 \n",
      "dtypes: int64(31), object(8)\n",
      "memory usage: 63.6+ MB\n"
     ]
    }
   ],
   "source": [
    "df.info()"
   ],
   "metadata": {
    "collapsed": false,
    "ExecuteTime": {
     "end_time": "2023-11-21T07:03:42.459857035Z",
     "start_time": "2023-11-21T07:03:42.401411017Z"
    }
   },
   "id": "c46f38b81f347b34"
  },
  {
   "cell_type": "code",
   "execution_count": 45,
   "outputs": [
    {
     "data": {
      "text/plain": "0         2\n1         2\n2         2\n3         2\n4         3\n         ..\n208475    1\n208476    2\n208477    3\n208478    3\n208479    2\nName: damage_grade, Length: 208480, dtype: int64"
     },
     "execution_count": 45,
     "metadata": {},
     "output_type": "execute_result"
    }
   ],
   "source": [
    "df.iloc[:,-1]"
   ],
   "metadata": {
    "collapsed": false,
    "ExecuteTime": {
     "end_time": "2023-11-21T07:03:43.663257550Z",
     "start_time": "2023-11-21T07:03:43.659795944Z"
    }
   },
   "id": "2be43456b878f865"
  },
  {
   "cell_type": "code",
   "execution_count": 46,
   "outputs": [],
   "source": [
    "from imblearn.over_sampling import SMOTENC\n",
    "sm = SMOTENC(random_state=42, categorical_features=[7,8,9,10,11,12,13,25])"
   ],
   "metadata": {
    "collapsed": false,
    "ExecuteTime": {
     "end_time": "2023-11-21T07:03:45.098009595Z",
     "start_time": "2023-11-21T07:03:45.089943734Z"
    }
   },
   "id": "6062f2c1138a1ef7"
  },
  {
   "cell_type": "code",
   "execution_count": 47,
   "outputs": [],
   "source": [
    "X, y = df.iloc[:,:-1], df.iloc[:,-1]"
   ],
   "metadata": {
    "collapsed": false,
    "ExecuteTime": {
     "end_time": "2023-11-21T07:03:45.555879324Z",
     "start_time": "2023-11-21T07:03:45.544260258Z"
    }
   },
   "id": "27483ff0f889e016"
  },
  {
   "cell_type": "code",
   "execution_count": 49,
   "outputs": [],
   "source": [
    "X_res, y_res = sm.fit_resample(X, y)"
   ],
   "metadata": {
    "collapsed": false,
    "ExecuteTime": {
     "end_time": "2023-11-21T07:07:39.724052437Z",
     "start_time": "2023-11-21T07:03:54.015125251Z"
    }
   },
   "id": "e273a31f1a3e172"
  },
  {
   "cell_type": "code",
   "execution_count": 50,
   "outputs": [
    {
     "data": {
      "text/plain": "        geo_level_1_id  geo_level_2_id  geo_level_3_id  count_floors_pre_eq  \\\n0                   10             804            1371                    2   \n1                   25             211            5071                    2   \n2                   22             816           12104                    2   \n3                    6             449            3741                    1   \n4                   20             254            5266                    2   \n...                ...             ...             ...                  ...   \n356017               5             598            5662                    2   \n356018              27             533            5800                    3   \n356019              21             313           11708                    3   \n356020               6            1126           11865                    1   \n356021               4              55            2653                    2   \n\n        age  area_percentage  height_percentage land_surface_condition  \\\n0         5                7                  6                      t   \n1        25                9                  4                      n   \n2        10                5                  4                      t   \n3        10                8                  3                      t   \n4        10               10                  6                      n   \n...     ...              ...                ...                    ...   \n356017  995                6                  8                      t   \n356018   15               19                  9                      t   \n356019   15                5                  5                      t   \n356020   25                6                  3                      t   \n356021    5                5                  5                      t   \n\n       foundation_type roof_type  ... has_secondary_use_agriculture  \\\n0                    r         n  ...                             0   \n1                    r         q  ...                             0   \n2                    r         q  ...                             0   \n3                    r         q  ...                             0   \n4                    w         q  ...                             1   \n...                ...       ...  ...                           ...   \n356017               r         n  ...                             0   \n356018               r         n  ...                             0   \n356019               r         q  ...                             0   \n356020               r         n  ...                             0   \n356021               r         q  ...                             0   \n\n       has_secondary_use_hotel has_secondary_use_rental  \\\n0                            0                        0   \n1                            0                        0   \n2                            0                        0   \n3                            0                        0   \n4                            0                        0   \n...                        ...                      ...   \n356017                       0                        0   \n356018                       0                        0   \n356019                       0                        0   \n356020                       0                        0   \n356021                       0                        0   \n\n       has_secondary_use_institution  has_secondary_use_school  \\\n0                                  0                         0   \n1                                  0                         0   \n2                                  0                         0   \n3                                  0                         0   \n4                                  0                         0   \n...                              ...                       ...   \n356017                             0                         0   \n356018                             0                         0   \n356019                             0                         0   \n356020                             0                         0   \n356021                             0                         0   \n\n        has_secondary_use_industry  has_secondary_use_health_post  \\\n0                                0                              0   \n1                                0                              0   \n2                                0                              0   \n3                                0                              0   \n4                                0                              0   \n...                            ...                            ...   \n356017                           0                              0   \n356018                           0                              0   \n356019                           0                              0   \n356020                           0                              0   \n356021                           0                              0   \n\n        has_secondary_use_gov_office  has_secondary_use_use_police  \\\n0                                  0                             0   \n1                                  0                             0   \n2                                  0                             0   \n3                                  0                             0   \n4                                  0                             0   \n...                              ...                           ...   \n356017                             0                             0   \n356018                             0                             0   \n356019                             0                             0   \n356020                             0                             0   \n356021                             0                             0   \n\n        has_secondary_use_other  \n0                             0  \n1                             0  \n2                             0  \n3                             0  \n4                             0  \n...                         ...  \n356017                        0  \n356018                        0  \n356019                        0  \n356020                        0  \n356021                        0  \n\n[356022 rows x 38 columns]",
      "text/html": "<div>\n<style scoped>\n    .dataframe tbody tr th:only-of-type {\n        vertical-align: middle;\n    }\n\n    .dataframe tbody tr th {\n        vertical-align: top;\n    }\n\n    .dataframe thead th {\n        text-align: right;\n    }\n</style>\n<table border=\"1\" class=\"dataframe\">\n  <thead>\n    <tr style=\"text-align: right;\">\n      <th></th>\n      <th>geo_level_1_id</th>\n      <th>geo_level_2_id</th>\n      <th>geo_level_3_id</th>\n      <th>count_floors_pre_eq</th>\n      <th>age</th>\n      <th>area_percentage</th>\n      <th>height_percentage</th>\n      <th>land_surface_condition</th>\n      <th>foundation_type</th>\n      <th>roof_type</th>\n      <th>...</th>\n      <th>has_secondary_use_agriculture</th>\n      <th>has_secondary_use_hotel</th>\n      <th>has_secondary_use_rental</th>\n      <th>has_secondary_use_institution</th>\n      <th>has_secondary_use_school</th>\n      <th>has_secondary_use_industry</th>\n      <th>has_secondary_use_health_post</th>\n      <th>has_secondary_use_gov_office</th>\n      <th>has_secondary_use_use_police</th>\n      <th>has_secondary_use_other</th>\n    </tr>\n  </thead>\n  <tbody>\n    <tr>\n      <th>0</th>\n      <td>10</td>\n      <td>804</td>\n      <td>1371</td>\n      <td>2</td>\n      <td>5</td>\n      <td>7</td>\n      <td>6</td>\n      <td>t</td>\n      <td>r</td>\n      <td>n</td>\n      <td>...</td>\n      <td>0</td>\n      <td>0</td>\n      <td>0</td>\n      <td>0</td>\n      <td>0</td>\n      <td>0</td>\n      <td>0</td>\n      <td>0</td>\n      <td>0</td>\n      <td>0</td>\n    </tr>\n    <tr>\n      <th>1</th>\n      <td>25</td>\n      <td>211</td>\n      <td>5071</td>\n      <td>2</td>\n      <td>25</td>\n      <td>9</td>\n      <td>4</td>\n      <td>n</td>\n      <td>r</td>\n      <td>q</td>\n      <td>...</td>\n      <td>0</td>\n      <td>0</td>\n      <td>0</td>\n      <td>0</td>\n      <td>0</td>\n      <td>0</td>\n      <td>0</td>\n      <td>0</td>\n      <td>0</td>\n      <td>0</td>\n    </tr>\n    <tr>\n      <th>2</th>\n      <td>22</td>\n      <td>816</td>\n      <td>12104</td>\n      <td>2</td>\n      <td>10</td>\n      <td>5</td>\n      <td>4</td>\n      <td>t</td>\n      <td>r</td>\n      <td>q</td>\n      <td>...</td>\n      <td>0</td>\n      <td>0</td>\n      <td>0</td>\n      <td>0</td>\n      <td>0</td>\n      <td>0</td>\n      <td>0</td>\n      <td>0</td>\n      <td>0</td>\n      <td>0</td>\n    </tr>\n    <tr>\n      <th>3</th>\n      <td>6</td>\n      <td>449</td>\n      <td>3741</td>\n      <td>1</td>\n      <td>10</td>\n      <td>8</td>\n      <td>3</td>\n      <td>t</td>\n      <td>r</td>\n      <td>q</td>\n      <td>...</td>\n      <td>0</td>\n      <td>0</td>\n      <td>0</td>\n      <td>0</td>\n      <td>0</td>\n      <td>0</td>\n      <td>0</td>\n      <td>0</td>\n      <td>0</td>\n      <td>0</td>\n    </tr>\n    <tr>\n      <th>4</th>\n      <td>20</td>\n      <td>254</td>\n      <td>5266</td>\n      <td>2</td>\n      <td>10</td>\n      <td>10</td>\n      <td>6</td>\n      <td>n</td>\n      <td>w</td>\n      <td>q</td>\n      <td>...</td>\n      <td>1</td>\n      <td>0</td>\n      <td>0</td>\n      <td>0</td>\n      <td>0</td>\n      <td>0</td>\n      <td>0</td>\n      <td>0</td>\n      <td>0</td>\n      <td>0</td>\n    </tr>\n    <tr>\n      <th>...</th>\n      <td>...</td>\n      <td>...</td>\n      <td>...</td>\n      <td>...</td>\n      <td>...</td>\n      <td>...</td>\n      <td>...</td>\n      <td>...</td>\n      <td>...</td>\n      <td>...</td>\n      <td>...</td>\n      <td>...</td>\n      <td>...</td>\n      <td>...</td>\n      <td>...</td>\n      <td>...</td>\n      <td>...</td>\n      <td>...</td>\n      <td>...</td>\n      <td>...</td>\n      <td>...</td>\n    </tr>\n    <tr>\n      <th>356017</th>\n      <td>5</td>\n      <td>598</td>\n      <td>5662</td>\n      <td>2</td>\n      <td>995</td>\n      <td>6</td>\n      <td>8</td>\n      <td>t</td>\n      <td>r</td>\n      <td>n</td>\n      <td>...</td>\n      <td>0</td>\n      <td>0</td>\n      <td>0</td>\n      <td>0</td>\n      <td>0</td>\n      <td>0</td>\n      <td>0</td>\n      <td>0</td>\n      <td>0</td>\n      <td>0</td>\n    </tr>\n    <tr>\n      <th>356018</th>\n      <td>27</td>\n      <td>533</td>\n      <td>5800</td>\n      <td>3</td>\n      <td>15</td>\n      <td>19</td>\n      <td>9</td>\n      <td>t</td>\n      <td>r</td>\n      <td>n</td>\n      <td>...</td>\n      <td>0</td>\n      <td>0</td>\n      <td>0</td>\n      <td>0</td>\n      <td>0</td>\n      <td>0</td>\n      <td>0</td>\n      <td>0</td>\n      <td>0</td>\n      <td>0</td>\n    </tr>\n    <tr>\n      <th>356019</th>\n      <td>21</td>\n      <td>313</td>\n      <td>11708</td>\n      <td>3</td>\n      <td>15</td>\n      <td>5</td>\n      <td>5</td>\n      <td>t</td>\n      <td>r</td>\n      <td>q</td>\n      <td>...</td>\n      <td>0</td>\n      <td>0</td>\n      <td>0</td>\n      <td>0</td>\n      <td>0</td>\n      <td>0</td>\n      <td>0</td>\n      <td>0</td>\n      <td>0</td>\n      <td>0</td>\n    </tr>\n    <tr>\n      <th>356020</th>\n      <td>6</td>\n      <td>1126</td>\n      <td>11865</td>\n      <td>1</td>\n      <td>25</td>\n      <td>6</td>\n      <td>3</td>\n      <td>t</td>\n      <td>r</td>\n      <td>n</td>\n      <td>...</td>\n      <td>0</td>\n      <td>0</td>\n      <td>0</td>\n      <td>0</td>\n      <td>0</td>\n      <td>0</td>\n      <td>0</td>\n      <td>0</td>\n      <td>0</td>\n      <td>0</td>\n    </tr>\n    <tr>\n      <th>356021</th>\n      <td>4</td>\n      <td>55</td>\n      <td>2653</td>\n      <td>2</td>\n      <td>5</td>\n      <td>5</td>\n      <td>5</td>\n      <td>t</td>\n      <td>r</td>\n      <td>q</td>\n      <td>...</td>\n      <td>0</td>\n      <td>0</td>\n      <td>0</td>\n      <td>0</td>\n      <td>0</td>\n      <td>0</td>\n      <td>0</td>\n      <td>0</td>\n      <td>0</td>\n      <td>0</td>\n    </tr>\n  </tbody>\n</table>\n<p>356022 rows × 38 columns</p>\n</div>"
     },
     "execution_count": 50,
     "metadata": {},
     "output_type": "execute_result"
    }
   ],
   "source": [
    "X_res"
   ],
   "metadata": {
    "collapsed": false,
    "ExecuteTime": {
     "end_time": "2023-11-21T07:09:45.237494178Z",
     "start_time": "2023-11-21T07:09:45.165255406Z"
    }
   },
   "id": "f4135f257f49c029"
  },
  {
   "cell_type": "code",
   "execution_count": 51,
   "outputs": [
    {
     "data": {
      "text/plain": "0         2\n1         2\n2         2\n3         2\n4         3\n         ..\n356017    3\n356018    3\n356019    3\n356020    3\n356021    3\nName: damage_grade, Length: 356022, dtype: int64"
     },
     "execution_count": 51,
     "metadata": {},
     "output_type": "execute_result"
    }
   ],
   "source": [
    "y_res"
   ],
   "metadata": {
    "collapsed": false,
    "ExecuteTime": {
     "end_time": "2023-11-21T07:09:55.773365679Z",
     "start_time": "2023-11-21T07:09:55.766534078Z"
    }
   },
   "id": "afd5e662d8088174"
  },
  {
   "cell_type": "code",
   "execution_count": 52,
   "outputs": [
    {
     "data": {
      "text/plain": "(array([1, 2, 3]), array([118674, 118674, 118674]))"
     },
     "execution_count": 52,
     "metadata": {},
     "output_type": "execute_result"
    }
   ],
   "source": [
    "np.unique(y_res, return_counts=True)"
   ],
   "metadata": {
    "collapsed": false,
    "ExecuteTime": {
     "end_time": "2023-11-21T07:10:05.726182415Z",
     "start_time": "2023-11-21T07:10:05.711678234Z"
    }
   },
   "id": "1ec7a0a51881c9f3"
  },
  {
   "cell_type": "code",
   "execution_count": 53,
   "outputs": [
    {
     "name": "stdout",
     "output_type": "stream",
     "text": [
      "<class 'pandas.core.frame.DataFrame'>\n",
      "Int64Index: 208480 entries, 0 to 208479\n",
      "Data columns (total 38 columns):\n",
      " #   Column                                  Non-Null Count   Dtype \n",
      "---  ------                                  --------------   ----- \n",
      " 0   geo_level_1_id                          208480 non-null  int64 \n",
      " 1   geo_level_2_id                          208480 non-null  int64 \n",
      " 2   geo_level_3_id                          208480 non-null  int64 \n",
      " 3   count_floors_pre_eq                     208480 non-null  int64 \n",
      " 4   age                                     208480 non-null  int64 \n",
      " 5   area_percentage                         208480 non-null  int64 \n",
      " 6   height_percentage                       208480 non-null  int64 \n",
      " 7   land_surface_condition                  208480 non-null  object\n",
      " 8   foundation_type                         208480 non-null  object\n",
      " 9   roof_type                               208480 non-null  object\n",
      " 10  ground_floor_type                       208480 non-null  object\n",
      " 11  other_floor_type                        208480 non-null  object\n",
      " 12  position                                208480 non-null  object\n",
      " 13  plan_configuration                      208480 non-null  object\n",
      " 14  has_superstructure_adobe_mud            208480 non-null  int64 \n",
      " 15  has_superstructure_mud_mortar_stone     208480 non-null  int64 \n",
      " 16  has_superstructure_stone_flag           208480 non-null  int64 \n",
      " 17  has_superstructure_cement_mortar_stone  208480 non-null  int64 \n",
      " 18  has_superstructure_mud_mortar_brick     208480 non-null  int64 \n",
      " 19  has_superstructure_cement_mortar_brick  208480 non-null  int64 \n",
      " 20  has_superstructure_timber               208480 non-null  int64 \n",
      " 21  has_superstructure_bamboo               208480 non-null  int64 \n",
      " 22  has_superstructure_rc_non_engineered    208480 non-null  int64 \n",
      " 23  has_superstructure_rc_engineered        208480 non-null  int64 \n",
      " 24  has_superstructure_other                208480 non-null  int64 \n",
      " 25  legal_ownership_status                  208480 non-null  object\n",
      " 26  count_families                          208480 non-null  int64 \n",
      " 27  has_secondary_use                       208480 non-null  int64 \n",
      " 28  has_secondary_use_agriculture           208480 non-null  int64 \n",
      " 29  has_secondary_use_hotel                 208480 non-null  int64 \n",
      " 30  has_secondary_use_rental                208480 non-null  int64 \n",
      " 31  has_secondary_use_institution           208480 non-null  int64 \n",
      " 32  has_secondary_use_school                208480 non-null  int64 \n",
      " 33  has_secondary_use_industry              208480 non-null  int64 \n",
      " 34  has_secondary_use_health_post           208480 non-null  int64 \n",
      " 35  has_secondary_use_gov_office            208480 non-null  int64 \n",
      " 36  has_secondary_use_use_police            208480 non-null  int64 \n",
      " 37  has_secondary_use_other                 208480 non-null  int64 \n",
      "dtypes: int64(30), object(8)\n",
      "memory usage: 62.0+ MB\n"
     ]
    }
   ],
   "source": [
    "X.info()"
   ],
   "metadata": {
    "collapsed": false,
    "ExecuteTime": {
     "end_time": "2023-11-21T07:10:46.566697547Z",
     "start_time": "2023-11-21T07:10:46.477729284Z"
    }
   },
   "id": "4dccf690251771bc"
  },
  {
   "cell_type": "code",
   "execution_count": 54,
   "outputs": [],
   "source": [
    "col = X_res.select_dtypes(include=\"object\")\n",
    "enc = OneHotEncoder(sparse_output=False, handle_unknown=\"infrequent_if_exist\", drop=\"if_binary\")\n",
    "val = pd.DataFrame(enc.fit_transform(col))\n",
    "fin = X_res.select_dtypes(exclude=\"object\")"
   ],
   "metadata": {
    "collapsed": false,
    "ExecuteTime": {
     "end_time": "2023-11-21T07:10:49.384925394Z",
     "start_time": "2023-11-21T07:10:48.974865147Z"
    }
   },
   "id": "1c805bba2b4a7318"
  },
  {
   "cell_type": "code",
   "execution_count": 55,
   "outputs": [
    {
     "data": {
      "text/plain": "         0    1    2    3    4    5    6    7    8    9   ...   28   29   30  \\\n0       0.0  0.0  1.0  0.0  0.0  1.0  0.0  0.0  1.0  0.0  ...  0.0  0.0  0.0   \n1       1.0  0.0  0.0  0.0  0.0  1.0  0.0  0.0  0.0  1.0  ...  0.0  0.0  0.0   \n2       0.0  0.0  1.0  0.0  0.0  1.0  0.0  0.0  0.0  1.0  ...  0.0  0.0  0.0   \n3       0.0  0.0  1.0  0.0  0.0  1.0  0.0  0.0  0.0  1.0  ...  0.0  0.0  0.0   \n4       1.0  0.0  0.0  0.0  0.0  0.0  0.0  1.0  0.0  1.0  ...  0.0  0.0  0.0   \n...     ...  ...  ...  ...  ...  ...  ...  ...  ...  ...  ...  ...  ...  ...   \n356017  0.0  0.0  1.0  0.0  0.0  1.0  0.0  0.0  1.0  0.0  ...  0.0  0.0  0.0   \n356018  0.0  0.0  1.0  0.0  0.0  1.0  0.0  0.0  1.0  0.0  ...  0.0  0.0  0.0   \n356019  0.0  0.0  1.0  0.0  0.0  1.0  0.0  0.0  0.0  1.0  ...  0.0  0.0  0.0   \n356020  0.0  0.0  1.0  0.0  0.0  1.0  0.0  0.0  1.0  0.0  ...  0.0  0.0  0.0   \n356021  0.0  0.0  1.0  0.0  0.0  1.0  0.0  0.0  0.0  1.0  ...  0.0  0.0  0.0   \n\n         31   32   33   34   35   36   37  \n0       0.0  0.0  0.0  0.0  0.0  1.0  0.0  \n1       0.0  0.0  0.0  0.0  0.0  1.0  0.0  \n2       0.0  0.0  0.0  0.0  0.0  1.0  0.0  \n3       1.0  0.0  0.0  0.0  0.0  1.0  0.0  \n4       0.0  0.0  0.0  0.0  0.0  1.0  0.0  \n...     ...  ...  ...  ...  ...  ...  ...  \n356017  0.0  0.0  0.0  0.0  0.0  1.0  0.0  \n356018  0.0  0.0  0.0  0.0  0.0  1.0  0.0  \n356019  0.0  0.0  0.0  0.0  0.0  1.0  0.0  \n356020  0.0  0.0  0.0  0.0  0.0  1.0  0.0  \n356021  0.0  0.0  0.0  0.0  0.0  1.0  0.0  \n\n[356022 rows x 38 columns]",
      "text/html": "<div>\n<style scoped>\n    .dataframe tbody tr th:only-of-type {\n        vertical-align: middle;\n    }\n\n    .dataframe tbody tr th {\n        vertical-align: top;\n    }\n\n    .dataframe thead th {\n        text-align: right;\n    }\n</style>\n<table border=\"1\" class=\"dataframe\">\n  <thead>\n    <tr style=\"text-align: right;\">\n      <th></th>\n      <th>0</th>\n      <th>1</th>\n      <th>2</th>\n      <th>3</th>\n      <th>4</th>\n      <th>5</th>\n      <th>6</th>\n      <th>7</th>\n      <th>8</th>\n      <th>9</th>\n      <th>...</th>\n      <th>28</th>\n      <th>29</th>\n      <th>30</th>\n      <th>31</th>\n      <th>32</th>\n      <th>33</th>\n      <th>34</th>\n      <th>35</th>\n      <th>36</th>\n      <th>37</th>\n    </tr>\n  </thead>\n  <tbody>\n    <tr>\n      <th>0</th>\n      <td>0.0</td>\n      <td>0.0</td>\n      <td>1.0</td>\n      <td>0.0</td>\n      <td>0.0</td>\n      <td>1.0</td>\n      <td>0.0</td>\n      <td>0.0</td>\n      <td>1.0</td>\n      <td>0.0</td>\n      <td>...</td>\n      <td>0.0</td>\n      <td>0.0</td>\n      <td>0.0</td>\n      <td>0.0</td>\n      <td>0.0</td>\n      <td>0.0</td>\n      <td>0.0</td>\n      <td>0.0</td>\n      <td>1.0</td>\n      <td>0.0</td>\n    </tr>\n    <tr>\n      <th>1</th>\n      <td>1.0</td>\n      <td>0.0</td>\n      <td>0.0</td>\n      <td>0.0</td>\n      <td>0.0</td>\n      <td>1.0</td>\n      <td>0.0</td>\n      <td>0.0</td>\n      <td>0.0</td>\n      <td>1.0</td>\n      <td>...</td>\n      <td>0.0</td>\n      <td>0.0</td>\n      <td>0.0</td>\n      <td>0.0</td>\n      <td>0.0</td>\n      <td>0.0</td>\n      <td>0.0</td>\n      <td>0.0</td>\n      <td>1.0</td>\n      <td>0.0</td>\n    </tr>\n    <tr>\n      <th>2</th>\n      <td>0.0</td>\n      <td>0.0</td>\n      <td>1.0</td>\n      <td>0.0</td>\n      <td>0.0</td>\n      <td>1.0</td>\n      <td>0.0</td>\n      <td>0.0</td>\n      <td>0.0</td>\n      <td>1.0</td>\n      <td>...</td>\n      <td>0.0</td>\n      <td>0.0</td>\n      <td>0.0</td>\n      <td>0.0</td>\n      <td>0.0</td>\n      <td>0.0</td>\n      <td>0.0</td>\n      <td>0.0</td>\n      <td>1.0</td>\n      <td>0.0</td>\n    </tr>\n    <tr>\n      <th>3</th>\n      <td>0.0</td>\n      <td>0.0</td>\n      <td>1.0</td>\n      <td>0.0</td>\n      <td>0.0</td>\n      <td>1.0</td>\n      <td>0.0</td>\n      <td>0.0</td>\n      <td>0.0</td>\n      <td>1.0</td>\n      <td>...</td>\n      <td>0.0</td>\n      <td>0.0</td>\n      <td>0.0</td>\n      <td>1.0</td>\n      <td>0.0</td>\n      <td>0.0</td>\n      <td>0.0</td>\n      <td>0.0</td>\n      <td>1.0</td>\n      <td>0.0</td>\n    </tr>\n    <tr>\n      <th>4</th>\n      <td>1.0</td>\n      <td>0.0</td>\n      <td>0.0</td>\n      <td>0.0</td>\n      <td>0.0</td>\n      <td>0.0</td>\n      <td>0.0</td>\n      <td>1.0</td>\n      <td>0.0</td>\n      <td>1.0</td>\n      <td>...</td>\n      <td>0.0</td>\n      <td>0.0</td>\n      <td>0.0</td>\n      <td>0.0</td>\n      <td>0.0</td>\n      <td>0.0</td>\n      <td>0.0</td>\n      <td>0.0</td>\n      <td>1.0</td>\n      <td>0.0</td>\n    </tr>\n    <tr>\n      <th>...</th>\n      <td>...</td>\n      <td>...</td>\n      <td>...</td>\n      <td>...</td>\n      <td>...</td>\n      <td>...</td>\n      <td>...</td>\n      <td>...</td>\n      <td>...</td>\n      <td>...</td>\n      <td>...</td>\n      <td>...</td>\n      <td>...</td>\n      <td>...</td>\n      <td>...</td>\n      <td>...</td>\n      <td>...</td>\n      <td>...</td>\n      <td>...</td>\n      <td>...</td>\n      <td>...</td>\n    </tr>\n    <tr>\n      <th>356017</th>\n      <td>0.0</td>\n      <td>0.0</td>\n      <td>1.0</td>\n      <td>0.0</td>\n      <td>0.0</td>\n      <td>1.0</td>\n      <td>0.0</td>\n      <td>0.0</td>\n      <td>1.0</td>\n      <td>0.0</td>\n      <td>...</td>\n      <td>0.0</td>\n      <td>0.0</td>\n      <td>0.0</td>\n      <td>0.0</td>\n      <td>0.0</td>\n      <td>0.0</td>\n      <td>0.0</td>\n      <td>0.0</td>\n      <td>1.0</td>\n      <td>0.0</td>\n    </tr>\n    <tr>\n      <th>356018</th>\n      <td>0.0</td>\n      <td>0.0</td>\n      <td>1.0</td>\n      <td>0.0</td>\n      <td>0.0</td>\n      <td>1.0</td>\n      <td>0.0</td>\n      <td>0.0</td>\n      <td>1.0</td>\n      <td>0.0</td>\n      <td>...</td>\n      <td>0.0</td>\n      <td>0.0</td>\n      <td>0.0</td>\n      <td>0.0</td>\n      <td>0.0</td>\n      <td>0.0</td>\n      <td>0.0</td>\n      <td>0.0</td>\n      <td>1.0</td>\n      <td>0.0</td>\n    </tr>\n    <tr>\n      <th>356019</th>\n      <td>0.0</td>\n      <td>0.0</td>\n      <td>1.0</td>\n      <td>0.0</td>\n      <td>0.0</td>\n      <td>1.0</td>\n      <td>0.0</td>\n      <td>0.0</td>\n      <td>0.0</td>\n      <td>1.0</td>\n      <td>...</td>\n      <td>0.0</td>\n      <td>0.0</td>\n      <td>0.0</td>\n      <td>0.0</td>\n      <td>0.0</td>\n      <td>0.0</td>\n      <td>0.0</td>\n      <td>0.0</td>\n      <td>1.0</td>\n      <td>0.0</td>\n    </tr>\n    <tr>\n      <th>356020</th>\n      <td>0.0</td>\n      <td>0.0</td>\n      <td>1.0</td>\n      <td>0.0</td>\n      <td>0.0</td>\n      <td>1.0</td>\n      <td>0.0</td>\n      <td>0.0</td>\n      <td>1.0</td>\n      <td>0.0</td>\n      <td>...</td>\n      <td>0.0</td>\n      <td>0.0</td>\n      <td>0.0</td>\n      <td>0.0</td>\n      <td>0.0</td>\n      <td>0.0</td>\n      <td>0.0</td>\n      <td>0.0</td>\n      <td>1.0</td>\n      <td>0.0</td>\n    </tr>\n    <tr>\n      <th>356021</th>\n      <td>0.0</td>\n      <td>0.0</td>\n      <td>1.0</td>\n      <td>0.0</td>\n      <td>0.0</td>\n      <td>1.0</td>\n      <td>0.0</td>\n      <td>0.0</td>\n      <td>0.0</td>\n      <td>1.0</td>\n      <td>...</td>\n      <td>0.0</td>\n      <td>0.0</td>\n      <td>0.0</td>\n      <td>0.0</td>\n      <td>0.0</td>\n      <td>0.0</td>\n      <td>0.0</td>\n      <td>0.0</td>\n      <td>1.0</td>\n      <td>0.0</td>\n    </tr>\n  </tbody>\n</table>\n<p>356022 rows × 38 columns</p>\n</div>"
     },
     "execution_count": 55,
     "metadata": {},
     "output_type": "execute_result"
    }
   ],
   "source": [
    "val"
   ],
   "metadata": {
    "collapsed": false,
    "ExecuteTime": {
     "end_time": "2023-11-21T07:10:50.039780704Z",
     "start_time": "2023-11-21T07:10:49.961836192Z"
    }
   },
   "id": "99170ec5b3135e2e"
  },
  {
   "cell_type": "code",
   "execution_count": 56,
   "outputs": [
    {
     "data": {
      "text/plain": "        geo_level_1_id  geo_level_2_id  geo_level_3_id  count_floors_pre_eq  \\\n0                   10             804            1371                    2   \n1                   25             211            5071                    2   \n2                   22             816           12104                    2   \n3                    6             449            3741                    1   \n4                   20             254            5266                    2   \n...                ...             ...             ...                  ...   \n356017               5             598            5662                    2   \n356018              27             533            5800                    3   \n356019              21             313           11708                    3   \n356020               6            1126           11865                    1   \n356021               4              55            2653                    2   \n\n        age  area_percentage  height_percentage  has_superstructure_adobe_mud  \\\n0         5                7                  6                             0   \n1        25                9                  4                             0   \n2        10                5                  4                             0   \n3        10                8                  3                             0   \n4        10               10                  6                             0   \n...     ...              ...                ...                           ...   \n356017  995                6                  8                             0   \n356018   15               19                  9                             1   \n356019   15                5                  5                             0   \n356020   25                6                  3                             0   \n356021    5                5                  5                             0   \n\n        has_superstructure_mud_mortar_stone  has_superstructure_stone_flag  \\\n0                                         1                              0   \n1                                         1                              0   \n2                                         1                              0   \n3                                         1                              0   \n4                                         1                              0   \n...                                     ...                            ...   \n356017                                    0                              0   \n356018                                    0                              0   \n356019                                    1                              0   \n356020                                    1                              0   \n356021                                    1                              0   \n\n        ...   28   29   30   31   32   33   34   35   36   37  \n0       ...  0.0  0.0  0.0  0.0  0.0  0.0  0.0  0.0  1.0  0.0  \n1       ...  0.0  0.0  0.0  0.0  0.0  0.0  0.0  0.0  1.0  0.0  \n2       ...  0.0  0.0  0.0  0.0  0.0  0.0  0.0  0.0  1.0  0.0  \n3       ...  0.0  0.0  0.0  1.0  0.0  0.0  0.0  0.0  1.0  0.0  \n4       ...  0.0  0.0  0.0  0.0  0.0  0.0  0.0  0.0  1.0  0.0  \n...     ...  ...  ...  ...  ...  ...  ...  ...  ...  ...  ...  \n356017  ...  0.0  0.0  0.0  0.0  0.0  0.0  0.0  0.0  1.0  0.0  \n356018  ...  0.0  0.0  0.0  0.0  0.0  0.0  0.0  0.0  1.0  0.0  \n356019  ...  0.0  0.0  0.0  0.0  0.0  0.0  0.0  0.0  1.0  0.0  \n356020  ...  0.0  0.0  0.0  0.0  0.0  0.0  0.0  0.0  1.0  0.0  \n356021  ...  0.0  0.0  0.0  0.0  0.0  0.0  0.0  0.0  1.0  0.0  \n\n[356022 rows x 68 columns]",
      "text/html": "<div>\n<style scoped>\n    .dataframe tbody tr th:only-of-type {\n        vertical-align: middle;\n    }\n\n    .dataframe tbody tr th {\n        vertical-align: top;\n    }\n\n    .dataframe thead th {\n        text-align: right;\n    }\n</style>\n<table border=\"1\" class=\"dataframe\">\n  <thead>\n    <tr style=\"text-align: right;\">\n      <th></th>\n      <th>geo_level_1_id</th>\n      <th>geo_level_2_id</th>\n      <th>geo_level_3_id</th>\n      <th>count_floors_pre_eq</th>\n      <th>age</th>\n      <th>area_percentage</th>\n      <th>height_percentage</th>\n      <th>has_superstructure_adobe_mud</th>\n      <th>has_superstructure_mud_mortar_stone</th>\n      <th>has_superstructure_stone_flag</th>\n      <th>...</th>\n      <th>28</th>\n      <th>29</th>\n      <th>30</th>\n      <th>31</th>\n      <th>32</th>\n      <th>33</th>\n      <th>34</th>\n      <th>35</th>\n      <th>36</th>\n      <th>37</th>\n    </tr>\n  </thead>\n  <tbody>\n    <tr>\n      <th>0</th>\n      <td>10</td>\n      <td>804</td>\n      <td>1371</td>\n      <td>2</td>\n      <td>5</td>\n      <td>7</td>\n      <td>6</td>\n      <td>0</td>\n      <td>1</td>\n      <td>0</td>\n      <td>...</td>\n      <td>0.0</td>\n      <td>0.0</td>\n      <td>0.0</td>\n      <td>0.0</td>\n      <td>0.0</td>\n      <td>0.0</td>\n      <td>0.0</td>\n      <td>0.0</td>\n      <td>1.0</td>\n      <td>0.0</td>\n    </tr>\n    <tr>\n      <th>1</th>\n      <td>25</td>\n      <td>211</td>\n      <td>5071</td>\n      <td>2</td>\n      <td>25</td>\n      <td>9</td>\n      <td>4</td>\n      <td>0</td>\n      <td>1</td>\n      <td>0</td>\n      <td>...</td>\n      <td>0.0</td>\n      <td>0.0</td>\n      <td>0.0</td>\n      <td>0.0</td>\n      <td>0.0</td>\n      <td>0.0</td>\n      <td>0.0</td>\n      <td>0.0</td>\n      <td>1.0</td>\n      <td>0.0</td>\n    </tr>\n    <tr>\n      <th>2</th>\n      <td>22</td>\n      <td>816</td>\n      <td>12104</td>\n      <td>2</td>\n      <td>10</td>\n      <td>5</td>\n      <td>4</td>\n      <td>0</td>\n      <td>1</td>\n      <td>0</td>\n      <td>...</td>\n      <td>0.0</td>\n      <td>0.0</td>\n      <td>0.0</td>\n      <td>0.0</td>\n      <td>0.0</td>\n      <td>0.0</td>\n      <td>0.0</td>\n      <td>0.0</td>\n      <td>1.0</td>\n      <td>0.0</td>\n    </tr>\n    <tr>\n      <th>3</th>\n      <td>6</td>\n      <td>449</td>\n      <td>3741</td>\n      <td>1</td>\n      <td>10</td>\n      <td>8</td>\n      <td>3</td>\n      <td>0</td>\n      <td>1</td>\n      <td>0</td>\n      <td>...</td>\n      <td>0.0</td>\n      <td>0.0</td>\n      <td>0.0</td>\n      <td>1.0</td>\n      <td>0.0</td>\n      <td>0.0</td>\n      <td>0.0</td>\n      <td>0.0</td>\n      <td>1.0</td>\n      <td>0.0</td>\n    </tr>\n    <tr>\n      <th>4</th>\n      <td>20</td>\n      <td>254</td>\n      <td>5266</td>\n      <td>2</td>\n      <td>10</td>\n      <td>10</td>\n      <td>6</td>\n      <td>0</td>\n      <td>1</td>\n      <td>0</td>\n      <td>...</td>\n      <td>0.0</td>\n      <td>0.0</td>\n      <td>0.0</td>\n      <td>0.0</td>\n      <td>0.0</td>\n      <td>0.0</td>\n      <td>0.0</td>\n      <td>0.0</td>\n      <td>1.0</td>\n      <td>0.0</td>\n    </tr>\n    <tr>\n      <th>...</th>\n      <td>...</td>\n      <td>...</td>\n      <td>...</td>\n      <td>...</td>\n      <td>...</td>\n      <td>...</td>\n      <td>...</td>\n      <td>...</td>\n      <td>...</td>\n      <td>...</td>\n      <td>...</td>\n      <td>...</td>\n      <td>...</td>\n      <td>...</td>\n      <td>...</td>\n      <td>...</td>\n      <td>...</td>\n      <td>...</td>\n      <td>...</td>\n      <td>...</td>\n      <td>...</td>\n    </tr>\n    <tr>\n      <th>356017</th>\n      <td>5</td>\n      <td>598</td>\n      <td>5662</td>\n      <td>2</td>\n      <td>995</td>\n      <td>6</td>\n      <td>8</td>\n      <td>0</td>\n      <td>0</td>\n      <td>0</td>\n      <td>...</td>\n      <td>0.0</td>\n      <td>0.0</td>\n      <td>0.0</td>\n      <td>0.0</td>\n      <td>0.0</td>\n      <td>0.0</td>\n      <td>0.0</td>\n      <td>0.0</td>\n      <td>1.0</td>\n      <td>0.0</td>\n    </tr>\n    <tr>\n      <th>356018</th>\n      <td>27</td>\n      <td>533</td>\n      <td>5800</td>\n      <td>3</td>\n      <td>15</td>\n      <td>19</td>\n      <td>9</td>\n      <td>1</td>\n      <td>0</td>\n      <td>0</td>\n      <td>...</td>\n      <td>0.0</td>\n      <td>0.0</td>\n      <td>0.0</td>\n      <td>0.0</td>\n      <td>0.0</td>\n      <td>0.0</td>\n      <td>0.0</td>\n      <td>0.0</td>\n      <td>1.0</td>\n      <td>0.0</td>\n    </tr>\n    <tr>\n      <th>356019</th>\n      <td>21</td>\n      <td>313</td>\n      <td>11708</td>\n      <td>3</td>\n      <td>15</td>\n      <td>5</td>\n      <td>5</td>\n      <td>0</td>\n      <td>1</td>\n      <td>0</td>\n      <td>...</td>\n      <td>0.0</td>\n      <td>0.0</td>\n      <td>0.0</td>\n      <td>0.0</td>\n      <td>0.0</td>\n      <td>0.0</td>\n      <td>0.0</td>\n      <td>0.0</td>\n      <td>1.0</td>\n      <td>0.0</td>\n    </tr>\n    <tr>\n      <th>356020</th>\n      <td>6</td>\n      <td>1126</td>\n      <td>11865</td>\n      <td>1</td>\n      <td>25</td>\n      <td>6</td>\n      <td>3</td>\n      <td>0</td>\n      <td>1</td>\n      <td>0</td>\n      <td>...</td>\n      <td>0.0</td>\n      <td>0.0</td>\n      <td>0.0</td>\n      <td>0.0</td>\n      <td>0.0</td>\n      <td>0.0</td>\n      <td>0.0</td>\n      <td>0.0</td>\n      <td>1.0</td>\n      <td>0.0</td>\n    </tr>\n    <tr>\n      <th>356021</th>\n      <td>4</td>\n      <td>55</td>\n      <td>2653</td>\n      <td>2</td>\n      <td>5</td>\n      <td>5</td>\n      <td>5</td>\n      <td>0</td>\n      <td>1</td>\n      <td>0</td>\n      <td>...</td>\n      <td>0.0</td>\n      <td>0.0</td>\n      <td>0.0</td>\n      <td>0.0</td>\n      <td>0.0</td>\n      <td>0.0</td>\n      <td>0.0</td>\n      <td>0.0</td>\n      <td>1.0</td>\n      <td>0.0</td>\n    </tr>\n  </tbody>\n</table>\n<p>356022 rows × 68 columns</p>\n</div>"
     },
     "execution_count": 56,
     "metadata": {},
     "output_type": "execute_result"
    }
   ],
   "source": [
    "result = pd.concat([fin, val], axis=1)\n",
    "result"
   ],
   "metadata": {
    "collapsed": false,
    "ExecuteTime": {
     "end_time": "2023-11-21T07:10:58.680572731Z",
     "start_time": "2023-11-21T07:10:58.551602603Z"
    }
   },
   "id": "6b75ee2fb2a9c42"
  },
  {
   "cell_type": "code",
   "execution_count": 57,
   "outputs": [
    {
     "data": {
      "text/plain": "array([[-0.59579677,  0.27274631, -1.33331424, ..., -0.06932823,\n         0.20466196, -0.09120368],\n       [ 1.25505728, -1.13739869, -0.32425674, ..., -0.06932823,\n         0.20466196, -0.09120368],\n       [ 0.88488647,  0.30128213,  1.59377067, ..., -0.06932823,\n         0.20466196, -0.09120368],\n       ...,\n       [ 0.7614962 , -0.89484424,  1.48577424, ..., -0.06932823,\n         0.20466196, -0.09120368],\n       [-1.08935786,  1.03845743,  1.52859101, ..., -0.06932823,\n         0.20466196, -0.09120368],\n       [-1.3361384 , -1.50836432, -0.98368945, ..., -0.06932823,\n         0.20466196, -0.09120368]])"
     },
     "execution_count": 57,
     "metadata": {},
     "output_type": "execute_result"
    }
   ],
   "source": [
    "X_scaled = StandardScaler().fit_transform(result.values)\n",
    "X_scaled"
   ],
   "metadata": {
    "collapsed": false,
    "ExecuteTime": {
     "end_time": "2023-11-21T07:11:11.677838158Z",
     "start_time": "2023-11-21T07:11:11.483944153Z"
    }
   },
   "id": "603598fffd94b852"
  },
  {
   "cell_type": "code",
   "execution_count": 73,
   "outputs": [],
   "source": [
    "ty = y_res - 1\n",
    "X_train, X_test, y_train, y_test = tts(X_scaled, ty, test_size=0.3, shuffle=True, random_state=15)"
   ],
   "metadata": {
    "collapsed": false,
    "ExecuteTime": {
     "end_time": "2023-11-21T07:15:07.660909112Z",
     "start_time": "2023-11-21T07:15:07.490608013Z"
    }
   },
   "id": "379ff343ce364cf0"
  },
  {
   "cell_type": "code",
   "execution_count": 76,
   "outputs": [
    {
     "data": {
      "text/plain": "(array([0, 1, 2]), array([83236, 83047, 82932]))"
     },
     "execution_count": 76,
     "metadata": {},
     "output_type": "execute_result"
    }
   ],
   "source": [
    "np.unique(y_train, return_counts=True)"
   ],
   "metadata": {
    "collapsed": false,
    "ExecuteTime": {
     "end_time": "2023-11-21T07:15:27.831164379Z",
     "start_time": "2023-11-21T07:15:27.815179461Z"
    }
   },
   "id": "fd66a07c2e1b40db"
  },
  {
   "cell_type": "code",
   "execution_count": 74,
   "outputs": [
    {
     "data": {
      "text/plain": "349132    2\n293411    0\n339938    2\n28276     1\n12582     2\n         ..\n104832    2\n180087    1\n199301    1\n270220    0\n269768    0\nName: damage_grade, Length: 249215, dtype: int64"
     },
     "execution_count": 74,
     "metadata": {},
     "output_type": "execute_result"
    }
   ],
   "source": [
    "y_train"
   ],
   "metadata": {
    "collapsed": false,
    "ExecuteTime": {
     "end_time": "2023-11-21T07:15:08.260356564Z",
     "start_time": "2023-11-21T07:15:08.258086206Z"
    }
   },
   "id": "c6545e40d7aac4df"
  },
  {
   "cell_type": "code",
   "execution_count": 84,
   "outputs": [],
   "source": [
    "output_size = np.unique(ty).shape[0]\n",
    "input_size = X_train.shape[1]\n",
    "\n",
    "one = LVQ3(input_size, output_size, random_state=21, epoch=100, alpha=0.65, beta=0.35, m=0.2,epsilon=0.3)\n",
    "one.fit(X_train, y_train)\n"
   ],
   "metadata": {
    "collapsed": false,
    "ExecuteTime": {
     "end_time": "2023-11-21T07:32:21.257747059Z",
     "start_time": "2023-11-21T07:19:07.226064783Z"
    }
   },
   "id": "1fc0af786a67bbb9"
  },
  {
   "cell_type": "code",
   "execution_count": 85,
   "outputs": [
    {
     "data": {
      "text/plain": "array([[-8.17914247e-01,  1.11062055e-01,  8.15728408e-01,\n         5.43095686e-01, -2.63950786e-01,  1.92148665e-01,\n         1.16851082e+00, -3.71454421e-01, -8.26579099e-01,\n        -1.58988779e-01, -1.22133779e-01, -3.45842006e-01,\n         2.21310867e+00, -4.43053121e-01, -9.86514324e-02,\n         2.85789573e+00, -1.55359716e-01, -1.01932881e-01,\n        -2.66698938e-01,  3.05729132e+00,  9.04394201e-01,\n         3.30042451e-01, -8.86557928e-02, -1.82312879e-02,\n        -7.41950040e-03, -2.07402348e-02, -1.03500400e-02,\n         6.85488689e+01, -1.07312994e-02, -6.36188958e-02,\n        -3.54753850e-01, -1.63298539e-01,  3.97464205e-01,\n        -8.25837247e-02,  2.22665876e+00, -1.22252125e+00,\n        -2.58311777e-01, -1.39727281e-01, -9.87761471e-01,\n        -3.96029043e-01,  1.93560286e+00, -1.11048475e+00,\n        -3.38308033e-02,  1.52921785e+00, -2.94310070e-01,\n        -5.82797250e-02, -4.83893404e-01, -6.18223805e-01,\n         2.37612586e+00, -4.23474865e-01, -2.17463212e-01,\n        -4.29804824e-01, -1.11469685e+00,  1.51515950e+00,\n        -3.68501196e-02, -3.03552334e-02,  1.70907863e-01,\n        -5.86250704e-03, -3.27418980e-03, -1.17774170e-02,\n        -1.47996678e-02, -1.24063223e-01, -2.55789382e-02,\n        -1.06302181e-01, -1.60134736e-01, -6.92889658e-02,\n         2.07032621e-01, -9.10953782e-02],\n       [-2.46490870e+00,  2.11594351e-01, -1.38595730e+00,\n         2.21435520e+00,  1.17011377e+00, -7.99317829e+00,\n         1.98282071e+00, -1.29190730e+00,  3.48861209e+00,\n         1.04909700e+00,  1.31554028e+00, -8.32257243e-01,\n        -4.45569799e+00, -7.01192297e-01, -2.38188160e-01,\n        -2.43111172e-01,  3.14413921e-01,  9.85668211e-02,\n         1.48067503e+00, -5.81054650e+00, -1.71164600e+00,\n        -7.32077264e+00, -8.68355627e-01,  1.00782034e+00,\n        -6.08321217e-01,  5.66100257e-01,  1.33832873e+00,\n        -1.34680032e+00,  8.90201017e-01, -1.42730071e+00,\n         2.31602477e-01, -9.86041465e-02,  3.70102555e-01,\n         9.22931286e-01, -4.96933640e+00,  8.16800585e-01,\n         4.82286500e-01,  8.41524619e-01,  2.10061810e+00,\n         6.56145794e-01, -6.11043123e+00,  3.39206420e+00,\n         1.53281369e+00, -3.14816140e+00,  7.77348394e-01,\n        -8.34362821e-02,  1.59314989e+00,  3.63318904e+00,\n        -7.45642065e+00,  7.92101610e-01,  3.75135353e-01,\n        -2.00855035e-02, -4.76964754e-01, -2.03641753e-01,\n        -6.61092330e-01,  8.71915706e-01,  5.77294188e-01,\n        -1.05593484e+00,  8.25546943e-01,  9.03858135e-01,\n         7.61886120e-01, -7.78189148e-01, -5.17474771e-01,\n        -6.45147044e-01,  1.34587554e+00,  1.37646532e+00,\n         2.55742856e-01, -1.08201464e+00],\n       [-2.10907161e+00,  4.36216996e+00, -4.49161174e+00,\n         8.66658359e-02,  9.39485531e-01, -1.53896292e+00,\n        -1.30113428e+00,  6.78042924e+00, -9.54025574e-01,\n        -4.98680033e-01,  1.41501398e-01,  7.93826912e+00,\n        -3.32371385e+00, -2.44460340e+00, -3.01385723e+00,\n        -3.83057859e+00, -1.28284685e+00,  9.37014081e-01,\n        -4.20045671e+00, -2.81897265e+00,  1.09609569e+00,\n        -4.15134084e-01, -9.08267536e-01, -4.82856780e-01,\n         5.51689186e-01, -6.67412845e-01, -7.30751557e-01,\n        -6.73601057e+01,  1.27224100e-01,  8.01078547e-01,\n         1.45395547e+00, -6.16911849e-01, -1.23853234e-01,\n        -1.10857489e+00, -6.25174792e-01,  3.59293166e+00,\n         6.28707861e-01, -2.98994299e+00,  3.78029353e+00,\n        -2.68516300e+00, -2.03757184e+00,  2.53747452e+00,\n        -5.45860877e-01, -5.93427450e-01,  1.66779435e+00,\n         6.68522820e-01, -3.38334410e-01,  2.27647843e+00,\n        -2.48367656e+00,  1.66746345e+00, -1.03780867e+00,\n         2.36094919e+01, -2.32840406e+00, -3.10247980e+00,\n         5.29815876e-01, -8.43258432e-01, -4.01828482e-02,\n         3.78574726e-02, -1.22832489e+00,  9.95788034e-01,\n         1.46576839e+00,  3.54080605e-01, -2.84655126e-01,\n         5.48955643e-01, -2.32207180e-01,  3.39087818e-01,\n        -3.28824946e-01, -1.03935612e+00]])"
     },
     "execution_count": 85,
     "metadata": {},
     "output_type": "execute_result"
    }
   ],
   "source": [
    "one.weight"
   ],
   "metadata": {
    "collapsed": false,
    "ExecuteTime": {
     "end_time": "2023-11-21T07:32:21.299160606Z",
     "start_time": "2023-11-21T07:32:21.298520730Z"
    }
   },
   "id": "a9abb00e924baef7"
  },
  {
   "cell_type": "code",
   "execution_count": 86,
   "outputs": [
    {
     "data": {
      "text/plain": "349132    2\n293411    0\n339938    2\n28276     1\n12582     2\n         ..\n104832    2\n180087    1\n199301    1\n270220    0\n269768    0\nName: damage_grade, Length: 249215, dtype: int64"
     },
     "execution_count": 86,
     "metadata": {},
     "output_type": "execute_result"
    }
   ],
   "source": [
    "y_train"
   ],
   "metadata": {
    "collapsed": false,
    "ExecuteTime": {
     "end_time": "2023-11-21T07:32:21.299455674Z",
     "start_time": "2023-11-21T07:32:21.298681302Z"
    }
   },
   "id": "b7442dd9dd62517f"
  },
  {
   "cell_type": "code",
   "execution_count": 87,
   "outputs": [
    {
     "data": {
      "text/plain": "array([1, 1, 1, ..., 1, 1, 1])"
     },
     "execution_count": 87,
     "metadata": {},
     "output_type": "execute_result"
    }
   ],
   "source": [
    "res"
   ],
   "metadata": {
    "collapsed": false,
    "ExecuteTime": {
     "end_time": "2023-11-21T07:32:21.318217994Z",
     "start_time": "2023-11-21T07:32:21.298746478Z"
    }
   },
   "id": "5a53bea6fc98a65"
  },
  {
   "cell_type": "code",
   "execution_count": 91,
   "outputs": [
    {
     "data": {
      "text/plain": "(array([0, 1]), array([     6, 106801]))"
     },
     "execution_count": 91,
     "metadata": {},
     "output_type": "execute_result"
    }
   ],
   "source": [
    "np.unique(res, return_counts=True)"
   ],
   "metadata": {
    "collapsed": false,
    "ExecuteTime": {
     "end_time": "2023-11-21T07:36:36.785055760Z",
     "start_time": "2023-11-21T07:36:36.782404723Z"
    }
   },
   "id": "d6b43a56117f168d"
  },
  {
   "cell_type": "code",
   "execution_count": 89,
   "outputs": [
    {
     "name": "stdout",
     "output_type": "stream",
     "text": [
      "              precision    recall  f1-score   support\n",
      "\n",
      "           0       0.00      0.33      0.00         6\n",
      "           1       1.00      0.33      0.50    106801\n",
      "           2       0.00      1.00      0.00         0\n",
      "\n",
      "    accuracy                           0.33    106807\n",
      "   macro avg       0.33      0.56      0.17    106807\n",
      "weighted avg       1.00      0.33      0.50    106807\n"
     ]
    }
   ],
   "source": [
    "res = one.predict(X_test)\n",
    "print(classification_report(res, y_test, zero_division=1))"
   ],
   "metadata": {
    "collapsed": false,
    "ExecuteTime": {
     "end_time": "2023-11-21T07:32:23.170704299Z",
     "start_time": "2023-11-21T07:32:21.340610555Z"
    }
   },
   "id": "c70fe90ef9a286b2"
  },
  {
   "cell_type": "code",
   "execution_count": null,
   "outputs": [],
   "source": [],
   "metadata": {
    "collapsed": false
   },
   "id": "845018d9584c47c6"
  }
 ],
 "metadata": {
  "kernelspec": {
   "display_name": "Python 3",
   "language": "python",
   "name": "python3"
  },
  "language_info": {
   "codemirror_mode": {
    "name": "ipython",
    "version": 2
   },
   "file_extension": ".py",
   "mimetype": "text/x-python",
   "name": "python",
   "nbconvert_exporter": "python",
   "pygments_lexer": "ipython2",
   "version": "2.7.6"
  }
 },
 "nbformat": 4,
 "nbformat_minor": 5
}
