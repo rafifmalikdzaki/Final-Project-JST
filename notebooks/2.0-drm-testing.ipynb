{
 "cells": [
  {
   "cell_type": "code",
   "execution_count": 3,
   "id": "initial_id",
   "metadata": {
    "collapsed": true,
    "ExecuteTime": {
     "end_time": "2023-11-24T09:51:01.647622659Z",
     "start_time": "2023-11-24T09:51:01.606678132Z"
    }
   },
   "outputs": [],
   "source": [
    "from sklearn.model_selection import train_test_split as tts\n",
    "from sklearn.metrics import accuracy_score, classification_report\n",
    "import numpy as np\n",
    "from LVQ.lvq import LVQ3\n",
    "from tqdm import tqdm\n",
    "import warnings\n",
    "warnings.filterwarnings(\"ignore\")\n",
    "import pandas as pd"
   ]
  },
  {
   "cell_type": "code",
   "execution_count": 4,
   "outputs": [],
   "source": [
    "X_l = np.load(\"../data/processed/data.npy\")\n",
    "y_l = np.load(\"../data/processed/label.npy\")\n",
    "X_train, X_test, y_train, y_test = tts(X_l, y_l, test_size=0.20, random_state=15)\n",
    "output_size = np.unique(y_l).shape[0]\n",
    "input_size = X_train.shape[1]"
   ],
   "metadata": {
    "collapsed": false,
    "ExecuteTime": {
     "end_time": "2023-11-24T09:51:01.814235451Z",
     "start_time": "2023-11-24T09:51:01.735584523Z"
    }
   },
   "id": "7d344894b90bb84d"
  },
  {
   "cell_type": "code",
   "execution_count": 5,
   "outputs": [
    {
     "name": "stdout",
     "output_type": "stream",
     "text": [
      "              precision    recall  f1-score   support\n",
      "\n",
      "           0       1.00      0.35      0.52     65819\n",
      "           1       0.00      0.28      0.00        18\n",
      "           2       0.00      1.00      0.00         0\n",
      "\n",
      "    accuracy                           0.35     65837\n",
      "   macro avg       0.33      0.54      0.17     65837\n",
      "weighted avg       1.00      0.35      0.52     65837\n"
     ]
    }
   ],
   "source": [
    "sfs = LVQ3(input_size=input_size, output_size=output_size, epoch=3)\n",
    "sfs.fit(X_train, y_train)\n",
    "res = sfs.predict(X_test)\n",
    "print(classification_report(res, y_test, zero_division=1))"
   ],
   "metadata": {
    "collapsed": false,
    "ExecuteTime": {
     "end_time": "2023-11-24T09:51:30.955716443Z",
     "start_time": "2023-11-24T09:51:01.894388404Z"
    }
   },
   "id": "ab733fadcf82cce7"
  },
  {
   "cell_type": "code",
   "execution_count": 6,
   "outputs": [
    {
     "name": "stdout",
     "output_type": "stream",
     "text": [
      "              precision    recall  f1-score   support\n",
      "\n",
      "           0       0.66      0.78      0.71     19673\n",
      "           1       0.25      0.44      0.32     11920\n",
      "           2       0.77      0.48      0.59     34244\n",
      "\n",
      "    accuracy                           0.56     65837\n",
      "   macro avg       0.56      0.57      0.54     65837\n",
      "weighted avg       0.64      0.56      0.58     65837\n"
     ]
    }
   ],
   "source": [
    "sfs = LVQ3(input_size=input_size, output_size=output_size, epoch=3, dMethod=\"cosine\")\n",
    "sfs.fit(X_train, y_train)\n",
    "res = sfs.predict(X_test)\n",
    "print(classification_report(res, y_test, zero_division=1))"
   ],
   "metadata": {
    "collapsed": false,
    "ExecuteTime": {
     "end_time": "2023-11-24T09:52:09.092697094Z",
     "start_time": "2023-11-24T09:51:30.955566474Z"
    }
   },
   "id": "1ee334368869c986"
  },
  {
   "cell_type": "code",
   "execution_count": 3,
   "outputs": [],
   "source": [
    "# Learning 0.45, 0.35, 0.25\n",
    "# Epoch: 5, 10, 15\n",
    "# dMethod: \"cosine\", \"euclidean\"\n",
    "# epsilon: 0.2, 0.3, 0.4\n",
    "# Beta: 0.25, 0.3, 0.35\n",
    "# decay: 0.05, 0.15, 0.25\n"
   ],
   "metadata": {
    "collapsed": false,
    "ExecuteTime": {
     "end_time": "2023-11-24T08:10:12.627389053Z",
     "start_time": "2023-11-24T08:10:12.623411423Z"
    }
   },
   "id": "cfd107581139f342"
  },
  {
   "cell_type": "code",
   "execution_count": 4,
   "outputs": [],
   "source": [
    "param = {\n",
    "    \"lr\": [0.25, 0.35],\n",
    "    \"Epoch\": [2, 3],\n",
    "    \"epsilon\": [0.25, 0.35],\n",
    "    \"beta\": [0.25, 0.3],\n",
    "    \"decay\": [0.15, 0.25],\n",
    "    \"dMethod\": [\"cosine\", \"euclidean\"]\n",
    "}"
   ],
   "metadata": {
    "collapsed": false,
    "ExecuteTime": {
     "end_time": "2023-11-24T08:10:12.667070819Z",
     "start_time": "2023-11-24T08:10:12.625661539Z"
    }
   },
   "id": "3796844bfcebe180"
  },
  {
   "cell_type": "code",
   "execution_count": 5,
   "outputs": [
    {
     "name": "stderr",
     "output_type": "stream",
     "text": [
      "Grid searching: 100%|██████████| 64/64 [26:29<00:00, 24.26s/it]"
     ]
    }
   ],
   "source": [
    "result = {}\n",
    "tot_comb = 2 * 2 * 2 * 2 * 2 * 2\n",
    "\n",
    "pbar = tqdm(desc=\"Grid searching\", total=tot_comb)\n",
    "Combination = 1\n",
    "for dMethod in param[\"dMethod\"]:\n",
    "    for lr in param[\"lr\"]:\n",
    "        for epoch in param[\"Epoch\"]:\n",
    "            for eps in param[\"epsilon\"]:\n",
    "                for beta in param[\"beta\"]:\n",
    "                    for decay in param[\"decay\"]:\n",
    "                        # dMethod, lr, epoch, epsilon, beta, decay, akurasi\n",
    "                        params = [dMethod, lr, epoch, eps, beta, decay]\n",
    "                        grid = LVQ3(input_size=input_size, output_size=output_size, dMethod=dMethod, alpha=lr, epoch=epoch,\n",
    "                                    epsilon=eps, beta=beta, decay=decay, random_state=12345)\n",
    "                        grid.fit(X_train, y_train)\n",
    "                        g_res = grid.predict(X_test)\n",
    "                        params.append(accuracy_score(g_res, y_test))\n",
    "                        t = \"Combination_\" + str(Combination)\n",
    "                        result[t] = params\n",
    "                        Combination += 1\n",
    "                        pbar.update(1)"
   ],
   "metadata": {
    "collapsed": false,
    "ExecuteTime": {
     "end_time": "2023-11-24T08:36:42.455212248Z",
     "start_time": "2023-11-24T08:10:12.666859884Z"
    }
   },
   "id": "bb058f84f4f0fa93"
  },
  {
   "cell_type": "code",
   "execution_count": 26,
   "outputs": [],
   "source": [
    "df = pd.DataFrame(result).T\n",
    "df.columns = [\"dMethod\", \"Learning Rate\", \"Epoch\", \"Epsilon\", \"Beta\", \"Decay\", \"Akurasi\"]\n",
    "dfs = df.reset_index(drop=\"index\")"
   ],
   "metadata": {
    "collapsed": false,
    "ExecuteTime": {
     "end_time": "2023-11-24T08:52:18.996991344Z",
     "start_time": "2023-11-24T08:52:18.955621713Z"
    }
   },
   "id": "cfdd6416fe661b1e"
  },
  {
   "cell_type": "code",
   "execution_count": 27,
   "outputs": [
    {
     "data": {
      "text/plain": "      dMethod Learning Rate Epoch Epsilon  Beta Decay   Akurasi\n0      cosine          0.25     2    0.25  0.25  0.15  0.487978\n1      cosine          0.25     2    0.25  0.25  0.25  0.472424\n2      cosine          0.25     2    0.25   0.3  0.15  0.487978\n3      cosine          0.25     2    0.25   0.3  0.25  0.472424\n4      cosine          0.25     2    0.35  0.25  0.15  0.524416\n..        ...           ...   ...     ...   ...   ...       ...\n59  euclidean          0.35     3    0.25   0.3  0.25  0.350608\n60  euclidean          0.35     3    0.35  0.25  0.15  0.322159\n61  euclidean          0.35     3    0.35  0.25  0.25  0.322159\n62  euclidean          0.35     3    0.35   0.3  0.15  0.322159\n63  euclidean          0.35     3    0.35   0.3  0.25  0.322159\n\n[64 rows x 7 columns]",
      "text/html": "<div>\n<style scoped>\n    .dataframe tbody tr th:only-of-type {\n        vertical-align: middle;\n    }\n\n    .dataframe tbody tr th {\n        vertical-align: top;\n    }\n\n    .dataframe thead th {\n        text-align: right;\n    }\n</style>\n<table border=\"1\" class=\"dataframe\">\n  <thead>\n    <tr style=\"text-align: right;\">\n      <th></th>\n      <th>dMethod</th>\n      <th>Learning Rate</th>\n      <th>Epoch</th>\n      <th>Epsilon</th>\n      <th>Beta</th>\n      <th>Decay</th>\n      <th>Akurasi</th>\n    </tr>\n  </thead>\n  <tbody>\n    <tr>\n      <th>0</th>\n      <td>cosine</td>\n      <td>0.25</td>\n      <td>2</td>\n      <td>0.25</td>\n      <td>0.25</td>\n      <td>0.15</td>\n      <td>0.487978</td>\n    </tr>\n    <tr>\n      <th>1</th>\n      <td>cosine</td>\n      <td>0.25</td>\n      <td>2</td>\n      <td>0.25</td>\n      <td>0.25</td>\n      <td>0.25</td>\n      <td>0.472424</td>\n    </tr>\n    <tr>\n      <th>2</th>\n      <td>cosine</td>\n      <td>0.25</td>\n      <td>2</td>\n      <td>0.25</td>\n      <td>0.3</td>\n      <td>0.15</td>\n      <td>0.487978</td>\n    </tr>\n    <tr>\n      <th>3</th>\n      <td>cosine</td>\n      <td>0.25</td>\n      <td>2</td>\n      <td>0.25</td>\n      <td>0.3</td>\n      <td>0.25</td>\n      <td>0.472424</td>\n    </tr>\n    <tr>\n      <th>4</th>\n      <td>cosine</td>\n      <td>0.25</td>\n      <td>2</td>\n      <td>0.35</td>\n      <td>0.25</td>\n      <td>0.15</td>\n      <td>0.524416</td>\n    </tr>\n    <tr>\n      <th>...</th>\n      <td>...</td>\n      <td>...</td>\n      <td>...</td>\n      <td>...</td>\n      <td>...</td>\n      <td>...</td>\n      <td>...</td>\n    </tr>\n    <tr>\n      <th>59</th>\n      <td>euclidean</td>\n      <td>0.35</td>\n      <td>3</td>\n      <td>0.25</td>\n      <td>0.3</td>\n      <td>0.25</td>\n      <td>0.350608</td>\n    </tr>\n    <tr>\n      <th>60</th>\n      <td>euclidean</td>\n      <td>0.35</td>\n      <td>3</td>\n      <td>0.35</td>\n      <td>0.25</td>\n      <td>0.15</td>\n      <td>0.322159</td>\n    </tr>\n    <tr>\n      <th>61</th>\n      <td>euclidean</td>\n      <td>0.35</td>\n      <td>3</td>\n      <td>0.35</td>\n      <td>0.25</td>\n      <td>0.25</td>\n      <td>0.322159</td>\n    </tr>\n    <tr>\n      <th>62</th>\n      <td>euclidean</td>\n      <td>0.35</td>\n      <td>3</td>\n      <td>0.35</td>\n      <td>0.3</td>\n      <td>0.15</td>\n      <td>0.322159</td>\n    </tr>\n    <tr>\n      <th>63</th>\n      <td>euclidean</td>\n      <td>0.35</td>\n      <td>3</td>\n      <td>0.35</td>\n      <td>0.3</td>\n      <td>0.25</td>\n      <td>0.322159</td>\n    </tr>\n  </tbody>\n</table>\n<p>64 rows × 7 columns</p>\n</div>"
     },
     "execution_count": 27,
     "metadata": {},
     "output_type": "execute_result"
    }
   ],
   "source": [
    "dfs"
   ],
   "metadata": {
    "collapsed": false,
    "ExecuteTime": {
     "end_time": "2023-11-24T08:52:19.117442493Z",
     "start_time": "2023-11-24T08:52:19.115445023Z"
    }
   },
   "id": "8a78ddc466c6bc5f"
  },
  {
   "cell_type": "code",
   "execution_count": 28,
   "outputs": [],
   "source": [
    "# dfs.to_csv(\"../data/processed/comb_evaluation.csv\")"
   ],
   "metadata": {
    "collapsed": false,
    "ExecuteTime": {
     "end_time": "2023-11-24T08:52:19.318061553Z",
     "start_time": "2023-11-24T08:52:19.317627122Z"
    }
   },
   "id": "9d2c6daf4cee5398"
  },
  {
   "cell_type": "code",
   "execution_count": null,
   "outputs": [],
   "source": [
    "# pd.read_csv()"
   ],
   "metadata": {
    "collapsed": false
   },
   "id": "5143f455be24d16e"
  },
  {
   "cell_type": "code",
   "execution_count": 6,
   "outputs": [
    {
     "name": "stdout",
     "output_type": "stream",
     "text": [
      "{'Combination_1': ['cosine', 0.25, 2, 0.25, 0.25, 0.15, 0.4879778847760378],\n",
      " 'Combination_10': ['cosine', 0.25, 3, 0.25, 0.25, 0.25, 0.5039567416498322],\n",
      " 'Combination_11': ['cosine', 0.25, 3, 0.25, 0.3, 0.15, 0.5056579127238483],\n",
      " 'Combination_12': ['cosine', 0.25, 3, 0.25, 0.3, 0.25, 0.5039567416498322],\n",
      " 'Combination_13': ['cosine', 0.25, 3, 0.35, 0.25, 0.15, 0.559153667390677],\n",
      " 'Combination_14': ['cosine', 0.25, 3, 0.35, 0.25, 0.25, 0.5586524294849401],\n",
      " 'Combination_15': ['cosine', 0.25, 3, 0.35, 0.3, 0.15, 0.559153667390677],\n",
      " 'Combination_16': ['cosine', 0.25, 3, 0.35, 0.3, 0.25, 0.5586524294849401],\n",
      " 'Combination_17': ['cosine', 0.35, 2, 0.25, 0.25, 0.15, 0.5358233212327415],\n",
      " 'Combination_18': ['cosine', 0.35, 2, 0.25, 0.25, 0.25, 0.5540653431960751],\n",
      " 'Combination_19': ['cosine', 0.35, 2, 0.25, 0.3, 0.15, 0.5358233212327415],\n",
      " 'Combination_2': ['cosine', 0.25, 2, 0.25, 0.25, 0.25, 0.47242432067074747],\n",
      " 'Combination_20': ['cosine', 0.35, 2, 0.25, 0.3, 0.25, 0.5540653431960751],\n",
      " 'Combination_21': ['cosine', 0.35, 2, 0.35, 0.25, 0.15, 0.5406838100156447],\n",
      " 'Combination_22': ['cosine', 0.35, 2, 0.35, 0.25, 0.25, 0.5436912374500661],\n",
      " 'Combination_23': ['cosine', 0.35, 2, 0.35, 0.3, 0.15, 0.5406838100156447],\n",
      " 'Combination_24': ['cosine', 0.35, 2, 0.35, 0.3, 0.25, 0.5436912374500661],\n",
      " 'Combination_25': ['cosine', 0.35, 3, 0.25, 0.25, 0.15, 0.5622674180172244],\n",
      " 'Combination_26': ['cosine', 0.35, 3, 0.25, 0.25, 0.25, 0.5626471437033886],\n",
      " 'Combination_27': ['cosine', 0.35, 3, 0.25, 0.3, 0.15, 0.5622674180172244],\n",
      " 'Combination_28': ['cosine', 0.35, 3, 0.25, 0.3, 0.25, 0.5626471437033886],\n",
      " 'Combination_29': ['cosine', 0.35, 3, 0.35, 0.25, 0.15, 0.5626775217582818],\n",
      " 'Combination_3': ['cosine', 0.25, 2, 0.25, 0.3, 0.15, 0.4879778847760378],\n",
      " 'Combination_30': ['cosine', 0.35, 3, 0.35, 0.25, 0.25, 0.5621003387153121],\n",
      " 'Combination_31': ['cosine', 0.35, 3, 0.35, 0.3, 0.15, 0.5626775217582818],\n",
      " 'Combination_32': ['cosine', 0.35, 3, 0.35, 0.3, 0.25, 0.5621003387153121],\n",
      " 'Combination_33': ['euclidean', 0.25, 2, 0.25, 0.25, 0.15, 0.3272475963364066],\n",
      " 'Combination_34': ['euclidean', 0.25, 2, 0.25, 0.25, 0.25, 0.3272475963364066],\n",
      " 'Combination_35': ['euclidean', 0.25, 2, 0.25, 0.3, 0.15, 0.3272475963364066],\n",
      " 'Combination_36': ['euclidean', 0.25, 2, 0.25, 0.3, 0.25, 0.3272475963364066],\n",
      " 'Combination_37': ['euclidean', 0.25, 2, 0.35, 0.25, 0.15, 0.322113705059465],\n",
      " 'Combination_38': ['euclidean', 0.25, 2, 0.35, 0.25, 0.25, 0.3221288940869116],\n",
      " 'Combination_39': ['euclidean', 0.25, 2, 0.35, 0.3, 0.15, 0.322113705059465],\n",
      " 'Combination_4': ['cosine', 0.25, 2, 0.25, 0.3, 0.25, 0.47242432067074747],\n",
      " 'Combination_40': ['euclidean', 0.25, 2, 0.35, 0.3, 0.25, 0.3221288940869116],\n",
      " 'Combination_41': ['euclidean', 0.25, 3, 0.25, 0.25, 0.15, 0.3272475963364066],\n",
      " 'Combination_42': ['euclidean', 0.25, 3, 0.25, 0.25, 0.25, 0.3272475963364066],\n",
      " 'Combination_43': ['euclidean', 0.25, 3, 0.25, 0.3, 0.15, 0.3272475963364066],\n",
      " 'Combination_44': ['euclidean', 0.25, 3, 0.25, 0.3, 0.25, 0.3272475963364066],\n",
      " 'Combination_45': ['euclidean', 0.25, 3, 0.35, 0.25, 0.15, 0.322113705059465],\n",
      " 'Combination_46': ['euclidean', 0.25, 3, 0.35, 0.25, 0.25, 0.3221288940869116],\n",
      " 'Combination_47': ['euclidean', 0.25, 3, 0.35, 0.3, 0.15, 0.322113705059465],\n",
      " 'Combination_48': ['euclidean', 0.25, 3, 0.35, 0.3, 0.25, 0.3221288940869116],\n",
      " 'Combination_49': ['euclidean',\n",
      "                    0.35,\n",
      "                    2,\n",
      "                    0.25,\n",
      "                    0.25,\n",
      "                    0.15,\n",
      "                    0.35060832054923524],\n",
      " 'Combination_5': ['cosine', 0.25, 2, 0.35, 0.25, 0.15, 0.5244163616203654],\n",
      " 'Combination_50': ['euclidean',\n",
      "                    0.35,\n",
      "                    2,\n",
      "                    0.25,\n",
      "                    0.25,\n",
      "                    0.25,\n",
      "                    0.35060832054923524],\n",
      " 'Combination_51': ['euclidean', 0.35, 2, 0.25, 0.3, 0.15, 0.35060832054923524],\n",
      " 'Combination_52': ['euclidean', 0.35, 2, 0.25, 0.3, 0.25, 0.35060832054923524],\n",
      " 'Combination_53': ['euclidean', 0.35, 2, 0.35, 0.25, 0.15, 0.3221592721418048],\n",
      " 'Combination_54': ['euclidean', 0.35, 2, 0.35, 0.25, 0.25, 0.3221592721418048],\n",
      " 'Combination_55': ['euclidean', 0.35, 2, 0.35, 0.3, 0.15, 0.3221592721418048],\n",
      " 'Combination_56': ['euclidean', 0.35, 2, 0.35, 0.3, 0.25, 0.3221592721418048],\n",
      " 'Combination_57': ['euclidean',\n",
      "                    0.35,\n",
      "                    3,\n",
      "                    0.25,\n",
      "                    0.25,\n",
      "                    0.15,\n",
      "                    0.35060832054923524],\n",
      " 'Combination_58': ['euclidean',\n",
      "                    0.35,\n",
      "                    3,\n",
      "                    0.25,\n",
      "                    0.25,\n",
      "                    0.25,\n",
      "                    0.35060832054923524],\n",
      " 'Combination_59': ['euclidean', 0.35, 3, 0.25, 0.3, 0.15, 0.35060832054923524],\n",
      " 'Combination_6': ['cosine', 0.25, 2, 0.35, 0.25, 0.25, 0.5334538329510762],\n",
      " 'Combination_60': ['euclidean', 0.35, 3, 0.25, 0.3, 0.25, 0.35060832054923524],\n",
      " 'Combination_61': ['euclidean', 0.35, 3, 0.35, 0.25, 0.15, 0.3221592721418048],\n",
      " 'Combination_62': ['euclidean', 0.35, 3, 0.35, 0.25, 0.25, 0.3221592721418048],\n",
      " 'Combination_63': ['euclidean', 0.35, 3, 0.35, 0.3, 0.15, 0.3221592721418048],\n",
      " 'Combination_64': ['euclidean', 0.35, 3, 0.35, 0.3, 0.25, 0.3221592721418048],\n",
      " 'Combination_7': ['cosine', 0.25, 2, 0.35, 0.3, 0.15, 0.5244163616203654],\n",
      " 'Combination_8': ['cosine', 0.25, 2, 0.35, 0.3, 0.25, 0.5334538329510762],\n",
      " 'Combination_9': ['cosine', 0.25, 3, 0.25, 0.25, 0.15, 0.5056579127238483]}\n"
     ]
    }
   ],
   "source": [
    "from pprint import pprint\n",
    "pprint(result)"
   ],
   "metadata": {
    "collapsed": false,
    "ExecuteTime": {
     "end_time": "2023-11-24T08:36:42.455982512Z",
     "start_time": "2023-11-24T08:36:42.455016184Z"
    }
   },
   "id": "2f398f0171483d0c"
  },
  {
   "cell_type": "code",
   "execution_count": 7,
   "outputs": [
    {
     "name": "stdout",
     "output_type": "stream",
     "text": [
      "{'Combination_1': ['cosine', 0.25, 2, 0.25, 0.25, 0.15, 0.4879778847760378], 'Combination_2': ['cosine', 0.25, 2, 0.25, 0.25, 0.25, 0.47242432067074747], 'Combination_3': ['cosine', 0.25, 2, 0.25, 0.3, 0.15, 0.4879778847760378], 'Combination_4': ['cosine', 0.25, 2, 0.25, 0.3, 0.25, 0.47242432067074747], 'Combination_5': ['cosine', 0.25, 2, 0.35, 0.25, 0.15, 0.5244163616203654], 'Combination_6': ['cosine', 0.25, 2, 0.35, 0.25, 0.25, 0.5334538329510762], 'Combination_7': ['cosine', 0.25, 2, 0.35, 0.3, 0.15, 0.5244163616203654], 'Combination_8': ['cosine', 0.25, 2, 0.35, 0.3, 0.25, 0.5334538329510762], 'Combination_9': ['cosine', 0.25, 3, 0.25, 0.25, 0.15, 0.5056579127238483], 'Combination_10': ['cosine', 0.25, 3, 0.25, 0.25, 0.25, 0.5039567416498322], 'Combination_11': ['cosine', 0.25, 3, 0.25, 0.3, 0.15, 0.5056579127238483], 'Combination_12': ['cosine', 0.25, 3, 0.25, 0.3, 0.25, 0.5039567416498322], 'Combination_13': ['cosine', 0.25, 3, 0.35, 0.25, 0.15, 0.559153667390677], 'Combination_14': ['cosine', 0.25, 3, 0.35, 0.25, 0.25, 0.5586524294849401], 'Combination_15': ['cosine', 0.25, 3, 0.35, 0.3, 0.15, 0.559153667390677], 'Combination_16': ['cosine', 0.25, 3, 0.35, 0.3, 0.25, 0.5586524294849401], 'Combination_17': ['cosine', 0.35, 2, 0.25, 0.25, 0.15, 0.5358233212327415], 'Combination_18': ['cosine', 0.35, 2, 0.25, 0.25, 0.25, 0.5540653431960751], 'Combination_19': ['cosine', 0.35, 2, 0.25, 0.3, 0.15, 0.5358233212327415], 'Combination_20': ['cosine', 0.35, 2, 0.25, 0.3, 0.25, 0.5540653431960751], 'Combination_21': ['cosine', 0.35, 2, 0.35, 0.25, 0.15, 0.5406838100156447], 'Combination_22': ['cosine', 0.35, 2, 0.35, 0.25, 0.25, 0.5436912374500661], 'Combination_23': ['cosine', 0.35, 2, 0.35, 0.3, 0.15, 0.5406838100156447], 'Combination_24': ['cosine', 0.35, 2, 0.35, 0.3, 0.25, 0.5436912374500661], 'Combination_25': ['cosine', 0.35, 3, 0.25, 0.25, 0.15, 0.5622674180172244], 'Combination_26': ['cosine', 0.35, 3, 0.25, 0.25, 0.25, 0.5626471437033886], 'Combination_27': ['cosine', 0.35, 3, 0.25, 0.3, 0.15, 0.5622674180172244], 'Combination_28': ['cosine', 0.35, 3, 0.25, 0.3, 0.25, 0.5626471437033886], 'Combination_29': ['cosine', 0.35, 3, 0.35, 0.25, 0.15, 0.5626775217582818], 'Combination_30': ['cosine', 0.35, 3, 0.35, 0.25, 0.25, 0.5621003387153121], 'Combination_31': ['cosine', 0.35, 3, 0.35, 0.3, 0.15, 0.5626775217582818], 'Combination_32': ['cosine', 0.35, 3, 0.35, 0.3, 0.25, 0.5621003387153121], 'Combination_33': ['euclidean', 0.25, 2, 0.25, 0.25, 0.15, 0.3272475963364066], 'Combination_34': ['euclidean', 0.25, 2, 0.25, 0.25, 0.25, 0.3272475963364066], 'Combination_35': ['euclidean', 0.25, 2, 0.25, 0.3, 0.15, 0.3272475963364066], 'Combination_36': ['euclidean', 0.25, 2, 0.25, 0.3, 0.25, 0.3272475963364066], 'Combination_37': ['euclidean', 0.25, 2, 0.35, 0.25, 0.15, 0.322113705059465], 'Combination_38': ['euclidean', 0.25, 2, 0.35, 0.25, 0.25, 0.3221288940869116], 'Combination_39': ['euclidean', 0.25, 2, 0.35, 0.3, 0.15, 0.322113705059465], 'Combination_40': ['euclidean', 0.25, 2, 0.35, 0.3, 0.25, 0.3221288940869116], 'Combination_41': ['euclidean', 0.25, 3, 0.25, 0.25, 0.15, 0.3272475963364066], 'Combination_42': ['euclidean', 0.25, 3, 0.25, 0.25, 0.25, 0.3272475963364066], 'Combination_43': ['euclidean', 0.25, 3, 0.25, 0.3, 0.15, 0.3272475963364066], 'Combination_44': ['euclidean', 0.25, 3, 0.25, 0.3, 0.25, 0.3272475963364066], 'Combination_45': ['euclidean', 0.25, 3, 0.35, 0.25, 0.15, 0.322113705059465], 'Combination_46': ['euclidean', 0.25, 3, 0.35, 0.25, 0.25, 0.3221288940869116], 'Combination_47': ['euclidean', 0.25, 3, 0.35, 0.3, 0.15, 0.322113705059465], 'Combination_48': ['euclidean', 0.25, 3, 0.35, 0.3, 0.25, 0.3221288940869116], 'Combination_49': ['euclidean', 0.35, 2, 0.25, 0.25, 0.15, 0.35060832054923524], 'Combination_50': ['euclidean', 0.35, 2, 0.25, 0.25, 0.25, 0.35060832054923524], 'Combination_51': ['euclidean', 0.35, 2, 0.25, 0.3, 0.15, 0.35060832054923524], 'Combination_52': ['euclidean', 0.35, 2, 0.25, 0.3, 0.25, 0.35060832054923524], 'Combination_53': ['euclidean', 0.35, 2, 0.35, 0.25, 0.15, 0.3221592721418048], 'Combination_54': ['euclidean', 0.35, 2, 0.35, 0.25, 0.25, 0.3221592721418048], 'Combination_55': ['euclidean', 0.35, 2, 0.35, 0.3, 0.15, 0.3221592721418048], 'Combination_56': ['euclidean', 0.35, 2, 0.35, 0.3, 0.25, 0.3221592721418048], 'Combination_57': ['euclidean', 0.35, 3, 0.25, 0.25, 0.15, 0.35060832054923524], 'Combination_58': ['euclidean', 0.35, 3, 0.25, 0.25, 0.25, 0.35060832054923524], 'Combination_59': ['euclidean', 0.35, 3, 0.25, 0.3, 0.15, 0.35060832054923524], 'Combination_60': ['euclidean', 0.35, 3, 0.25, 0.3, 0.25, 0.35060832054923524], 'Combination_61': ['euclidean', 0.35, 3, 0.35, 0.25, 0.15, 0.3221592721418048], 'Combination_62': ['euclidean', 0.35, 3, 0.35, 0.25, 0.25, 0.3221592721418048], 'Combination_63': ['euclidean', 0.35, 3, 0.35, 0.3, 0.15, 0.3221592721418048], 'Combination_64': ['euclidean', 0.35, 3, 0.35, 0.3, 0.25, 0.3221592721418048]}\n"
     ]
    }
   ],
   "source": [
    "print(result)"
   ],
   "metadata": {
    "collapsed": false,
    "ExecuteTime": {
     "end_time": "2023-11-24T08:36:42.533788442Z",
     "start_time": "2023-11-24T08:36:42.455387744Z"
    }
   },
   "id": "b1cef406cdaa263e"
  },
  {
   "cell_type": "code",
   "execution_count": 8,
   "outputs": [],
   "source": [
    "output_size = np.unique(y_l).shape[0]\n",
    "input_size = X_train.shape[1]\n",
    "sfs = LVQ3(input_size=input_size, output_size=output_size, random_state=201, epoch=3, alpha=0.45, beta=0.25, m=0.2,\n",
    "           epsilon=0.25, dMethod=\"cosine\")\n",
    "sfs.fit(X_train, y_train)\n"
   ],
   "metadata": {
    "collapsed": false,
    "ExecuteTime": {
     "end_time": "2023-11-24T08:37:12.677604339Z",
     "start_time": "2023-11-24T08:36:42.496642176Z"
    }
   },
   "id": "c24389cf0e753ff2"
  },
  {
   "cell_type": "code",
   "execution_count": 9,
   "outputs": [
    {
     "name": "stdout",
     "output_type": "stream",
     "text": [
      "              precision    recall  f1-score   support\n",
      "\n",
      "           0       0.65      0.77      0.71     19430\n",
      "           1       0.23      0.44      0.30     11326\n",
      "           2       0.78      0.48      0.59     35081\n",
      "\n",
      "    accuracy                           0.56     65837\n",
      "   macro avg       0.56      0.56      0.54     65837\n",
      "weighted avg       0.65      0.56      0.58     65837\n"
     ]
    }
   ],
   "source": [
    "res = sfs.predict(X_test)\n",
    "print(classification_report(res, y_test, zero_division=1))\n"
   ],
   "metadata": {
    "collapsed": false,
    "ExecuteTime": {
     "end_time": "2023-11-24T08:37:14.666416013Z",
     "start_time": "2023-11-24T08:37:12.717715882Z"
    }
   },
   "id": "8c5d8525fb883e4f"
  }
 ],
 "metadata": {
  "kernelspec": {
   "display_name": "Python 3",
   "language": "python",
   "name": "python3"
  },
  "language_info": {
   "codemirror_mode": {
    "name": "ipython",
    "version": 2
   },
   "file_extension": ".py",
   "mimetype": "text/x-python",
   "name": "python",
   "nbconvert_exporter": "python",
   "pygments_lexer": "ipython2",
   "version": "2.7.6"
  }
 },
 "nbformat": 4,
 "nbformat_minor": 5
}
