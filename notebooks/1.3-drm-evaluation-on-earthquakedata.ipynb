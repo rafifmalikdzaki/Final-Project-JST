{
 "cells": [
  {
   "cell_type": "code",
   "execution_count": 1,
   "outputs": [],
   "source": [
    "import numpy as np\n",
    "import pandas as pd\n",
    "import sklearn.datasets as dt\n",
    "from sklearn.model_selection import train_test_split as tts\n",
    "from sklearn.metrics import accuracy_score, classification_report\n",
    "import matplotlib.pyplot as plt\n",
    "from sklearn.preprocessing import StandardScaler,MinMaxScaler\n",
    "from LVQ.lvq import LVQ3\n",
    "from sklearn.preprocessing import OneHotEncoder"
   ],
   "metadata": {
    "collapsed": false,
    "ExecuteTime": {
     "end_time": "2023-11-22T19:23:21.761380498Z",
     "start_time": "2023-11-22T19:23:21.230891189Z"
    }
   },
   "id": "initial_id"
  },
  {
   "cell_type": "code",
   "execution_count": 2,
   "outputs": [],
   "source": [
    "X, y = pd.read_csv(\"../data/raw/train_values.csv\"), pd.read_csv(\"../data/raw/train_labels.csv\")"
   ],
   "metadata": {
    "collapsed": false,
    "ExecuteTime": {
     "end_time": "2023-11-22T19:23:21.992959072Z",
     "start_time": "2023-11-22T19:23:21.762175549Z"
    }
   },
   "id": "5f7ca36ee97ebc54"
  },
  {
   "cell_type": "code",
   "execution_count": 3,
   "outputs": [
    {
     "data": {
      "text/plain": "        building_id  geo_level_1_id  geo_level_2_id  geo_level_3_id  \\\n0           1020144              10             804            1371   \n1            199685              25             211            5071   \n2           1038433              22             816           12104   \n3            461920               6             449            3741   \n4            957027              20             254            5266   \n...             ...             ...             ...             ...   \n208475       788768              22             165           10190   \n208476       490379              27             269            5197   \n208477       294228              26            1259           10829   \n208478       464117               7             258            1869   \n208479       652585              26             366            2116   \n\n        count_floors_pre_eq  age  area_percentage  height_percentage  \\\n0                         2    5                7                  6   \n1                         2   25                9                  4   \n2                         2   10                5                  4   \n3                         1   10                8                  3   \n4                         2   10               10                  6   \n...                     ...  ...              ...                ...   \n208475                    2   30                5                  4   \n208476                    3   80                5                  6   \n208477                    1   10                4                  6   \n208478                    1   15                6                  3   \n208479                    2   20                8                  5   \n\n       land_surface_condition foundation_type  ...  \\\n0                           t               r  ...   \n1                           n               r  ...   \n2                           t               r  ...   \n3                           t               r  ...   \n4                           n               w  ...   \n...                       ...             ...  ...   \n208475                      t               r  ...   \n208476                      t               r  ...   \n208477                      t               r  ...   \n208478                      t               r  ...   \n208479                      o               r  ...   \n\n       has_secondary_use_agriculture has_secondary_use_hotel  \\\n0                                  0                       0   \n1                                  0                       0   \n2                                  0                       0   \n3                                  0                       0   \n4                                  1                       0   \n...                              ...                     ...   \n208475                             0                       0   \n208476                             0                       0   \n208477                             0                       0   \n208478                             0                       0   \n208479                             0                       0   \n\n       has_secondary_use_rental has_secondary_use_institution  \\\n0                             0                             0   \n1                             0                             0   \n2                             0                             0   \n3                             0                             0   \n4                             0                             0   \n...                         ...                           ...   \n208475                        0                             0   \n208476                        0                             0   \n208477                        0                             0   \n208478                        0                             0   \n208479                        0                             0   \n\n       has_secondary_use_school  has_secondary_use_industry  \\\n0                             0                           0   \n1                             0                           0   \n2                             0                           0   \n3                             0                           0   \n4                             0                           0   \n...                         ...                         ...   \n208475                        0                           0   \n208476                        0                           0   \n208477                        0                           0   \n208478                        0                           0   \n208479                        0                           0   \n\n        has_secondary_use_health_post  has_secondary_use_gov_office  \\\n0                                   0                             0   \n1                                   0                             0   \n2                                   0                             0   \n3                                   0                             0   \n4                                   0                             0   \n...                               ...                           ...   \n208475                              0                             0   \n208476                              0                             0   \n208477                              0                             0   \n208478                              0                             0   \n208479                              0                             0   \n\n        has_secondary_use_use_police  has_secondary_use_other  \n0                                  0                        0  \n1                                  0                        0  \n2                                  0                        0  \n3                                  0                        0  \n4                                  0                        0  \n...                              ...                      ...  \n208475                             0                        0  \n208476                             0                        0  \n208477                             0                        0  \n208478                             0                        0  \n208479                             0                        0  \n\n[208480 rows x 39 columns]",
      "text/html": "<div>\n<style scoped>\n    .dataframe tbody tr th:only-of-type {\n        vertical-align: middle;\n    }\n\n    .dataframe tbody tr th {\n        vertical-align: top;\n    }\n\n    .dataframe thead th {\n        text-align: right;\n    }\n</style>\n<table border=\"1\" class=\"dataframe\">\n  <thead>\n    <tr style=\"text-align: right;\">\n      <th></th>\n      <th>building_id</th>\n      <th>geo_level_1_id</th>\n      <th>geo_level_2_id</th>\n      <th>geo_level_3_id</th>\n      <th>count_floors_pre_eq</th>\n      <th>age</th>\n      <th>area_percentage</th>\n      <th>height_percentage</th>\n      <th>land_surface_condition</th>\n      <th>foundation_type</th>\n      <th>...</th>\n      <th>has_secondary_use_agriculture</th>\n      <th>has_secondary_use_hotel</th>\n      <th>has_secondary_use_rental</th>\n      <th>has_secondary_use_institution</th>\n      <th>has_secondary_use_school</th>\n      <th>has_secondary_use_industry</th>\n      <th>has_secondary_use_health_post</th>\n      <th>has_secondary_use_gov_office</th>\n      <th>has_secondary_use_use_police</th>\n      <th>has_secondary_use_other</th>\n    </tr>\n  </thead>\n  <tbody>\n    <tr>\n      <th>0</th>\n      <td>1020144</td>\n      <td>10</td>\n      <td>804</td>\n      <td>1371</td>\n      <td>2</td>\n      <td>5</td>\n      <td>7</td>\n      <td>6</td>\n      <td>t</td>\n      <td>r</td>\n      <td>...</td>\n      <td>0</td>\n      <td>0</td>\n      <td>0</td>\n      <td>0</td>\n      <td>0</td>\n      <td>0</td>\n      <td>0</td>\n      <td>0</td>\n      <td>0</td>\n      <td>0</td>\n    </tr>\n    <tr>\n      <th>1</th>\n      <td>199685</td>\n      <td>25</td>\n      <td>211</td>\n      <td>5071</td>\n      <td>2</td>\n      <td>25</td>\n      <td>9</td>\n      <td>4</td>\n      <td>n</td>\n      <td>r</td>\n      <td>...</td>\n      <td>0</td>\n      <td>0</td>\n      <td>0</td>\n      <td>0</td>\n      <td>0</td>\n      <td>0</td>\n      <td>0</td>\n      <td>0</td>\n      <td>0</td>\n      <td>0</td>\n    </tr>\n    <tr>\n      <th>2</th>\n      <td>1038433</td>\n      <td>22</td>\n      <td>816</td>\n      <td>12104</td>\n      <td>2</td>\n      <td>10</td>\n      <td>5</td>\n      <td>4</td>\n      <td>t</td>\n      <td>r</td>\n      <td>...</td>\n      <td>0</td>\n      <td>0</td>\n      <td>0</td>\n      <td>0</td>\n      <td>0</td>\n      <td>0</td>\n      <td>0</td>\n      <td>0</td>\n      <td>0</td>\n      <td>0</td>\n    </tr>\n    <tr>\n      <th>3</th>\n      <td>461920</td>\n      <td>6</td>\n      <td>449</td>\n      <td>3741</td>\n      <td>1</td>\n      <td>10</td>\n      <td>8</td>\n      <td>3</td>\n      <td>t</td>\n      <td>r</td>\n      <td>...</td>\n      <td>0</td>\n      <td>0</td>\n      <td>0</td>\n      <td>0</td>\n      <td>0</td>\n      <td>0</td>\n      <td>0</td>\n      <td>0</td>\n      <td>0</td>\n      <td>0</td>\n    </tr>\n    <tr>\n      <th>4</th>\n      <td>957027</td>\n      <td>20</td>\n      <td>254</td>\n      <td>5266</td>\n      <td>2</td>\n      <td>10</td>\n      <td>10</td>\n      <td>6</td>\n      <td>n</td>\n      <td>w</td>\n      <td>...</td>\n      <td>1</td>\n      <td>0</td>\n      <td>0</td>\n      <td>0</td>\n      <td>0</td>\n      <td>0</td>\n      <td>0</td>\n      <td>0</td>\n      <td>0</td>\n      <td>0</td>\n    </tr>\n    <tr>\n      <th>...</th>\n      <td>...</td>\n      <td>...</td>\n      <td>...</td>\n      <td>...</td>\n      <td>...</td>\n      <td>...</td>\n      <td>...</td>\n      <td>...</td>\n      <td>...</td>\n      <td>...</td>\n      <td>...</td>\n      <td>...</td>\n      <td>...</td>\n      <td>...</td>\n      <td>...</td>\n      <td>...</td>\n      <td>...</td>\n      <td>...</td>\n      <td>...</td>\n      <td>...</td>\n      <td>...</td>\n    </tr>\n    <tr>\n      <th>208475</th>\n      <td>788768</td>\n      <td>22</td>\n      <td>165</td>\n      <td>10190</td>\n      <td>2</td>\n      <td>30</td>\n      <td>5</td>\n      <td>4</td>\n      <td>t</td>\n      <td>r</td>\n      <td>...</td>\n      <td>0</td>\n      <td>0</td>\n      <td>0</td>\n      <td>0</td>\n      <td>0</td>\n      <td>0</td>\n      <td>0</td>\n      <td>0</td>\n      <td>0</td>\n      <td>0</td>\n    </tr>\n    <tr>\n      <th>208476</th>\n      <td>490379</td>\n      <td>27</td>\n      <td>269</td>\n      <td>5197</td>\n      <td>3</td>\n      <td>80</td>\n      <td>5</td>\n      <td>6</td>\n      <td>t</td>\n      <td>r</td>\n      <td>...</td>\n      <td>0</td>\n      <td>0</td>\n      <td>0</td>\n      <td>0</td>\n      <td>0</td>\n      <td>0</td>\n      <td>0</td>\n      <td>0</td>\n      <td>0</td>\n      <td>0</td>\n    </tr>\n    <tr>\n      <th>208477</th>\n      <td>294228</td>\n      <td>26</td>\n      <td>1259</td>\n      <td>10829</td>\n      <td>1</td>\n      <td>10</td>\n      <td>4</td>\n      <td>6</td>\n      <td>t</td>\n      <td>r</td>\n      <td>...</td>\n      <td>0</td>\n      <td>0</td>\n      <td>0</td>\n      <td>0</td>\n      <td>0</td>\n      <td>0</td>\n      <td>0</td>\n      <td>0</td>\n      <td>0</td>\n      <td>0</td>\n    </tr>\n    <tr>\n      <th>208478</th>\n      <td>464117</td>\n      <td>7</td>\n      <td>258</td>\n      <td>1869</td>\n      <td>1</td>\n      <td>15</td>\n      <td>6</td>\n      <td>3</td>\n      <td>t</td>\n      <td>r</td>\n      <td>...</td>\n      <td>0</td>\n      <td>0</td>\n      <td>0</td>\n      <td>0</td>\n      <td>0</td>\n      <td>0</td>\n      <td>0</td>\n      <td>0</td>\n      <td>0</td>\n      <td>0</td>\n    </tr>\n    <tr>\n      <th>208479</th>\n      <td>652585</td>\n      <td>26</td>\n      <td>366</td>\n      <td>2116</td>\n      <td>2</td>\n      <td>20</td>\n      <td>8</td>\n      <td>5</td>\n      <td>o</td>\n      <td>r</td>\n      <td>...</td>\n      <td>0</td>\n      <td>0</td>\n      <td>0</td>\n      <td>0</td>\n      <td>0</td>\n      <td>0</td>\n      <td>0</td>\n      <td>0</td>\n      <td>0</td>\n      <td>0</td>\n    </tr>\n  </tbody>\n</table>\n<p>208480 rows × 39 columns</p>\n</div>"
     },
     "execution_count": 3,
     "metadata": {},
     "output_type": "execute_result"
    }
   ],
   "source": [
    "X"
   ],
   "metadata": {
    "collapsed": false,
    "ExecuteTime": {
     "end_time": "2023-11-22T19:23:22.036863766Z",
     "start_time": "2023-11-22T19:23:22.003099200Z"
    }
   },
   "id": "7649019767f56b6f"
  },
  {
   "cell_type": "code",
   "execution_count": 4,
   "outputs": [],
   "source": [
    "df = pd.merge(X, y,left_on=\"building_id\", right_on=\"building_id\").iloc[:,1:]"
   ],
   "metadata": {
    "collapsed": false,
    "ExecuteTime": {
     "end_time": "2023-11-22T19:23:22.126762550Z",
     "start_time": "2023-11-22T19:23:22.037038041Z"
    }
   },
   "id": "470270e8742ffdf7"
  },
  {
   "cell_type": "code",
   "execution_count": 5,
   "outputs": [],
   "source": [
    "# df.to_csv(\"../data/raw/train_data.csv\")"
   ],
   "metadata": {
    "collapsed": false,
    "ExecuteTime": {
     "end_time": "2023-11-22T19:23:22.167126170Z",
     "start_time": "2023-11-22T19:23:22.115063923Z"
    }
   },
   "id": "dfd5126c5eb1d9f1"
  },
  {
   "cell_type": "code",
   "execution_count": 6,
   "outputs": [
    {
     "name": "stdout",
     "output_type": "stream",
     "text": [
      "<class 'pandas.core.frame.DataFrame'>\n",
      "Int64Index: 208480 entries, 0 to 208479\n",
      "Data columns (total 39 columns):\n",
      " #   Column                                  Non-Null Count   Dtype \n",
      "---  ------                                  --------------   ----- \n",
      " 0   geo_level_1_id                          208480 non-null  int64 \n",
      " 1   geo_level_2_id                          208480 non-null  int64 \n",
      " 2   geo_level_3_id                          208480 non-null  int64 \n",
      " 3   count_floors_pre_eq                     208480 non-null  int64 \n",
      " 4   age                                     208480 non-null  int64 \n",
      " 5   area_percentage                         208480 non-null  int64 \n",
      " 6   height_percentage                       208480 non-null  int64 \n",
      " 7   land_surface_condition                  208480 non-null  object\n",
      " 8   foundation_type                         208480 non-null  object\n",
      " 9   roof_type                               208480 non-null  object\n",
      " 10  ground_floor_type                       208480 non-null  object\n",
      " 11  other_floor_type                        208480 non-null  object\n",
      " 12  position                                208480 non-null  object\n",
      " 13  plan_configuration                      208480 non-null  object\n",
      " 14  has_superstructure_adobe_mud            208480 non-null  int64 \n",
      " 15  has_superstructure_mud_mortar_stone     208480 non-null  int64 \n",
      " 16  has_superstructure_stone_flag           208480 non-null  int64 \n",
      " 17  has_superstructure_cement_mortar_stone  208480 non-null  int64 \n",
      " 18  has_superstructure_mud_mortar_brick     208480 non-null  int64 \n",
      " 19  has_superstructure_cement_mortar_brick  208480 non-null  int64 \n",
      " 20  has_superstructure_timber               208480 non-null  int64 \n",
      " 21  has_superstructure_bamboo               208480 non-null  int64 \n",
      " 22  has_superstructure_rc_non_engineered    208480 non-null  int64 \n",
      " 23  has_superstructure_rc_engineered        208480 non-null  int64 \n",
      " 24  has_superstructure_other                208480 non-null  int64 \n",
      " 25  legal_ownership_status                  208480 non-null  object\n",
      " 26  count_families                          208480 non-null  int64 \n",
      " 27  has_secondary_use                       208480 non-null  int64 \n",
      " 28  has_secondary_use_agriculture           208480 non-null  int64 \n",
      " 29  has_secondary_use_hotel                 208480 non-null  int64 \n",
      " 30  has_secondary_use_rental                208480 non-null  int64 \n",
      " 31  has_secondary_use_institution           208480 non-null  int64 \n",
      " 32  has_secondary_use_school                208480 non-null  int64 \n",
      " 33  has_secondary_use_industry              208480 non-null  int64 \n",
      " 34  has_secondary_use_health_post           208480 non-null  int64 \n",
      " 35  has_secondary_use_gov_office            208480 non-null  int64 \n",
      " 36  has_secondary_use_use_police            208480 non-null  int64 \n",
      " 37  has_secondary_use_other                 208480 non-null  int64 \n",
      " 38  damage_grade                            208480 non-null  int64 \n",
      "dtypes: int64(31), object(8)\n",
      "memory usage: 63.6+ MB\n"
     ]
    }
   ],
   "source": [
    "df.info()"
   ],
   "metadata": {
    "collapsed": false,
    "ExecuteTime": {
     "end_time": "2023-11-22T19:23:22.253484943Z",
     "start_time": "2023-11-22T19:23:22.155924145Z"
    }
   },
   "id": "c46f38b81f347b34"
  },
  {
   "cell_type": "code",
   "execution_count": 7,
   "outputs": [
    {
     "data": {
      "text/plain": "0         2\n1         2\n2         2\n3         2\n4         3\n         ..\n208475    1\n208476    2\n208477    3\n208478    3\n208479    2\nName: damage_grade, Length: 208480, dtype: int64"
     },
     "execution_count": 7,
     "metadata": {},
     "output_type": "execute_result"
    }
   ],
   "source": [
    "df.iloc[:,-1]"
   ],
   "metadata": {
    "collapsed": false,
    "ExecuteTime": {
     "end_time": "2023-11-22T19:23:22.339302839Z",
     "start_time": "2023-11-22T19:23:22.254789368Z"
    }
   },
   "id": "2be43456b878f865"
  },
  {
   "cell_type": "code",
   "execution_count": 8,
   "outputs": [],
   "source": [
    "X, y = df.iloc[:,:-1], df.iloc[:,-1]"
   ],
   "metadata": {
    "collapsed": false,
    "ExecuteTime": {
     "end_time": "2023-11-22T19:23:22.339533203Z",
     "start_time": "2023-11-22T19:23:22.295957082Z"
    }
   },
   "id": "27483ff0f889e016"
  },
  {
   "cell_type": "code",
   "execution_count": 9,
   "outputs": [
    {
     "name": "stderr",
     "output_type": "stream",
     "text": [
      "/tmp/ipykernel_43833/2387548514.py:1: DeprecationWarning: In a future version, `df.iloc[:, i] = newvals` will attempt to set the values inplace instead of always setting a new array. To retain the old behavior, use either `df[df.columns[i]] = newvals` or, if columns are non-unique, `df.isetitem(i, newvals)`\n",
      "  X.iloc[:,:7] = X.iloc[:,:7].astype(\"float\")\n"
     ]
    }
   ],
   "source": [
    "X.iloc[:,:7] = X.iloc[:,:7].astype(\"float\")"
   ],
   "metadata": {
    "collapsed": false,
    "ExecuteTime": {
     "end_time": "2023-11-22T19:23:22.366177296Z",
     "start_time": "2023-11-22T19:23:22.315802335Z"
    }
   },
   "id": "bb6411e435ccabdc"
  },
  {
   "cell_type": "code",
   "execution_count": 10,
   "outputs": [
    {
     "name": "stdout",
     "output_type": "stream",
     "text": [
      "<class 'pandas.core.frame.DataFrame'>\n",
      "Int64Index: 208480 entries, 0 to 208479\n",
      "Data columns (total 38 columns):\n",
      " #   Column                                  Non-Null Count   Dtype  \n",
      "---  ------                                  --------------   -----  \n",
      " 0   geo_level_1_id                          208480 non-null  float64\n",
      " 1   geo_level_2_id                          208480 non-null  float64\n",
      " 2   geo_level_3_id                          208480 non-null  float64\n",
      " 3   count_floors_pre_eq                     208480 non-null  float64\n",
      " 4   age                                     208480 non-null  float64\n",
      " 5   area_percentage                         208480 non-null  float64\n",
      " 6   height_percentage                       208480 non-null  float64\n",
      " 7   land_surface_condition                  208480 non-null  object \n",
      " 8   foundation_type                         208480 non-null  object \n",
      " 9   roof_type                               208480 non-null  object \n",
      " 10  ground_floor_type                       208480 non-null  object \n",
      " 11  other_floor_type                        208480 non-null  object \n",
      " 12  position                                208480 non-null  object \n",
      " 13  plan_configuration                      208480 non-null  object \n",
      " 14  has_superstructure_adobe_mud            208480 non-null  int64  \n",
      " 15  has_superstructure_mud_mortar_stone     208480 non-null  int64  \n",
      " 16  has_superstructure_stone_flag           208480 non-null  int64  \n",
      " 17  has_superstructure_cement_mortar_stone  208480 non-null  int64  \n",
      " 18  has_superstructure_mud_mortar_brick     208480 non-null  int64  \n",
      " 19  has_superstructure_cement_mortar_brick  208480 non-null  int64  \n",
      " 20  has_superstructure_timber               208480 non-null  int64  \n",
      " 21  has_superstructure_bamboo               208480 non-null  int64  \n",
      " 22  has_superstructure_rc_non_engineered    208480 non-null  int64  \n",
      " 23  has_superstructure_rc_engineered        208480 non-null  int64  \n",
      " 24  has_superstructure_other                208480 non-null  int64  \n",
      " 25  legal_ownership_status                  208480 non-null  object \n",
      " 26  count_families                          208480 non-null  int64  \n",
      " 27  has_secondary_use                       208480 non-null  int64  \n",
      " 28  has_secondary_use_agriculture           208480 non-null  int64  \n",
      " 29  has_secondary_use_hotel                 208480 non-null  int64  \n",
      " 30  has_secondary_use_rental                208480 non-null  int64  \n",
      " 31  has_secondary_use_institution           208480 non-null  int64  \n",
      " 32  has_secondary_use_school                208480 non-null  int64  \n",
      " 33  has_secondary_use_industry              208480 non-null  int64  \n",
      " 34  has_secondary_use_health_post           208480 non-null  int64  \n",
      " 35  has_secondary_use_gov_office            208480 non-null  int64  \n",
      " 36  has_secondary_use_use_police            208480 non-null  int64  \n",
      " 37  has_secondary_use_other                 208480 non-null  int64  \n",
      "dtypes: float64(7), int64(23), object(8)\n",
      "memory usage: 62.0+ MB\n"
     ]
    }
   ],
   "source": [
    "X.info()"
   ],
   "metadata": {
    "collapsed": false,
    "ExecuteTime": {
     "end_time": "2023-11-22T19:23:22.455298139Z",
     "start_time": "2023-11-22T19:23:22.355949295Z"
    }
   },
   "id": "bbb5031474631046"
  },
  {
   "cell_type": "code",
   "execution_count": 11,
   "outputs": [
    {
     "data": {
      "text/plain": "        geo_level_1_id  geo_level_2_id  geo_level_3_id  count_floors_pre_eq  \\\n0                 10.0           804.0          1371.0                  2.0   \n1                 25.0           211.0          5071.0                  2.0   \n2                 22.0           816.0         12104.0                  2.0   \n3                  6.0           449.0          3741.0                  1.0   \n4                 20.0           254.0          5266.0                  2.0   \n...                ...             ...             ...                  ...   \n208475            22.0           165.0         10190.0                  2.0   \n208476            27.0           269.0          5197.0                  3.0   \n208477            26.0          1259.0         10829.0                  1.0   \n208478             7.0           258.0          1869.0                  1.0   \n208479            26.0           366.0          2116.0                  2.0   \n\n         age  area_percentage  height_percentage land_surface_condition  \\\n0        5.0              7.0                6.0                      t   \n1       25.0              9.0                4.0                      n   \n2       10.0              5.0                4.0                      t   \n3       10.0              8.0                3.0                      t   \n4       10.0             10.0                6.0                      n   \n...      ...              ...                ...                    ...   \n208475  30.0              5.0                4.0                      t   \n208476  80.0              5.0                6.0                      t   \n208477  10.0              4.0                6.0                      t   \n208478  15.0              6.0                3.0                      t   \n208479  20.0              8.0                5.0                      o   \n\n       foundation_type roof_type  ... has_secondary_use_agriculture  \\\n0                    r         n  ...                             0   \n1                    r         q  ...                             0   \n2                    r         q  ...                             0   \n3                    r         q  ...                             0   \n4                    w         q  ...                             1   \n...                ...       ...  ...                           ...   \n208475               r         n  ...                             0   \n208476               r         q  ...                             0   \n208477               r         n  ...                             0   \n208478               r         q  ...                             0   \n208479               r         n  ...                             0   \n\n       has_secondary_use_hotel has_secondary_use_rental  \\\n0                            0                        0   \n1                            0                        0   \n2                            0                        0   \n3                            0                        0   \n4                            0                        0   \n...                        ...                      ...   \n208475                       0                        0   \n208476                       0                        0   \n208477                       0                        0   \n208478                       0                        0   \n208479                       0                        0   \n\n       has_secondary_use_institution  has_secondary_use_school  \\\n0                                  0                         0   \n1                                  0                         0   \n2                                  0                         0   \n3                                  0                         0   \n4                                  0                         0   \n...                              ...                       ...   \n208475                             0                         0   \n208476                             0                         0   \n208477                             0                         0   \n208478                             0                         0   \n208479                             0                         0   \n\n        has_secondary_use_industry  has_secondary_use_health_post  \\\n0                                0                              0   \n1                                0                              0   \n2                                0                              0   \n3                                0                              0   \n4                                0                              0   \n...                            ...                            ...   \n208475                           0                              0   \n208476                           0                              0   \n208477                           0                              0   \n208478                           0                              0   \n208479                           0                              0   \n\n        has_secondary_use_gov_office  has_secondary_use_use_police  \\\n0                                  0                             0   \n1                                  0                             0   \n2                                  0                             0   \n3                                  0                             0   \n4                                  0                             0   \n...                              ...                           ...   \n208475                             0                             0   \n208476                             0                             0   \n208477                             0                             0   \n208478                             0                             0   \n208479                             0                             0   \n\n        has_secondary_use_other  \n0                             0  \n1                             0  \n2                             0  \n3                             0  \n4                             0  \n...                         ...  \n208475                        0  \n208476                        0  \n208477                        0  \n208478                        0  \n208479                        0  \n\n[208480 rows x 38 columns]",
      "text/html": "<div>\n<style scoped>\n    .dataframe tbody tr th:only-of-type {\n        vertical-align: middle;\n    }\n\n    .dataframe tbody tr th {\n        vertical-align: top;\n    }\n\n    .dataframe thead th {\n        text-align: right;\n    }\n</style>\n<table border=\"1\" class=\"dataframe\">\n  <thead>\n    <tr style=\"text-align: right;\">\n      <th></th>\n      <th>geo_level_1_id</th>\n      <th>geo_level_2_id</th>\n      <th>geo_level_3_id</th>\n      <th>count_floors_pre_eq</th>\n      <th>age</th>\n      <th>area_percentage</th>\n      <th>height_percentage</th>\n      <th>land_surface_condition</th>\n      <th>foundation_type</th>\n      <th>roof_type</th>\n      <th>...</th>\n      <th>has_secondary_use_agriculture</th>\n      <th>has_secondary_use_hotel</th>\n      <th>has_secondary_use_rental</th>\n      <th>has_secondary_use_institution</th>\n      <th>has_secondary_use_school</th>\n      <th>has_secondary_use_industry</th>\n      <th>has_secondary_use_health_post</th>\n      <th>has_secondary_use_gov_office</th>\n      <th>has_secondary_use_use_police</th>\n      <th>has_secondary_use_other</th>\n    </tr>\n  </thead>\n  <tbody>\n    <tr>\n      <th>0</th>\n      <td>10.0</td>\n      <td>804.0</td>\n      <td>1371.0</td>\n      <td>2.0</td>\n      <td>5.0</td>\n      <td>7.0</td>\n      <td>6.0</td>\n      <td>t</td>\n      <td>r</td>\n      <td>n</td>\n      <td>...</td>\n      <td>0</td>\n      <td>0</td>\n      <td>0</td>\n      <td>0</td>\n      <td>0</td>\n      <td>0</td>\n      <td>0</td>\n      <td>0</td>\n      <td>0</td>\n      <td>0</td>\n    </tr>\n    <tr>\n      <th>1</th>\n      <td>25.0</td>\n      <td>211.0</td>\n      <td>5071.0</td>\n      <td>2.0</td>\n      <td>25.0</td>\n      <td>9.0</td>\n      <td>4.0</td>\n      <td>n</td>\n      <td>r</td>\n      <td>q</td>\n      <td>...</td>\n      <td>0</td>\n      <td>0</td>\n      <td>0</td>\n      <td>0</td>\n      <td>0</td>\n      <td>0</td>\n      <td>0</td>\n      <td>0</td>\n      <td>0</td>\n      <td>0</td>\n    </tr>\n    <tr>\n      <th>2</th>\n      <td>22.0</td>\n      <td>816.0</td>\n      <td>12104.0</td>\n      <td>2.0</td>\n      <td>10.0</td>\n      <td>5.0</td>\n      <td>4.0</td>\n      <td>t</td>\n      <td>r</td>\n      <td>q</td>\n      <td>...</td>\n      <td>0</td>\n      <td>0</td>\n      <td>0</td>\n      <td>0</td>\n      <td>0</td>\n      <td>0</td>\n      <td>0</td>\n      <td>0</td>\n      <td>0</td>\n      <td>0</td>\n    </tr>\n    <tr>\n      <th>3</th>\n      <td>6.0</td>\n      <td>449.0</td>\n      <td>3741.0</td>\n      <td>1.0</td>\n      <td>10.0</td>\n      <td>8.0</td>\n      <td>3.0</td>\n      <td>t</td>\n      <td>r</td>\n      <td>q</td>\n      <td>...</td>\n      <td>0</td>\n      <td>0</td>\n      <td>0</td>\n      <td>0</td>\n      <td>0</td>\n      <td>0</td>\n      <td>0</td>\n      <td>0</td>\n      <td>0</td>\n      <td>0</td>\n    </tr>\n    <tr>\n      <th>4</th>\n      <td>20.0</td>\n      <td>254.0</td>\n      <td>5266.0</td>\n      <td>2.0</td>\n      <td>10.0</td>\n      <td>10.0</td>\n      <td>6.0</td>\n      <td>n</td>\n      <td>w</td>\n      <td>q</td>\n      <td>...</td>\n      <td>1</td>\n      <td>0</td>\n      <td>0</td>\n      <td>0</td>\n      <td>0</td>\n      <td>0</td>\n      <td>0</td>\n      <td>0</td>\n      <td>0</td>\n      <td>0</td>\n    </tr>\n    <tr>\n      <th>...</th>\n      <td>...</td>\n      <td>...</td>\n      <td>...</td>\n      <td>...</td>\n      <td>...</td>\n      <td>...</td>\n      <td>...</td>\n      <td>...</td>\n      <td>...</td>\n      <td>...</td>\n      <td>...</td>\n      <td>...</td>\n      <td>...</td>\n      <td>...</td>\n      <td>...</td>\n      <td>...</td>\n      <td>...</td>\n      <td>...</td>\n      <td>...</td>\n      <td>...</td>\n      <td>...</td>\n    </tr>\n    <tr>\n      <th>208475</th>\n      <td>22.0</td>\n      <td>165.0</td>\n      <td>10190.0</td>\n      <td>2.0</td>\n      <td>30.0</td>\n      <td>5.0</td>\n      <td>4.0</td>\n      <td>t</td>\n      <td>r</td>\n      <td>n</td>\n      <td>...</td>\n      <td>0</td>\n      <td>0</td>\n      <td>0</td>\n      <td>0</td>\n      <td>0</td>\n      <td>0</td>\n      <td>0</td>\n      <td>0</td>\n      <td>0</td>\n      <td>0</td>\n    </tr>\n    <tr>\n      <th>208476</th>\n      <td>27.0</td>\n      <td>269.0</td>\n      <td>5197.0</td>\n      <td>3.0</td>\n      <td>80.0</td>\n      <td>5.0</td>\n      <td>6.0</td>\n      <td>t</td>\n      <td>r</td>\n      <td>q</td>\n      <td>...</td>\n      <td>0</td>\n      <td>0</td>\n      <td>0</td>\n      <td>0</td>\n      <td>0</td>\n      <td>0</td>\n      <td>0</td>\n      <td>0</td>\n      <td>0</td>\n      <td>0</td>\n    </tr>\n    <tr>\n      <th>208477</th>\n      <td>26.0</td>\n      <td>1259.0</td>\n      <td>10829.0</td>\n      <td>1.0</td>\n      <td>10.0</td>\n      <td>4.0</td>\n      <td>6.0</td>\n      <td>t</td>\n      <td>r</td>\n      <td>n</td>\n      <td>...</td>\n      <td>0</td>\n      <td>0</td>\n      <td>0</td>\n      <td>0</td>\n      <td>0</td>\n      <td>0</td>\n      <td>0</td>\n      <td>0</td>\n      <td>0</td>\n      <td>0</td>\n    </tr>\n    <tr>\n      <th>208478</th>\n      <td>7.0</td>\n      <td>258.0</td>\n      <td>1869.0</td>\n      <td>1.0</td>\n      <td>15.0</td>\n      <td>6.0</td>\n      <td>3.0</td>\n      <td>t</td>\n      <td>r</td>\n      <td>q</td>\n      <td>...</td>\n      <td>0</td>\n      <td>0</td>\n      <td>0</td>\n      <td>0</td>\n      <td>0</td>\n      <td>0</td>\n      <td>0</td>\n      <td>0</td>\n      <td>0</td>\n      <td>0</td>\n    </tr>\n    <tr>\n      <th>208479</th>\n      <td>26.0</td>\n      <td>366.0</td>\n      <td>2116.0</td>\n      <td>2.0</td>\n      <td>20.0</td>\n      <td>8.0</td>\n      <td>5.0</td>\n      <td>o</td>\n      <td>r</td>\n      <td>n</td>\n      <td>...</td>\n      <td>0</td>\n      <td>0</td>\n      <td>0</td>\n      <td>0</td>\n      <td>0</td>\n      <td>0</td>\n      <td>0</td>\n      <td>0</td>\n      <td>0</td>\n      <td>0</td>\n    </tr>\n  </tbody>\n</table>\n<p>208480 rows × 38 columns</p>\n</div>"
     },
     "execution_count": 11,
     "metadata": {},
     "output_type": "execute_result"
    }
   ],
   "source": [
    "X"
   ],
   "metadata": {
    "collapsed": false,
    "ExecuteTime": {
     "end_time": "2023-11-22T19:23:22.541723502Z",
     "start_time": "2023-11-22T19:23:22.453379743Z"
    }
   },
   "id": "61a85a547ec830d3"
  },
  {
   "cell_type": "code",
   "execution_count": 12,
   "outputs": [],
   "source": [
    "from prince import FAMD, MCA\n",
    "famd = FAMD(n_components =24, n_iter = 100, copy=True, random_state = 100)\n",
    "\n",
    "X_t = famd.fit_transform(X)"
   ],
   "metadata": {
    "collapsed": false,
    "ExecuteTime": {
     "end_time": "2023-11-22T19:23:38.627256691Z",
     "start_time": "2023-11-22T19:23:22.528141268Z"
    }
   },
   "id": "8306dd33b1b12a53"
  },
  {
   "cell_type": "code",
   "execution_count": 13,
   "outputs": [
    {
     "data": {
      "text/plain": "component        0         1          2         3         4         5   \\\n0         -1.701051 -3.000050  -2.044228  5.179376 -1.641714 -0.457770   \n1         -4.309564 -2.507675  -2.193442 -2.617493 -1.636667 -0.327119   \n2         -3.977083 -2.600835  -2.686598 -1.733000 -1.327434 -2.821173   \n3         -1.720871  0.469089  -3.641277 -3.406394  3.505867  1.178325   \n4         -3.523487  6.577175  22.226918 -7.553189 -4.212696 -8.171183   \n...             ...       ...        ...       ...       ...       ...   \n208475    -4.461848  0.238742  -0.735954 -2.028388 -1.794362 -0.910754   \n208476    -2.381251 -4.217525  -1.092262 -0.399383 -1.553406 -2.127632   \n208477    -3.066257  2.537775  -1.134772 -3.825351  1.743642 -0.105119   \n208478    -2.572597 -0.301124  -3.120865 -3.591399  2.290917 -1.981141   \n208479    -4.108119 -2.971069  -1.814708 -2.421412 -0.476931  0.563692   \n\ncomponent        6         7         8         9   ...        14        15  \\\n0          0.195021 -1.759325  5.259082  3.656520  ...  1.297791  1.293592   \n1          2.021620  0.281312  0.169960  0.107069  ... -0.872599  0.624577   \n2          1.717161  3.515147  1.285762  1.306356  ...  0.513944  0.474292   \n3         -6.110034  0.078589  1.169676 -2.801258  ... -6.949557 -3.231875   \n4          2.029656 -0.900401 -4.282372 -1.095052  ... -0.656671  2.878975   \n...             ...       ...       ...       ...  ...       ...       ...   \n208475     0.061090 -1.373690 -0.909750  0.533776  ...  1.050659  1.470510   \n208476     0.886747  5.193605  2.025575  3.147457  ... -7.030700 -2.139624   \n208477    -4.270846 -2.584461 -1.082671 -0.569215  ...  1.133111  0.894609   \n208478    -2.663281  2.321766  1.073716  0.206718  ...  0.633954 -0.122328   \n208479     0.149018 -4.456863  0.967975 -1.577730  ...  3.322105 -8.430271   \n\ncomponent        16        17        18        19        20        21  \\\n0         -0.478879  1.813038  2.351215 -2.265450  1.769207  1.348172   \n1          0.927984 -0.852549 -0.806622  1.231107  2.419647 -3.181501   \n2         -1.136969 -0.153152 -0.686537  0.015549  0.072799 -0.171169   \n3          0.795902 -2.524868  0.596994  4.971336  1.755325 -5.073979   \n4          2.843507  0.524680 -1.647712  1.736363  3.264446 -2.874477   \n...             ...       ...       ...       ...       ...       ...   \n208475     0.022835  0.621411  0.606955 -0.153931 -0.445806  1.312991   \n208476     1.498278 -1.407787 -1.537363 -1.549798  0.516195 -0.573612   \n208477     0.160814  1.189596  0.768193 -0.593882 -0.751255  1.575147   \n208478    -1.006651  0.451298 -0.545475 -0.459392 -0.229523  0.099146   \n208479    -4.092259  0.556481 -1.295915 -2.087164 -5.941899  4.793716   \n\ncomponent        22        23  \n0         -0.610724  0.317428  \n1         -1.394613  0.333703  \n2         -0.729217  0.031830  \n3         -7.057358  1.017891  \n4         -1.384443 -0.373464  \n...             ...       ...  \n208475     0.674023 -0.228695  \n208476    -0.775153  0.384502  \n208477     0.741468 -0.178820  \n208478    -0.697393  0.091694  \n208479     0.210079  1.681835  \n\n[208480 rows x 24 columns]",
      "text/html": "<div>\n<style scoped>\n    .dataframe tbody tr th:only-of-type {\n        vertical-align: middle;\n    }\n\n    .dataframe tbody tr th {\n        vertical-align: top;\n    }\n\n    .dataframe thead th {\n        text-align: right;\n    }\n</style>\n<table border=\"1\" class=\"dataframe\">\n  <thead>\n    <tr style=\"text-align: right;\">\n      <th>component</th>\n      <th>0</th>\n      <th>1</th>\n      <th>2</th>\n      <th>3</th>\n      <th>4</th>\n      <th>5</th>\n      <th>6</th>\n      <th>7</th>\n      <th>8</th>\n      <th>9</th>\n      <th>...</th>\n      <th>14</th>\n      <th>15</th>\n      <th>16</th>\n      <th>17</th>\n      <th>18</th>\n      <th>19</th>\n      <th>20</th>\n      <th>21</th>\n      <th>22</th>\n      <th>23</th>\n    </tr>\n  </thead>\n  <tbody>\n    <tr>\n      <th>0</th>\n      <td>-1.701051</td>\n      <td>-3.000050</td>\n      <td>-2.044228</td>\n      <td>5.179376</td>\n      <td>-1.641714</td>\n      <td>-0.457770</td>\n      <td>0.195021</td>\n      <td>-1.759325</td>\n      <td>5.259082</td>\n      <td>3.656520</td>\n      <td>...</td>\n      <td>1.297791</td>\n      <td>1.293592</td>\n      <td>-0.478879</td>\n      <td>1.813038</td>\n      <td>2.351215</td>\n      <td>-2.265450</td>\n      <td>1.769207</td>\n      <td>1.348172</td>\n      <td>-0.610724</td>\n      <td>0.317428</td>\n    </tr>\n    <tr>\n      <th>1</th>\n      <td>-4.309564</td>\n      <td>-2.507675</td>\n      <td>-2.193442</td>\n      <td>-2.617493</td>\n      <td>-1.636667</td>\n      <td>-0.327119</td>\n      <td>2.021620</td>\n      <td>0.281312</td>\n      <td>0.169960</td>\n      <td>0.107069</td>\n      <td>...</td>\n      <td>-0.872599</td>\n      <td>0.624577</td>\n      <td>0.927984</td>\n      <td>-0.852549</td>\n      <td>-0.806622</td>\n      <td>1.231107</td>\n      <td>2.419647</td>\n      <td>-3.181501</td>\n      <td>-1.394613</td>\n      <td>0.333703</td>\n    </tr>\n    <tr>\n      <th>2</th>\n      <td>-3.977083</td>\n      <td>-2.600835</td>\n      <td>-2.686598</td>\n      <td>-1.733000</td>\n      <td>-1.327434</td>\n      <td>-2.821173</td>\n      <td>1.717161</td>\n      <td>3.515147</td>\n      <td>1.285762</td>\n      <td>1.306356</td>\n      <td>...</td>\n      <td>0.513944</td>\n      <td>0.474292</td>\n      <td>-1.136969</td>\n      <td>-0.153152</td>\n      <td>-0.686537</td>\n      <td>0.015549</td>\n      <td>0.072799</td>\n      <td>-0.171169</td>\n      <td>-0.729217</td>\n      <td>0.031830</td>\n    </tr>\n    <tr>\n      <th>3</th>\n      <td>-1.720871</td>\n      <td>0.469089</td>\n      <td>-3.641277</td>\n      <td>-3.406394</td>\n      <td>3.505867</td>\n      <td>1.178325</td>\n      <td>-6.110034</td>\n      <td>0.078589</td>\n      <td>1.169676</td>\n      <td>-2.801258</td>\n      <td>...</td>\n      <td>-6.949557</td>\n      <td>-3.231875</td>\n      <td>0.795902</td>\n      <td>-2.524868</td>\n      <td>0.596994</td>\n      <td>4.971336</td>\n      <td>1.755325</td>\n      <td>-5.073979</td>\n      <td>-7.057358</td>\n      <td>1.017891</td>\n    </tr>\n    <tr>\n      <th>4</th>\n      <td>-3.523487</td>\n      <td>6.577175</td>\n      <td>22.226918</td>\n      <td>-7.553189</td>\n      <td>-4.212696</td>\n      <td>-8.171183</td>\n      <td>2.029656</td>\n      <td>-0.900401</td>\n      <td>-4.282372</td>\n      <td>-1.095052</td>\n      <td>...</td>\n      <td>-0.656671</td>\n      <td>2.878975</td>\n      <td>2.843507</td>\n      <td>0.524680</td>\n      <td>-1.647712</td>\n      <td>1.736363</td>\n      <td>3.264446</td>\n      <td>-2.874477</td>\n      <td>-1.384443</td>\n      <td>-0.373464</td>\n    </tr>\n    <tr>\n      <th>...</th>\n      <td>...</td>\n      <td>...</td>\n      <td>...</td>\n      <td>...</td>\n      <td>...</td>\n      <td>...</td>\n      <td>...</td>\n      <td>...</td>\n      <td>...</td>\n      <td>...</td>\n      <td>...</td>\n      <td>...</td>\n      <td>...</td>\n      <td>...</td>\n      <td>...</td>\n      <td>...</td>\n      <td>...</td>\n      <td>...</td>\n      <td>...</td>\n      <td>...</td>\n      <td>...</td>\n    </tr>\n    <tr>\n      <th>208475</th>\n      <td>-4.461848</td>\n      <td>0.238742</td>\n      <td>-0.735954</td>\n      <td>-2.028388</td>\n      <td>-1.794362</td>\n      <td>-0.910754</td>\n      <td>0.061090</td>\n      <td>-1.373690</td>\n      <td>-0.909750</td>\n      <td>0.533776</td>\n      <td>...</td>\n      <td>1.050659</td>\n      <td>1.470510</td>\n      <td>0.022835</td>\n      <td>0.621411</td>\n      <td>0.606955</td>\n      <td>-0.153931</td>\n      <td>-0.445806</td>\n      <td>1.312991</td>\n      <td>0.674023</td>\n      <td>-0.228695</td>\n    </tr>\n    <tr>\n      <th>208476</th>\n      <td>-2.381251</td>\n      <td>-4.217525</td>\n      <td>-1.092262</td>\n      <td>-0.399383</td>\n      <td>-1.553406</td>\n      <td>-2.127632</td>\n      <td>0.886747</td>\n      <td>5.193605</td>\n      <td>2.025575</td>\n      <td>3.147457</td>\n      <td>...</td>\n      <td>-7.030700</td>\n      <td>-2.139624</td>\n      <td>1.498278</td>\n      <td>-1.407787</td>\n      <td>-1.537363</td>\n      <td>-1.549798</td>\n      <td>0.516195</td>\n      <td>-0.573612</td>\n      <td>-0.775153</td>\n      <td>0.384502</td>\n    </tr>\n    <tr>\n      <th>208477</th>\n      <td>-3.066257</td>\n      <td>2.537775</td>\n      <td>-1.134772</td>\n      <td>-3.825351</td>\n      <td>1.743642</td>\n      <td>-0.105119</td>\n      <td>-4.270846</td>\n      <td>-2.584461</td>\n      <td>-1.082671</td>\n      <td>-0.569215</td>\n      <td>...</td>\n      <td>1.133111</td>\n      <td>0.894609</td>\n      <td>0.160814</td>\n      <td>1.189596</td>\n      <td>0.768193</td>\n      <td>-0.593882</td>\n      <td>-0.751255</td>\n      <td>1.575147</td>\n      <td>0.741468</td>\n      <td>-0.178820</td>\n    </tr>\n    <tr>\n      <th>208478</th>\n      <td>-2.572597</td>\n      <td>-0.301124</td>\n      <td>-3.120865</td>\n      <td>-3.591399</td>\n      <td>2.290917</td>\n      <td>-1.981141</td>\n      <td>-2.663281</td>\n      <td>2.321766</td>\n      <td>1.073716</td>\n      <td>0.206718</td>\n      <td>...</td>\n      <td>0.633954</td>\n      <td>-0.122328</td>\n      <td>-1.006651</td>\n      <td>0.451298</td>\n      <td>-0.545475</td>\n      <td>-0.459392</td>\n      <td>-0.229523</td>\n      <td>0.099146</td>\n      <td>-0.697393</td>\n      <td>0.091694</td>\n    </tr>\n    <tr>\n      <th>208479</th>\n      <td>-4.108119</td>\n      <td>-2.971069</td>\n      <td>-1.814708</td>\n      <td>-2.421412</td>\n      <td>-0.476931</td>\n      <td>0.563692</td>\n      <td>0.149018</td>\n      <td>-4.456863</td>\n      <td>0.967975</td>\n      <td>-1.577730</td>\n      <td>...</td>\n      <td>3.322105</td>\n      <td>-8.430271</td>\n      <td>-4.092259</td>\n      <td>0.556481</td>\n      <td>-1.295915</td>\n      <td>-2.087164</td>\n      <td>-5.941899</td>\n      <td>4.793716</td>\n      <td>0.210079</td>\n      <td>1.681835</td>\n    </tr>\n  </tbody>\n</table>\n<p>208480 rows × 24 columns</p>\n</div>"
     },
     "execution_count": 13,
     "metadata": {},
     "output_type": "execute_result"
    }
   ],
   "source": [
    "X_t"
   ],
   "metadata": {
    "collapsed": false,
    "ExecuteTime": {
     "end_time": "2023-11-22T19:23:38.662563678Z",
     "start_time": "2023-11-22T19:23:38.628334535Z"
    }
   },
   "id": "3172a29e426668b7"
  },
  {
   "cell_type": "code",
   "execution_count": 14,
   "outputs": [],
   "source": [
    "from imblearn.over_sampling import SMOTENC, ADASYN\n",
    "from imblearn.under_sampling import TomekLinks, NeighbourhoodCleaningRule, CondensedNearestNeighbour\n",
    "from imblearn.combine import SMOTETomek, SMOTEENN\n",
    "# sm = ADASYN(random_state=20)\n",
    "# um = TomekLinks()\n",
    "# um = NeighbourhoodCleaningRule()\n",
    "# um = CondensedNearestNeighbour(random_state=20)\n",
    "cm = SMOTETomek(random_state=20)\n",
    "# cm = SMOTEENN(random_state=20)"
   ],
   "metadata": {
    "collapsed": false,
    "ExecuteTime": {
     "end_time": "2023-11-22T19:23:38.724333724Z",
     "start_time": "2023-11-22T19:23:38.663570230Z"
    }
   },
   "id": "6062f2c1138a1ef7"
  },
  {
   "cell_type": "code",
   "execution_count": 15,
   "outputs": [],
   "source": [
    "X_res, y_res = cm.fit_resample(X_t, y)"
   ],
   "metadata": {
    "collapsed": false,
    "ExecuteTime": {
     "end_time": "2023-11-22T19:24:37.009610331Z",
     "start_time": "2023-11-22T19:23:38.710759979Z"
    }
   },
   "id": "e273a31f1a3e172"
  },
  {
   "cell_type": "code",
   "execution_count": 16,
   "outputs": [
    {
     "data": {
      "text/plain": "component        0          1          2          3         4          5   \\\n0         -4.309564  -2.507675  -2.193442  -2.617493 -1.636667  -0.327119   \n1         -3.977083  -2.600835  -2.686598  -1.733000 -1.327434  -2.821173   \n2         -1.720871   0.469089  -3.641277  -3.406394  3.505867   1.178325   \n3         -3.992385  -3.115595  -1.830131  -2.374022 -0.543896   0.627794   \n4          1.898713   5.260786  -2.488995  22.690547 -4.781668  -2.984109   \n...             ...        ...        ...        ...       ...        ...   \n329411    -3.401530  -1.495000  -2.030445  -1.070015 -2.337376   0.105928   \n329412    -3.352802  -2.784479  -2.287636  -1.680437  1.820542   2.200988   \n329413    -2.383247  -8.994809  13.442571  -0.299157  2.803459  -5.000589   \n329414    -3.892260  -3.426427  -2.848297  -0.798657 -0.081187  -0.884771   \n329415     2.473525  17.545607   7.937086  -4.805640  3.819117  19.388692   \n\ncomponent        6         7          8          9   ...        14         15  \\\n0          2.021620  0.281312   0.169960   0.107069  ... -0.872599   0.624577   \n1          1.717161  3.515147   1.285762   1.306356  ...  0.513944   0.474292   \n2         -6.110034  0.078589   1.169676  -2.801258  ... -6.949557  -3.231875   \n3          0.231131 -4.448583   0.952306  -1.579524  ...  3.346737  -8.424009   \n4          4.551011  6.163579  -6.857970 -17.571726  ...  7.746705  -9.384844   \n...             ...       ...        ...        ...  ...       ...        ...   \n329411     6.172387  9.258242   2.901840   0.436430  ... -0.576452  -2.686028   \n329412     4.574798 -5.136315   0.601303  -2.785517  ...  5.737044 -10.150256   \n329413     0.271968  4.587223  -1.305468  -0.435320  ...  1.345422   2.018589   \n329414    -1.251743 -0.385185   0.063031   0.426799  ...  0.926782   0.884333   \n329415     1.523492  9.885219  15.776985 -14.127063  ... -3.827319   1.578836   \n\ncomponent         16        17         18        19        20        21  \\\n0           0.927984 -0.852549  -0.806622  1.231107  2.419647 -3.181501   \n1          -1.136969 -0.153152  -0.686537  0.015549  0.072799 -0.171169   \n2           0.795902 -2.524868   0.596994  4.971336  1.755325 -5.073979   \n3          -4.104996  0.555465  -1.285616 -2.066577 -5.938534  4.775898   \n4          13.015751 -1.471932   5.756446  0.453969 -3.663084 -8.120956   \n...              ...       ...        ...       ...       ...       ...   \n329411     -1.357396 -4.320853  -1.034170  4.118631 -1.126499  0.083985   \n329412     -4.248440  0.034531  -1.433955 -4.791628 -5.851660  5.222713   \n329413     -0.651736  1.010935  -1.785942  1.274840  0.326993 -0.428244   \n329414     -0.484270  0.498629   0.282707  0.018201 -0.351974  0.816108   \n329415     12.563805 -0.325644 -13.945770 -1.788449  2.094289  1.244278   \n\ncomponent        22        23  \n0         -1.394613  0.333703  \n1         -0.729217  0.031830  \n2         -7.057358  1.017891  \n3          0.200813  1.691504  \n4          7.137709 -3.938807  \n...             ...       ...  \n329411    -1.150828  0.733957  \n329412    -1.644472  1.694003  \n329413    -1.137240 -0.265516  \n329414     0.532853 -0.150579  \n329415     3.530104  0.316184  \n\n[329416 rows x 24 columns]",
      "text/html": "<div>\n<style scoped>\n    .dataframe tbody tr th:only-of-type {\n        vertical-align: middle;\n    }\n\n    .dataframe tbody tr th {\n        vertical-align: top;\n    }\n\n    .dataframe thead th {\n        text-align: right;\n    }\n</style>\n<table border=\"1\" class=\"dataframe\">\n  <thead>\n    <tr style=\"text-align: right;\">\n      <th>component</th>\n      <th>0</th>\n      <th>1</th>\n      <th>2</th>\n      <th>3</th>\n      <th>4</th>\n      <th>5</th>\n      <th>6</th>\n      <th>7</th>\n      <th>8</th>\n      <th>9</th>\n      <th>...</th>\n      <th>14</th>\n      <th>15</th>\n      <th>16</th>\n      <th>17</th>\n      <th>18</th>\n      <th>19</th>\n      <th>20</th>\n      <th>21</th>\n      <th>22</th>\n      <th>23</th>\n    </tr>\n  </thead>\n  <tbody>\n    <tr>\n      <th>0</th>\n      <td>-4.309564</td>\n      <td>-2.507675</td>\n      <td>-2.193442</td>\n      <td>-2.617493</td>\n      <td>-1.636667</td>\n      <td>-0.327119</td>\n      <td>2.021620</td>\n      <td>0.281312</td>\n      <td>0.169960</td>\n      <td>0.107069</td>\n      <td>...</td>\n      <td>-0.872599</td>\n      <td>0.624577</td>\n      <td>0.927984</td>\n      <td>-0.852549</td>\n      <td>-0.806622</td>\n      <td>1.231107</td>\n      <td>2.419647</td>\n      <td>-3.181501</td>\n      <td>-1.394613</td>\n      <td>0.333703</td>\n    </tr>\n    <tr>\n      <th>1</th>\n      <td>-3.977083</td>\n      <td>-2.600835</td>\n      <td>-2.686598</td>\n      <td>-1.733000</td>\n      <td>-1.327434</td>\n      <td>-2.821173</td>\n      <td>1.717161</td>\n      <td>3.515147</td>\n      <td>1.285762</td>\n      <td>1.306356</td>\n      <td>...</td>\n      <td>0.513944</td>\n      <td>0.474292</td>\n      <td>-1.136969</td>\n      <td>-0.153152</td>\n      <td>-0.686537</td>\n      <td>0.015549</td>\n      <td>0.072799</td>\n      <td>-0.171169</td>\n      <td>-0.729217</td>\n      <td>0.031830</td>\n    </tr>\n    <tr>\n      <th>2</th>\n      <td>-1.720871</td>\n      <td>0.469089</td>\n      <td>-3.641277</td>\n      <td>-3.406394</td>\n      <td>3.505867</td>\n      <td>1.178325</td>\n      <td>-6.110034</td>\n      <td>0.078589</td>\n      <td>1.169676</td>\n      <td>-2.801258</td>\n      <td>...</td>\n      <td>-6.949557</td>\n      <td>-3.231875</td>\n      <td>0.795902</td>\n      <td>-2.524868</td>\n      <td>0.596994</td>\n      <td>4.971336</td>\n      <td>1.755325</td>\n      <td>-5.073979</td>\n      <td>-7.057358</td>\n      <td>1.017891</td>\n    </tr>\n    <tr>\n      <th>3</th>\n      <td>-3.992385</td>\n      <td>-3.115595</td>\n      <td>-1.830131</td>\n      <td>-2.374022</td>\n      <td>-0.543896</td>\n      <td>0.627794</td>\n      <td>0.231131</td>\n      <td>-4.448583</td>\n      <td>0.952306</td>\n      <td>-1.579524</td>\n      <td>...</td>\n      <td>3.346737</td>\n      <td>-8.424009</td>\n      <td>-4.104996</td>\n      <td>0.555465</td>\n      <td>-1.285616</td>\n      <td>-2.066577</td>\n      <td>-5.938534</td>\n      <td>4.775898</td>\n      <td>0.200813</td>\n      <td>1.691504</td>\n    </tr>\n    <tr>\n      <th>4</th>\n      <td>1.898713</td>\n      <td>5.260786</td>\n      <td>-2.488995</td>\n      <td>22.690547</td>\n      <td>-4.781668</td>\n      <td>-2.984109</td>\n      <td>4.551011</td>\n      <td>6.163579</td>\n      <td>-6.857970</td>\n      <td>-17.571726</td>\n      <td>...</td>\n      <td>7.746705</td>\n      <td>-9.384844</td>\n      <td>13.015751</td>\n      <td>-1.471932</td>\n      <td>5.756446</td>\n      <td>0.453969</td>\n      <td>-3.663084</td>\n      <td>-8.120956</td>\n      <td>7.137709</td>\n      <td>-3.938807</td>\n    </tr>\n    <tr>\n      <th>...</th>\n      <td>...</td>\n      <td>...</td>\n      <td>...</td>\n      <td>...</td>\n      <td>...</td>\n      <td>...</td>\n      <td>...</td>\n      <td>...</td>\n      <td>...</td>\n      <td>...</td>\n      <td>...</td>\n      <td>...</td>\n      <td>...</td>\n      <td>...</td>\n      <td>...</td>\n      <td>...</td>\n      <td>...</td>\n      <td>...</td>\n      <td>...</td>\n      <td>...</td>\n      <td>...</td>\n    </tr>\n    <tr>\n      <th>329411</th>\n      <td>-3.401530</td>\n      <td>-1.495000</td>\n      <td>-2.030445</td>\n      <td>-1.070015</td>\n      <td>-2.337376</td>\n      <td>0.105928</td>\n      <td>6.172387</td>\n      <td>9.258242</td>\n      <td>2.901840</td>\n      <td>0.436430</td>\n      <td>...</td>\n      <td>-0.576452</td>\n      <td>-2.686028</td>\n      <td>-1.357396</td>\n      <td>-4.320853</td>\n      <td>-1.034170</td>\n      <td>4.118631</td>\n      <td>-1.126499</td>\n      <td>0.083985</td>\n      <td>-1.150828</td>\n      <td>0.733957</td>\n    </tr>\n    <tr>\n      <th>329412</th>\n      <td>-3.352802</td>\n      <td>-2.784479</td>\n      <td>-2.287636</td>\n      <td>-1.680437</td>\n      <td>1.820542</td>\n      <td>2.200988</td>\n      <td>4.574798</td>\n      <td>-5.136315</td>\n      <td>0.601303</td>\n      <td>-2.785517</td>\n      <td>...</td>\n      <td>5.737044</td>\n      <td>-10.150256</td>\n      <td>-4.248440</td>\n      <td>0.034531</td>\n      <td>-1.433955</td>\n      <td>-4.791628</td>\n      <td>-5.851660</td>\n      <td>5.222713</td>\n      <td>-1.644472</td>\n      <td>1.694003</td>\n    </tr>\n    <tr>\n      <th>329413</th>\n      <td>-2.383247</td>\n      <td>-8.994809</td>\n      <td>13.442571</td>\n      <td>-0.299157</td>\n      <td>2.803459</td>\n      <td>-5.000589</td>\n      <td>0.271968</td>\n      <td>4.587223</td>\n      <td>-1.305468</td>\n      <td>-0.435320</td>\n      <td>...</td>\n      <td>1.345422</td>\n      <td>2.018589</td>\n      <td>-0.651736</td>\n      <td>1.010935</td>\n      <td>-1.785942</td>\n      <td>1.274840</td>\n      <td>0.326993</td>\n      <td>-0.428244</td>\n      <td>-1.137240</td>\n      <td>-0.265516</td>\n    </tr>\n    <tr>\n      <th>329414</th>\n      <td>-3.892260</td>\n      <td>-3.426427</td>\n      <td>-2.848297</td>\n      <td>-0.798657</td>\n      <td>-0.081187</td>\n      <td>-0.884771</td>\n      <td>-1.251743</td>\n      <td>-0.385185</td>\n      <td>0.063031</td>\n      <td>0.426799</td>\n      <td>...</td>\n      <td>0.926782</td>\n      <td>0.884333</td>\n      <td>-0.484270</td>\n      <td>0.498629</td>\n      <td>0.282707</td>\n      <td>0.018201</td>\n      <td>-0.351974</td>\n      <td>0.816108</td>\n      <td>0.532853</td>\n      <td>-0.150579</td>\n    </tr>\n    <tr>\n      <th>329415</th>\n      <td>2.473525</td>\n      <td>17.545607</td>\n      <td>7.937086</td>\n      <td>-4.805640</td>\n      <td>3.819117</td>\n      <td>19.388692</td>\n      <td>1.523492</td>\n      <td>9.885219</td>\n      <td>15.776985</td>\n      <td>-14.127063</td>\n      <td>...</td>\n      <td>-3.827319</td>\n      <td>1.578836</td>\n      <td>12.563805</td>\n      <td>-0.325644</td>\n      <td>-13.945770</td>\n      <td>-1.788449</td>\n      <td>2.094289</td>\n      <td>1.244278</td>\n      <td>3.530104</td>\n      <td>0.316184</td>\n    </tr>\n  </tbody>\n</table>\n<p>329416 rows × 24 columns</p>\n</div>"
     },
     "execution_count": 16,
     "metadata": {},
     "output_type": "execute_result"
    }
   ],
   "source": [
    "X_res"
   ],
   "metadata": {
    "collapsed": false,
    "ExecuteTime": {
     "end_time": "2023-11-22T19:24:37.049496702Z",
     "start_time": "2023-11-22T19:24:37.020688021Z"
    }
   },
   "id": "f4135f257f49c029"
  },
  {
   "cell_type": "code",
   "execution_count": 17,
   "outputs": [
    {
     "data": {
      "text/plain": "0         2\n1         2\n2         2\n3         2\n4         3\n         ..\n329411    3\n329412    3\n329413    3\n329414    3\n329415    3\nName: damage_grade, Length: 329416, dtype: int64"
     },
     "execution_count": 17,
     "metadata": {},
     "output_type": "execute_result"
    }
   ],
   "source": [
    "y_res"
   ],
   "metadata": {
    "collapsed": false,
    "ExecuteTime": {
     "end_time": "2023-11-22T19:24:37.052878488Z",
     "start_time": "2023-11-22T19:24:37.050639333Z"
    }
   },
   "id": "afd5e662d8088174"
  },
  {
   "cell_type": "code",
   "execution_count": 18,
   "outputs": [
    {
     "data": {
      "text/plain": "(array([1, 2, 3]), array([115606, 106019, 107791]))"
     },
     "execution_count": 18,
     "metadata": {},
     "output_type": "execute_result"
    }
   ],
   "source": [
    "np.unique(y_res, return_counts=True)"
   ],
   "metadata": {
    "collapsed": false,
    "ExecuteTime": {
     "end_time": "2023-11-22T19:24:37.113347690Z",
     "start_time": "2023-11-22T19:24:37.052938979Z"
    }
   },
   "id": "1ec7a0a51881c9f3"
  },
  {
   "cell_type": "code",
   "execution_count": 19,
   "outputs": [
    {
     "data": {
      "text/plain": "array([[-0.60331169, -0.47878823, -0.37686367, ..., -0.77680124,\n        -0.31289417,  0.07488915],\n       [-0.57485455, -0.49327078, -0.46532688, ..., -0.04818048,\n        -0.16577757,  0.00801116],\n       [-0.38174487, -0.01602149, -0.63657898, ..., -1.23485677,\n        -1.56490598,  0.22646677],\n       ...,\n       [-0.43843775, -1.48727594,  2.42795336, ..., -0.11040282,\n        -0.25599001, -0.05786394],\n       [-0.56759454, -0.62161712, -0.4943327 , ...,  0.19078009,\n         0.11326135, -0.03240049],\n       [-0.02274558,  2.63868862,  1.4403692 , ...,  0.29441444,\n         0.77594252,  0.07100784]])"
     },
     "execution_count": 19,
     "metadata": {},
     "output_type": "execute_result"
    }
   ],
   "source": [
    "X_scaled = StandardScaler().fit_transform(X_res.values)\n",
    "X_scaled"
   ],
   "metadata": {
    "collapsed": false,
    "ExecuteTime": {
     "end_time": "2023-11-22T19:24:37.173053279Z",
     "start_time": "2023-11-22T19:24:37.077205249Z"
    }
   },
   "id": "603598fffd94b852"
  },
  {
   "cell_type": "code",
   "execution_count": 20,
   "outputs": [
    {
     "data": {
      "text/plain": "0         2\n1         2\n2         2\n3         2\n4         3\n         ..\n329411    3\n329412    3\n329413    3\n329414    3\n329415    3\nName: damage_grade, Length: 329416, dtype: int64"
     },
     "execution_count": 20,
     "metadata": {},
     "output_type": "execute_result"
    }
   ],
   "source": [
    "y_res"
   ],
   "metadata": {
    "collapsed": false,
    "ExecuteTime": {
     "end_time": "2023-11-22T19:24:37.202055394Z",
     "start_time": "2023-11-22T19:24:37.157193639Z"
    }
   },
   "id": "f22f8bf0b7183a9c"
  },
  {
   "cell_type": "code",
   "execution_count": 21,
   "outputs": [],
   "source": [
    "y_l = np.array(y_res - 1)\n",
    "X_l = np.array(X_scaled)\n",
    "X_train, X_test, y_train, y_test = tts(X_l, y_l, test_size=0.25, random_state=15)"
   ],
   "metadata": {
    "collapsed": false,
    "ExecuteTime": {
     "end_time": "2023-11-22T19:24:37.240466665Z",
     "start_time": "2023-11-22T19:24:37.197906310Z"
    }
   },
   "id": "379ff343ce364cf0"
  },
  {
   "cell_type": "code",
   "execution_count": 22,
   "outputs": [
    {
     "data": {
      "text/plain": "(array([0, 1, 2]), array([86821, 79593, 80648]))"
     },
     "execution_count": 22,
     "metadata": {},
     "output_type": "execute_result"
    }
   ],
   "source": [
    "np.unique(y_train, return_counts=True)"
   ],
   "metadata": {
    "collapsed": false,
    "ExecuteTime": {
     "end_time": "2023-11-22T19:24:37.248952130Z",
     "start_time": "2023-11-22T19:24:37.241115332Z"
    }
   },
   "id": "fd66a07c2e1b40db"
  },
  {
   "cell_type": "code",
   "execution_count": 23,
   "outputs": [
    {
     "data": {
      "text/plain": "array([1, 1, 0, ..., 0, 0, 0])"
     },
     "execution_count": 23,
     "metadata": {},
     "output_type": "execute_result"
    }
   ],
   "source": [
    "y_test"
   ],
   "metadata": {
    "collapsed": false,
    "ExecuteTime": {
     "end_time": "2023-11-22T19:24:37.276771982Z",
     "start_time": "2023-11-22T19:24:37.248105563Z"
    }
   },
   "id": "c6545e40d7aac4df"
  },
  {
   "cell_type": "code",
   "execution_count": 71,
   "outputs": [],
   "source": [
    "output_size = np.unique(y_l).shape[0]\n",
    "input_size = X_train.shape[1]\n",
    "\n",
    "one = LVQ3(input_size=input_size, output_size=output_size, random_state=21, epoch=50, alpha=0.35, beta=0.2, m=0.2,epsilon=0.5)\n",
    "# one.fit(X_train, y_train)\n",
    "\n"
   ],
   "metadata": {
    "collapsed": false,
    "ExecuteTime": {
     "end_time": "2023-11-22T19:40:59.757263769Z",
     "start_time": "2023-11-22T19:40:59.735550998Z"
    }
   },
   "id": "1fc0af786a67bbb9"
  },
  {
   "cell_type": "code",
   "execution_count": 115,
   "outputs": [
    {
     "data": {
      "text/plain": "array([[-0.54364325, -0.3166606 , -0.35720699, ..., -0.1560186 ,\n         0.23849026, -0.09918202],\n       [-0.33571196, -0.0995511 , -0.30143126, ...,  0.08318436,\n         1.05023523, -0.48813714],\n       [-0.57441034, -0.51045358, -0.46829583, ..., -0.0491111 ,\n        -0.16905759,  0.00767509],\n       ...,\n       [-0.4987933 ,  0.30578837, -0.19176103, ...,  0.37645416,\n         0.15394247, -0.03741092],\n       [ 0.90864365,  0.94536065, -1.18319375, ...,  0.07898511,\n         0.25688824,  0.13654522],\n       [ 2.54849081, -0.79702766, -0.66221816, ...,  0.44417254,\n        -0.47998474, -0.27743699]])"
     },
     "execution_count": 115,
     "metadata": {},
     "output_type": "execute_result"
    }
   ],
   "source": [
    "X_test"
   ],
   "metadata": {
    "collapsed": false,
    "ExecuteTime": {
     "end_time": "2023-11-22T19:52:26.672228096Z",
     "start_time": "2023-11-22T19:52:26.630967927Z"
    }
   },
   "id": "5f5cdf447a0f6541"
  },
  {
   "cell_type": "code",
   "execution_count": 123,
   "outputs": [
    {
     "name": "stdout",
     "output_type": "stream",
     "text": [
      "Current Col13\n",
      "Training\n",
      "Finished Training\n",
      "Best acc:  -inf  Cur acc:  0.34952764893022803\n",
      "[0, 1, 2, 3, 4, 13]\n",
      "Current Col14\n",
      "Training\n",
      "Finished Training\n",
      "Best acc:  0.34952764893022803  Cur acc:  0.34952764893022803\n",
      "[0, 1, 2, 3, 4, 13]\n",
      "Current Col15\n",
      "Training\n",
      "Finished Training\n",
      "Best acc:  0.34952764893022803  Cur acc:  0.34952764893022803\n",
      "[0, 1, 2, 3, 4, 13]\n",
      "Current Col16\n",
      "Training\n",
      "Finished Training\n",
      "Best acc:  0.34952764893022803  Cur acc:  0.34952764893022803\n",
      "[0, 1, 2, 3, 4, 13]\n",
      "Current Col17\n",
      "Training\n",
      "Finished Training\n",
      "Best acc:  0.34952764893022803  Cur acc:  0.34952764893022803\n",
      "[0, 1, 2, 3, 4, 13]\n",
      "Current Col18\n",
      "Training\n",
      "Finished Training\n",
      "Best acc:  0.34952764893022803  Cur acc:  0.34951550622920563\n",
      "[0, 1, 2, 3, 4, 13]\n",
      "Current Col19\n",
      "Training\n",
      "Finished Training\n",
      "Best acc:  0.34952764893022803  Cur acc:  0.34952764893022803\n",
      "[0, 1, 2, 3, 4, 13]\n",
      "Current Col20\n",
      "Training\n",
      "Finished Training\n",
      "Best acc:  0.34952764893022803  Cur acc:  0.34952764893022803\n",
      "[0, 1, 2, 3, 4, 13]\n",
      "Current Col21\n",
      "Training\n",
      "Finished Training\n",
      "Best acc:  0.34952764893022803  Cur acc:  0.3495519343322729\n",
      "[0, 1, 2, 3, 4, 13, 21]\n",
      "Current Col22\n",
      "Training\n",
      "Finished Training\n",
      "Best acc:  0.3495519343322729  Cur acc:  0.34953979163125043\n",
      "[0, 1, 2, 3, 4, 13, 21]\n",
      "Current Col23\n",
      "Training\n",
      "Finished Training\n",
      "Best acc:  0.3495519343322729  Cur acc:  0.34952764893022803\n",
      "[0, 1, 2, 3, 4, 13, 21]\n"
     ]
    }
   ],
   "source": [
    "selected = [0, 1, 2, 3, 4, 13, 21]\n",
    "current_acc = -np.inf\n",
    "\n",
    "if False:\n",
    "    for col in range(13, X_train.shape[1]):\n",
    "        print(\"Current Col\" + str(col))\n",
    "        selected.append(col)\n",
    "        print(\"Training\")\n",
    "        sfs = LVQ3(input_size=len(selected), output_size=output_size, random_state=21, epoch=20, alpha=0.35, beta=0.25, m=0.2,epsilon=0.45)\n",
    "        sfs.fit(X_train[:,selected], y_train)\n",
    "        print(\"Finished Training\")\n",
    "        cur = sfs.predict(X_test[:,selected])\n",
    "        acc = accuracy_score(cur, y_test)\n",
    "        print(\"Best acc: \", current_acc, \" Cur acc: \", acc)\n",
    "        if acc > current_acc:\n",
    "            current_acc = acc\n",
    "        else:\n",
    "            selected.pop()\n",
    "        print(selected)\n",
    "    "
   ],
   "metadata": {
    "collapsed": false,
    "ExecuteTime": {
     "end_time": "2023-11-23T01:59:30.763160814Z",
     "start_time": "2023-11-23T01:31:48.677898762Z"
    }
   },
   "id": "a50175cf02332e39"
  },
  {
   "cell_type": "code",
   "execution_count": 124,
   "outputs": [],
   "source": [
    "sfs = LVQ3(input_size=len(selected), output_size=output_size, random_state=21, epoch=100, alpha=0.35, beta=0.25, m=0.2,epsilon=0.45)\n",
    "sfs.fit(X_train[:,selected], y_train)\n"
   ],
   "metadata": {
    "collapsed": false,
    "ExecuteTime": {
     "end_time": "2023-11-23T02:13:52.444514937Z",
     "start_time": "2023-11-23T02:01:02.854489760Z"
    }
   },
   "id": "d5f0494a299aa90"
  },
  {
   "cell_type": "code",
   "execution_count": 125,
   "outputs": [
    {
     "data": {
      "text/plain": "array([[  5.36160014,  -1.2709017 ,   1.95592032,  -0.69444597,\n         -1.26329795,  -5.37317725,   3.76285558],\n       [-15.87952405,   4.92680221, -26.46711663,  19.22960644,\n        -18.65739087, -17.57120294,  -5.15477141],\n       [-20.30505947,   0.78634607,  -7.92572669,   9.13053603,\n          6.92687833,   9.46306736, -25.04558991]])"
     },
     "execution_count": 125,
     "metadata": {},
     "output_type": "execute_result"
    }
   ],
   "source": [
    "sfs.weight"
   ],
   "metadata": {
    "collapsed": false,
    "ExecuteTime": {
     "end_time": "2023-11-23T02:13:52.486321856Z",
     "start_time": "2023-11-23T02:13:52.485921749Z"
    }
   },
   "id": "a9abb00e924baef7"
  },
  {
   "cell_type": "code",
   "execution_count": 126,
   "outputs": [
    {
     "data": {
      "text/plain": "array([0, 2, 0, ..., 0, 0, 0])"
     },
     "execution_count": 126,
     "metadata": {},
     "output_type": "execute_result"
    }
   ],
   "source": [
    "y_train"
   ],
   "metadata": {
    "collapsed": false,
    "ExecuteTime": {
     "end_time": "2023-11-23T02:13:52.486527328Z",
     "start_time": "2023-11-23T02:13:52.486049598Z"
    }
   },
   "id": "b7442dd9dd62517f"
  },
  {
   "cell_type": "code",
   "execution_count": 127,
   "outputs": [
    {
     "name": "stdout",
     "output_type": "stream",
     "text": [
      "              precision    recall  f1-score   support\n",
      "\n",
      "           0       1.00      0.35      0.52     82349\n",
      "           1       0.00      1.00      0.00         0\n",
      "           2       0.00      0.40      0.00         5\n",
      "\n",
      "    accuracy                           0.35     82354\n",
      "   macro avg       0.33      0.58      0.17     82354\n",
      "weighted avg       1.00      0.35      0.52     82354\n"
     ]
    }
   ],
   "source": [
    "res = sfs.predict(X_test[:,selected])\n",
    "print(classification_report(res, y_test, zero_division=1))"
   ],
   "metadata": {
    "collapsed": false,
    "ExecuteTime": {
     "end_time": "2023-11-23T02:13:53.851045128Z",
     "start_time": "2023-11-23T02:13:52.486096952Z"
    }
   },
   "id": "c70fe90ef9a286b2"
  },
  {
   "cell_type": "code",
   "execution_count": null,
   "outputs": [],
   "source": [],
   "metadata": {
    "collapsed": false,
    "ExecuteTime": {
     "start_time": "2023-11-22T19:24:37.659159240Z"
    }
   },
   "id": "d41aba2ba35fb25"
  },
  {
   "cell_type": "code",
   "execution_count": null,
   "outputs": [],
   "source": [],
   "metadata": {
    "collapsed": false,
    "ExecuteTime": {
     "start_time": "2023-11-22T19:24:37.659296990Z"
    }
   },
   "id": "845018d9584c47c6"
  }
 ],
 "metadata": {
  "kernelspec": {
   "display_name": "Python 3",
   "language": "python",
   "name": "python3"
  },
  "language_info": {
   "codemirror_mode": {
    "name": "ipython",
    "version": 2
   },
   "file_extension": ".py",
   "mimetype": "text/x-python",
   "name": "python",
   "nbconvert_exporter": "python",
   "pygments_lexer": "ipython2",
   "version": "2.7.6"
  }
 },
 "nbformat": 4,
 "nbformat_minor": 5
}
