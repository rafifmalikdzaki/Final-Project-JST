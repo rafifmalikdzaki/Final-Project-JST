{
 "cells": [
  {
   "cell_type": "code",
   "execution_count": 1,
   "outputs": [],
   "source": [
    "import numpy as np\n",
    "import pandas as pd\n",
    "from sklearn.model_selection import train_test_split as tts\n",
    "from sklearn.metrics import accuracy_score, classification_report\n",
    "from sklearn.preprocessing import StandardScaler\n",
    "from LVQ.lvq import LVQ3"
   ],
   "metadata": {
    "collapsed": false,
    "ExecuteTime": {
     "end_time": "2023-11-23T06:56:36.091612588Z",
     "start_time": "2023-11-23T06:56:35.778580218Z"
    }
   },
   "id": "initial_id"
  },
  {
   "cell_type": "code",
   "execution_count": 2,
   "outputs": [],
   "source": [
    "X, y = pd.read_csv(\"../data/raw/train_values.csv\"), pd.read_csv(\"../data/raw/train_labels.csv\")"
   ],
   "metadata": {
    "collapsed": false,
    "ExecuteTime": {
     "end_time": "2023-11-23T06:56:36.322032445Z",
     "start_time": "2023-11-23T06:56:36.092634043Z"
    }
   },
   "id": "5f7ca36ee97ebc54"
  },
  {
   "cell_type": "code",
   "execution_count": 3,
   "outputs": [
    {
     "data": {
      "text/plain": "        building_id  geo_level_1_id  geo_level_2_id  geo_level_3_id  \\\n0           1020144              10             804            1371   \n1            199685              25             211            5071   \n2           1038433              22             816           12104   \n3            461920               6             449            3741   \n4            957027              20             254            5266   \n...             ...             ...             ...             ...   \n208475       788768              22             165           10190   \n208476       490379              27             269            5197   \n208477       294228              26            1259           10829   \n208478       464117               7             258            1869   \n208479       652585              26             366            2116   \n\n        count_floors_pre_eq  age  area_percentage  height_percentage  \\\n0                         2    5                7                  6   \n1                         2   25                9                  4   \n2                         2   10                5                  4   \n3                         1   10                8                  3   \n4                         2   10               10                  6   \n...                     ...  ...              ...                ...   \n208475                    2   30                5                  4   \n208476                    3   80                5                  6   \n208477                    1   10                4                  6   \n208478                    1   15                6                  3   \n208479                    2   20                8                  5   \n\n       land_surface_condition foundation_type  ...  \\\n0                           t               r  ...   \n1                           n               r  ...   \n2                           t               r  ...   \n3                           t               r  ...   \n4                           n               w  ...   \n...                       ...             ...  ...   \n208475                      t               r  ...   \n208476                      t               r  ...   \n208477                      t               r  ...   \n208478                      t               r  ...   \n208479                      o               r  ...   \n\n       has_secondary_use_agriculture has_secondary_use_hotel  \\\n0                                  0                       0   \n1                                  0                       0   \n2                                  0                       0   \n3                                  0                       0   \n4                                  1                       0   \n...                              ...                     ...   \n208475                             0                       0   \n208476                             0                       0   \n208477                             0                       0   \n208478                             0                       0   \n208479                             0                       0   \n\n       has_secondary_use_rental has_secondary_use_institution  \\\n0                             0                             0   \n1                             0                             0   \n2                             0                             0   \n3                             0                             0   \n4                             0                             0   \n...                         ...                           ...   \n208475                        0                             0   \n208476                        0                             0   \n208477                        0                             0   \n208478                        0                             0   \n208479                        0                             0   \n\n       has_secondary_use_school  has_secondary_use_industry  \\\n0                             0                           0   \n1                             0                           0   \n2                             0                           0   \n3                             0                           0   \n4                             0                           0   \n...                         ...                         ...   \n208475                        0                           0   \n208476                        0                           0   \n208477                        0                           0   \n208478                        0                           0   \n208479                        0                           0   \n\n        has_secondary_use_health_post  has_secondary_use_gov_office  \\\n0                                   0                             0   \n1                                   0                             0   \n2                                   0                             0   \n3                                   0                             0   \n4                                   0                             0   \n...                               ...                           ...   \n208475                              0                             0   \n208476                              0                             0   \n208477                              0                             0   \n208478                              0                             0   \n208479                              0                             0   \n\n        has_secondary_use_use_police  has_secondary_use_other  \n0                                  0                        0  \n1                                  0                        0  \n2                                  0                        0  \n3                                  0                        0  \n4                                  0                        0  \n...                              ...                      ...  \n208475                             0                        0  \n208476                             0                        0  \n208477                             0                        0  \n208478                             0                        0  \n208479                             0                        0  \n\n[208480 rows x 39 columns]",
      "text/html": "<div>\n<style scoped>\n    .dataframe tbody tr th:only-of-type {\n        vertical-align: middle;\n    }\n\n    .dataframe tbody tr th {\n        vertical-align: top;\n    }\n\n    .dataframe thead th {\n        text-align: right;\n    }\n</style>\n<table border=\"1\" class=\"dataframe\">\n  <thead>\n    <tr style=\"text-align: right;\">\n      <th></th>\n      <th>building_id</th>\n      <th>geo_level_1_id</th>\n      <th>geo_level_2_id</th>\n      <th>geo_level_3_id</th>\n      <th>count_floors_pre_eq</th>\n      <th>age</th>\n      <th>area_percentage</th>\n      <th>height_percentage</th>\n      <th>land_surface_condition</th>\n      <th>foundation_type</th>\n      <th>...</th>\n      <th>has_secondary_use_agriculture</th>\n      <th>has_secondary_use_hotel</th>\n      <th>has_secondary_use_rental</th>\n      <th>has_secondary_use_institution</th>\n      <th>has_secondary_use_school</th>\n      <th>has_secondary_use_industry</th>\n      <th>has_secondary_use_health_post</th>\n      <th>has_secondary_use_gov_office</th>\n      <th>has_secondary_use_use_police</th>\n      <th>has_secondary_use_other</th>\n    </tr>\n  </thead>\n  <tbody>\n    <tr>\n      <th>0</th>\n      <td>1020144</td>\n      <td>10</td>\n      <td>804</td>\n      <td>1371</td>\n      <td>2</td>\n      <td>5</td>\n      <td>7</td>\n      <td>6</td>\n      <td>t</td>\n      <td>r</td>\n      <td>...</td>\n      <td>0</td>\n      <td>0</td>\n      <td>0</td>\n      <td>0</td>\n      <td>0</td>\n      <td>0</td>\n      <td>0</td>\n      <td>0</td>\n      <td>0</td>\n      <td>0</td>\n    </tr>\n    <tr>\n      <th>1</th>\n      <td>199685</td>\n      <td>25</td>\n      <td>211</td>\n      <td>5071</td>\n      <td>2</td>\n      <td>25</td>\n      <td>9</td>\n      <td>4</td>\n      <td>n</td>\n      <td>r</td>\n      <td>...</td>\n      <td>0</td>\n      <td>0</td>\n      <td>0</td>\n      <td>0</td>\n      <td>0</td>\n      <td>0</td>\n      <td>0</td>\n      <td>0</td>\n      <td>0</td>\n      <td>0</td>\n    </tr>\n    <tr>\n      <th>2</th>\n      <td>1038433</td>\n      <td>22</td>\n      <td>816</td>\n      <td>12104</td>\n      <td>2</td>\n      <td>10</td>\n      <td>5</td>\n      <td>4</td>\n      <td>t</td>\n      <td>r</td>\n      <td>...</td>\n      <td>0</td>\n      <td>0</td>\n      <td>0</td>\n      <td>0</td>\n      <td>0</td>\n      <td>0</td>\n      <td>0</td>\n      <td>0</td>\n      <td>0</td>\n      <td>0</td>\n    </tr>\n    <tr>\n      <th>3</th>\n      <td>461920</td>\n      <td>6</td>\n      <td>449</td>\n      <td>3741</td>\n      <td>1</td>\n      <td>10</td>\n      <td>8</td>\n      <td>3</td>\n      <td>t</td>\n      <td>r</td>\n      <td>...</td>\n      <td>0</td>\n      <td>0</td>\n      <td>0</td>\n      <td>0</td>\n      <td>0</td>\n      <td>0</td>\n      <td>0</td>\n      <td>0</td>\n      <td>0</td>\n      <td>0</td>\n    </tr>\n    <tr>\n      <th>4</th>\n      <td>957027</td>\n      <td>20</td>\n      <td>254</td>\n      <td>5266</td>\n      <td>2</td>\n      <td>10</td>\n      <td>10</td>\n      <td>6</td>\n      <td>n</td>\n      <td>w</td>\n      <td>...</td>\n      <td>1</td>\n      <td>0</td>\n      <td>0</td>\n      <td>0</td>\n      <td>0</td>\n      <td>0</td>\n      <td>0</td>\n      <td>0</td>\n      <td>0</td>\n      <td>0</td>\n    </tr>\n    <tr>\n      <th>...</th>\n      <td>...</td>\n      <td>...</td>\n      <td>...</td>\n      <td>...</td>\n      <td>...</td>\n      <td>...</td>\n      <td>...</td>\n      <td>...</td>\n      <td>...</td>\n      <td>...</td>\n      <td>...</td>\n      <td>...</td>\n      <td>...</td>\n      <td>...</td>\n      <td>...</td>\n      <td>...</td>\n      <td>...</td>\n      <td>...</td>\n      <td>...</td>\n      <td>...</td>\n      <td>...</td>\n    </tr>\n    <tr>\n      <th>208475</th>\n      <td>788768</td>\n      <td>22</td>\n      <td>165</td>\n      <td>10190</td>\n      <td>2</td>\n      <td>30</td>\n      <td>5</td>\n      <td>4</td>\n      <td>t</td>\n      <td>r</td>\n      <td>...</td>\n      <td>0</td>\n      <td>0</td>\n      <td>0</td>\n      <td>0</td>\n      <td>0</td>\n      <td>0</td>\n      <td>0</td>\n      <td>0</td>\n      <td>0</td>\n      <td>0</td>\n    </tr>\n    <tr>\n      <th>208476</th>\n      <td>490379</td>\n      <td>27</td>\n      <td>269</td>\n      <td>5197</td>\n      <td>3</td>\n      <td>80</td>\n      <td>5</td>\n      <td>6</td>\n      <td>t</td>\n      <td>r</td>\n      <td>...</td>\n      <td>0</td>\n      <td>0</td>\n      <td>0</td>\n      <td>0</td>\n      <td>0</td>\n      <td>0</td>\n      <td>0</td>\n      <td>0</td>\n      <td>0</td>\n      <td>0</td>\n    </tr>\n    <tr>\n      <th>208477</th>\n      <td>294228</td>\n      <td>26</td>\n      <td>1259</td>\n      <td>10829</td>\n      <td>1</td>\n      <td>10</td>\n      <td>4</td>\n      <td>6</td>\n      <td>t</td>\n      <td>r</td>\n      <td>...</td>\n      <td>0</td>\n      <td>0</td>\n      <td>0</td>\n      <td>0</td>\n      <td>0</td>\n      <td>0</td>\n      <td>0</td>\n      <td>0</td>\n      <td>0</td>\n      <td>0</td>\n    </tr>\n    <tr>\n      <th>208478</th>\n      <td>464117</td>\n      <td>7</td>\n      <td>258</td>\n      <td>1869</td>\n      <td>1</td>\n      <td>15</td>\n      <td>6</td>\n      <td>3</td>\n      <td>t</td>\n      <td>r</td>\n      <td>...</td>\n      <td>0</td>\n      <td>0</td>\n      <td>0</td>\n      <td>0</td>\n      <td>0</td>\n      <td>0</td>\n      <td>0</td>\n      <td>0</td>\n      <td>0</td>\n      <td>0</td>\n    </tr>\n    <tr>\n      <th>208479</th>\n      <td>652585</td>\n      <td>26</td>\n      <td>366</td>\n      <td>2116</td>\n      <td>2</td>\n      <td>20</td>\n      <td>8</td>\n      <td>5</td>\n      <td>o</td>\n      <td>r</td>\n      <td>...</td>\n      <td>0</td>\n      <td>0</td>\n      <td>0</td>\n      <td>0</td>\n      <td>0</td>\n      <td>0</td>\n      <td>0</td>\n      <td>0</td>\n      <td>0</td>\n      <td>0</td>\n    </tr>\n  </tbody>\n</table>\n<p>208480 rows × 39 columns</p>\n</div>"
     },
     "execution_count": 3,
     "metadata": {},
     "output_type": "execute_result"
    }
   ],
   "source": [
    "X"
   ],
   "metadata": {
    "collapsed": false,
    "ExecuteTime": {
     "end_time": "2023-11-23T06:56:36.363391478Z",
     "start_time": "2023-11-23T06:56:36.326488189Z"
    }
   },
   "id": "7649019767f56b6f"
  },
  {
   "cell_type": "code",
   "execution_count": 4,
   "outputs": [],
   "source": [
    "df = pd.merge(X, y,left_on=\"building_id\", right_on=\"building_id\").iloc[:,1:]"
   ],
   "metadata": {
    "collapsed": false,
    "ExecuteTime": {
     "end_time": "2023-11-23T06:56:36.444127027Z",
     "start_time": "2023-11-23T06:56:36.362598907Z"
    }
   },
   "id": "470270e8742ffdf7"
  },
  {
   "cell_type": "code",
   "execution_count": 5,
   "outputs": [],
   "source": [
    "# df.to_csv(\"../data/raw/train_data.csv\")"
   ],
   "metadata": {
    "collapsed": false,
    "ExecuteTime": {
     "end_time": "2023-11-23T06:56:36.484744404Z",
     "start_time": "2023-11-23T06:56:36.437977013Z"
    }
   },
   "id": "dfd5126c5eb1d9f1"
  },
  {
   "cell_type": "code",
   "execution_count": 6,
   "outputs": [
    {
     "name": "stdout",
     "output_type": "stream",
     "text": [
      "<class 'pandas.core.frame.DataFrame'>\n",
      "Int64Index: 208480 entries, 0 to 208479\n",
      "Data columns (total 39 columns):\n",
      " #   Column                                  Non-Null Count   Dtype \n",
      "---  ------                                  --------------   ----- \n",
      " 0   geo_level_1_id                          208480 non-null  int64 \n",
      " 1   geo_level_2_id                          208480 non-null  int64 \n",
      " 2   geo_level_3_id                          208480 non-null  int64 \n",
      " 3   count_floors_pre_eq                     208480 non-null  int64 \n",
      " 4   age                                     208480 non-null  int64 \n",
      " 5   area_percentage                         208480 non-null  int64 \n",
      " 6   height_percentage                       208480 non-null  int64 \n",
      " 7   land_surface_condition                  208480 non-null  object\n",
      " 8   foundation_type                         208480 non-null  object\n",
      " 9   roof_type                               208480 non-null  object\n",
      " 10  ground_floor_type                       208480 non-null  object\n",
      " 11  other_floor_type                        208480 non-null  object\n",
      " 12  position                                208480 non-null  object\n",
      " 13  plan_configuration                      208480 non-null  object\n",
      " 14  has_superstructure_adobe_mud            208480 non-null  int64 \n",
      " 15  has_superstructure_mud_mortar_stone     208480 non-null  int64 \n",
      " 16  has_superstructure_stone_flag           208480 non-null  int64 \n",
      " 17  has_superstructure_cement_mortar_stone  208480 non-null  int64 \n",
      " 18  has_superstructure_mud_mortar_brick     208480 non-null  int64 \n",
      " 19  has_superstructure_cement_mortar_brick  208480 non-null  int64 \n",
      " 20  has_superstructure_timber               208480 non-null  int64 \n",
      " 21  has_superstructure_bamboo               208480 non-null  int64 \n",
      " 22  has_superstructure_rc_non_engineered    208480 non-null  int64 \n",
      " 23  has_superstructure_rc_engineered        208480 non-null  int64 \n",
      " 24  has_superstructure_other                208480 non-null  int64 \n",
      " 25  legal_ownership_status                  208480 non-null  object\n",
      " 26  count_families                          208480 non-null  int64 \n",
      " 27  has_secondary_use                       208480 non-null  int64 \n",
      " 28  has_secondary_use_agriculture           208480 non-null  int64 \n",
      " 29  has_secondary_use_hotel                 208480 non-null  int64 \n",
      " 30  has_secondary_use_rental                208480 non-null  int64 \n",
      " 31  has_secondary_use_institution           208480 non-null  int64 \n",
      " 32  has_secondary_use_school                208480 non-null  int64 \n",
      " 33  has_secondary_use_industry              208480 non-null  int64 \n",
      " 34  has_secondary_use_health_post           208480 non-null  int64 \n",
      " 35  has_secondary_use_gov_office            208480 non-null  int64 \n",
      " 36  has_secondary_use_use_police            208480 non-null  int64 \n",
      " 37  has_secondary_use_other                 208480 non-null  int64 \n",
      " 38  damage_grade                            208480 non-null  int64 \n",
      "dtypes: int64(31), object(8)\n",
      "memory usage: 63.6+ MB\n"
     ]
    }
   ],
   "source": [
    "df.info()"
   ],
   "metadata": {
    "collapsed": false,
    "ExecuteTime": {
     "end_time": "2023-11-23T06:56:36.568298086Z",
     "start_time": "2023-11-23T06:56:36.479509236Z"
    }
   },
   "id": "c46f38b81f347b34"
  },
  {
   "cell_type": "code",
   "execution_count": 7,
   "outputs": [
    {
     "data": {
      "text/plain": "0         2\n1         2\n2         2\n3         2\n4         3\n         ..\n208475    1\n208476    2\n208477    3\n208478    3\n208479    2\nName: damage_grade, Length: 208480, dtype: int64"
     },
     "execution_count": 7,
     "metadata": {},
     "output_type": "execute_result"
    }
   ],
   "source": [
    "df.iloc[:,-1]"
   ],
   "metadata": {
    "collapsed": false,
    "ExecuteTime": {
     "end_time": "2023-11-23T06:56:36.610839777Z",
     "start_time": "2023-11-23T06:56:36.570066964Z"
    }
   },
   "id": "2be43456b878f865"
  },
  {
   "cell_type": "code",
   "execution_count": 8,
   "outputs": [],
   "source": [
    "X, y = df.iloc[:,:-1], df.iloc[:,-1]"
   ],
   "metadata": {
    "collapsed": false,
    "ExecuteTime": {
     "end_time": "2023-11-23T06:56:36.610987829Z",
     "start_time": "2023-11-23T06:56:36.610535768Z"
    }
   },
   "id": "27483ff0f889e016"
  },
  {
   "cell_type": "code",
   "execution_count": 9,
   "outputs": [
    {
     "name": "stderr",
     "output_type": "stream",
     "text": [
      "/tmp/ipykernel_10481/2387548514.py:1: DeprecationWarning: In a future version, `df.iloc[:, i] = newvals` will attempt to set the values inplace instead of always setting a new array. To retain the old behavior, use either `df[df.columns[i]] = newvals` or, if columns are non-unique, `df.isetitem(i, newvals)`\n",
      "  X.iloc[:,:7] = X.iloc[:,:7].astype(\"float\")\n"
     ]
    }
   ],
   "source": [
    "X.iloc[:,:7] = X.iloc[:,:7].astype(\"float\")"
   ],
   "metadata": {
    "collapsed": false,
    "ExecuteTime": {
     "end_time": "2023-11-23T06:56:36.635938494Z",
     "start_time": "2023-11-23T06:56:36.610644850Z"
    }
   },
   "id": "bb6411e435ccabdc"
  },
  {
   "cell_type": "code",
   "execution_count": 10,
   "outputs": [
    {
     "name": "stdout",
     "output_type": "stream",
     "text": [
      "<class 'pandas.core.frame.DataFrame'>\n",
      "Int64Index: 208480 entries, 0 to 208479\n",
      "Data columns (total 38 columns):\n",
      " #   Column                                  Non-Null Count   Dtype  \n",
      "---  ------                                  --------------   -----  \n",
      " 0   geo_level_1_id                          208480 non-null  float64\n",
      " 1   geo_level_2_id                          208480 non-null  float64\n",
      " 2   geo_level_3_id                          208480 non-null  float64\n",
      " 3   count_floors_pre_eq                     208480 non-null  float64\n",
      " 4   age                                     208480 non-null  float64\n",
      " 5   area_percentage                         208480 non-null  float64\n",
      " 6   height_percentage                       208480 non-null  float64\n",
      " 7   land_surface_condition                  208480 non-null  object \n",
      " 8   foundation_type                         208480 non-null  object \n",
      " 9   roof_type                               208480 non-null  object \n",
      " 10  ground_floor_type                       208480 non-null  object \n",
      " 11  other_floor_type                        208480 non-null  object \n",
      " 12  position                                208480 non-null  object \n",
      " 13  plan_configuration                      208480 non-null  object \n",
      " 14  has_superstructure_adobe_mud            208480 non-null  int64  \n",
      " 15  has_superstructure_mud_mortar_stone     208480 non-null  int64  \n",
      " 16  has_superstructure_stone_flag           208480 non-null  int64  \n",
      " 17  has_superstructure_cement_mortar_stone  208480 non-null  int64  \n",
      " 18  has_superstructure_mud_mortar_brick     208480 non-null  int64  \n",
      " 19  has_superstructure_cement_mortar_brick  208480 non-null  int64  \n",
      " 20  has_superstructure_timber               208480 non-null  int64  \n",
      " 21  has_superstructure_bamboo               208480 non-null  int64  \n",
      " 22  has_superstructure_rc_non_engineered    208480 non-null  int64  \n",
      " 23  has_superstructure_rc_engineered        208480 non-null  int64  \n",
      " 24  has_superstructure_other                208480 non-null  int64  \n",
      " 25  legal_ownership_status                  208480 non-null  object \n",
      " 26  count_families                          208480 non-null  int64  \n",
      " 27  has_secondary_use                       208480 non-null  int64  \n",
      " 28  has_secondary_use_agriculture           208480 non-null  int64  \n",
      " 29  has_secondary_use_hotel                 208480 non-null  int64  \n",
      " 30  has_secondary_use_rental                208480 non-null  int64  \n",
      " 31  has_secondary_use_institution           208480 non-null  int64  \n",
      " 32  has_secondary_use_school                208480 non-null  int64  \n",
      " 33  has_secondary_use_industry              208480 non-null  int64  \n",
      " 34  has_secondary_use_health_post           208480 non-null  int64  \n",
      " 35  has_secondary_use_gov_office            208480 non-null  int64  \n",
      " 36  has_secondary_use_use_police            208480 non-null  int64  \n",
      " 37  has_secondary_use_other                 208480 non-null  int64  \n",
      "dtypes: float64(7), int64(23), object(8)\n",
      "memory usage: 62.0+ MB\n"
     ]
    }
   ],
   "source": [
    "X.info()"
   ],
   "metadata": {
    "collapsed": false,
    "ExecuteTime": {
     "end_time": "2023-11-23T06:56:36.743767808Z",
     "start_time": "2023-11-23T06:56:36.632890524Z"
    }
   },
   "id": "bbb5031474631046"
  },
  {
   "cell_type": "code",
   "execution_count": 11,
   "outputs": [
    {
     "data": {
      "text/plain": "        geo_level_1_id  geo_level_2_id  geo_level_3_id  count_floors_pre_eq  \\\n0                 10.0           804.0          1371.0                  2.0   \n1                 25.0           211.0          5071.0                  2.0   \n2                 22.0           816.0         12104.0                  2.0   \n3                  6.0           449.0          3741.0                  1.0   \n4                 20.0           254.0          5266.0                  2.0   \n...                ...             ...             ...                  ...   \n208475            22.0           165.0         10190.0                  2.0   \n208476            27.0           269.0          5197.0                  3.0   \n208477            26.0          1259.0         10829.0                  1.0   \n208478             7.0           258.0          1869.0                  1.0   \n208479            26.0           366.0          2116.0                  2.0   \n\n         age  area_percentage  height_percentage land_surface_condition  \\\n0        5.0              7.0                6.0                      t   \n1       25.0              9.0                4.0                      n   \n2       10.0              5.0                4.0                      t   \n3       10.0              8.0                3.0                      t   \n4       10.0             10.0                6.0                      n   \n...      ...              ...                ...                    ...   \n208475  30.0              5.0                4.0                      t   \n208476  80.0              5.0                6.0                      t   \n208477  10.0              4.0                6.0                      t   \n208478  15.0              6.0                3.0                      t   \n208479  20.0              8.0                5.0                      o   \n\n       foundation_type roof_type  ... has_secondary_use_agriculture  \\\n0                    r         n  ...                             0   \n1                    r         q  ...                             0   \n2                    r         q  ...                             0   \n3                    r         q  ...                             0   \n4                    w         q  ...                             1   \n...                ...       ...  ...                           ...   \n208475               r         n  ...                             0   \n208476               r         q  ...                             0   \n208477               r         n  ...                             0   \n208478               r         q  ...                             0   \n208479               r         n  ...                             0   \n\n       has_secondary_use_hotel has_secondary_use_rental  \\\n0                            0                        0   \n1                            0                        0   \n2                            0                        0   \n3                            0                        0   \n4                            0                        0   \n...                        ...                      ...   \n208475                       0                        0   \n208476                       0                        0   \n208477                       0                        0   \n208478                       0                        0   \n208479                       0                        0   \n\n       has_secondary_use_institution  has_secondary_use_school  \\\n0                                  0                         0   \n1                                  0                         0   \n2                                  0                         0   \n3                                  0                         0   \n4                                  0                         0   \n...                              ...                       ...   \n208475                             0                         0   \n208476                             0                         0   \n208477                             0                         0   \n208478                             0                         0   \n208479                             0                         0   \n\n        has_secondary_use_industry  has_secondary_use_health_post  \\\n0                                0                              0   \n1                                0                              0   \n2                                0                              0   \n3                                0                              0   \n4                                0                              0   \n...                            ...                            ...   \n208475                           0                              0   \n208476                           0                              0   \n208477                           0                              0   \n208478                           0                              0   \n208479                           0                              0   \n\n        has_secondary_use_gov_office  has_secondary_use_use_police  \\\n0                                  0                             0   \n1                                  0                             0   \n2                                  0                             0   \n3                                  0                             0   \n4                                  0                             0   \n...                              ...                           ...   \n208475                             0                             0   \n208476                             0                             0   \n208477                             0                             0   \n208478                             0                             0   \n208479                             0                             0   \n\n        has_secondary_use_other  \n0                             0  \n1                             0  \n2                             0  \n3                             0  \n4                             0  \n...                         ...  \n208475                        0  \n208476                        0  \n208477                        0  \n208478                        0  \n208479                        0  \n\n[208480 rows x 38 columns]",
      "text/html": "<div>\n<style scoped>\n    .dataframe tbody tr th:only-of-type {\n        vertical-align: middle;\n    }\n\n    .dataframe tbody tr th {\n        vertical-align: top;\n    }\n\n    .dataframe thead th {\n        text-align: right;\n    }\n</style>\n<table border=\"1\" class=\"dataframe\">\n  <thead>\n    <tr style=\"text-align: right;\">\n      <th></th>\n      <th>geo_level_1_id</th>\n      <th>geo_level_2_id</th>\n      <th>geo_level_3_id</th>\n      <th>count_floors_pre_eq</th>\n      <th>age</th>\n      <th>area_percentage</th>\n      <th>height_percentage</th>\n      <th>land_surface_condition</th>\n      <th>foundation_type</th>\n      <th>roof_type</th>\n      <th>...</th>\n      <th>has_secondary_use_agriculture</th>\n      <th>has_secondary_use_hotel</th>\n      <th>has_secondary_use_rental</th>\n      <th>has_secondary_use_institution</th>\n      <th>has_secondary_use_school</th>\n      <th>has_secondary_use_industry</th>\n      <th>has_secondary_use_health_post</th>\n      <th>has_secondary_use_gov_office</th>\n      <th>has_secondary_use_use_police</th>\n      <th>has_secondary_use_other</th>\n    </tr>\n  </thead>\n  <tbody>\n    <tr>\n      <th>0</th>\n      <td>10.0</td>\n      <td>804.0</td>\n      <td>1371.0</td>\n      <td>2.0</td>\n      <td>5.0</td>\n      <td>7.0</td>\n      <td>6.0</td>\n      <td>t</td>\n      <td>r</td>\n      <td>n</td>\n      <td>...</td>\n      <td>0</td>\n      <td>0</td>\n      <td>0</td>\n      <td>0</td>\n      <td>0</td>\n      <td>0</td>\n      <td>0</td>\n      <td>0</td>\n      <td>0</td>\n      <td>0</td>\n    </tr>\n    <tr>\n      <th>1</th>\n      <td>25.0</td>\n      <td>211.0</td>\n      <td>5071.0</td>\n      <td>2.0</td>\n      <td>25.0</td>\n      <td>9.0</td>\n      <td>4.0</td>\n      <td>n</td>\n      <td>r</td>\n      <td>q</td>\n      <td>...</td>\n      <td>0</td>\n      <td>0</td>\n      <td>0</td>\n      <td>0</td>\n      <td>0</td>\n      <td>0</td>\n      <td>0</td>\n      <td>0</td>\n      <td>0</td>\n      <td>0</td>\n    </tr>\n    <tr>\n      <th>2</th>\n      <td>22.0</td>\n      <td>816.0</td>\n      <td>12104.0</td>\n      <td>2.0</td>\n      <td>10.0</td>\n      <td>5.0</td>\n      <td>4.0</td>\n      <td>t</td>\n      <td>r</td>\n      <td>q</td>\n      <td>...</td>\n      <td>0</td>\n      <td>0</td>\n      <td>0</td>\n      <td>0</td>\n      <td>0</td>\n      <td>0</td>\n      <td>0</td>\n      <td>0</td>\n      <td>0</td>\n      <td>0</td>\n    </tr>\n    <tr>\n      <th>3</th>\n      <td>6.0</td>\n      <td>449.0</td>\n      <td>3741.0</td>\n      <td>1.0</td>\n      <td>10.0</td>\n      <td>8.0</td>\n      <td>3.0</td>\n      <td>t</td>\n      <td>r</td>\n      <td>q</td>\n      <td>...</td>\n      <td>0</td>\n      <td>0</td>\n      <td>0</td>\n      <td>0</td>\n      <td>0</td>\n      <td>0</td>\n      <td>0</td>\n      <td>0</td>\n      <td>0</td>\n      <td>0</td>\n    </tr>\n    <tr>\n      <th>4</th>\n      <td>20.0</td>\n      <td>254.0</td>\n      <td>5266.0</td>\n      <td>2.0</td>\n      <td>10.0</td>\n      <td>10.0</td>\n      <td>6.0</td>\n      <td>n</td>\n      <td>w</td>\n      <td>q</td>\n      <td>...</td>\n      <td>1</td>\n      <td>0</td>\n      <td>0</td>\n      <td>0</td>\n      <td>0</td>\n      <td>0</td>\n      <td>0</td>\n      <td>0</td>\n      <td>0</td>\n      <td>0</td>\n    </tr>\n    <tr>\n      <th>...</th>\n      <td>...</td>\n      <td>...</td>\n      <td>...</td>\n      <td>...</td>\n      <td>...</td>\n      <td>...</td>\n      <td>...</td>\n      <td>...</td>\n      <td>...</td>\n      <td>...</td>\n      <td>...</td>\n      <td>...</td>\n      <td>...</td>\n      <td>...</td>\n      <td>...</td>\n      <td>...</td>\n      <td>...</td>\n      <td>...</td>\n      <td>...</td>\n      <td>...</td>\n      <td>...</td>\n    </tr>\n    <tr>\n      <th>208475</th>\n      <td>22.0</td>\n      <td>165.0</td>\n      <td>10190.0</td>\n      <td>2.0</td>\n      <td>30.0</td>\n      <td>5.0</td>\n      <td>4.0</td>\n      <td>t</td>\n      <td>r</td>\n      <td>n</td>\n      <td>...</td>\n      <td>0</td>\n      <td>0</td>\n      <td>0</td>\n      <td>0</td>\n      <td>0</td>\n      <td>0</td>\n      <td>0</td>\n      <td>0</td>\n      <td>0</td>\n      <td>0</td>\n    </tr>\n    <tr>\n      <th>208476</th>\n      <td>27.0</td>\n      <td>269.0</td>\n      <td>5197.0</td>\n      <td>3.0</td>\n      <td>80.0</td>\n      <td>5.0</td>\n      <td>6.0</td>\n      <td>t</td>\n      <td>r</td>\n      <td>q</td>\n      <td>...</td>\n      <td>0</td>\n      <td>0</td>\n      <td>0</td>\n      <td>0</td>\n      <td>0</td>\n      <td>0</td>\n      <td>0</td>\n      <td>0</td>\n      <td>0</td>\n      <td>0</td>\n    </tr>\n    <tr>\n      <th>208477</th>\n      <td>26.0</td>\n      <td>1259.0</td>\n      <td>10829.0</td>\n      <td>1.0</td>\n      <td>10.0</td>\n      <td>4.0</td>\n      <td>6.0</td>\n      <td>t</td>\n      <td>r</td>\n      <td>n</td>\n      <td>...</td>\n      <td>0</td>\n      <td>0</td>\n      <td>0</td>\n      <td>0</td>\n      <td>0</td>\n      <td>0</td>\n      <td>0</td>\n      <td>0</td>\n      <td>0</td>\n      <td>0</td>\n    </tr>\n    <tr>\n      <th>208478</th>\n      <td>7.0</td>\n      <td>258.0</td>\n      <td>1869.0</td>\n      <td>1.0</td>\n      <td>15.0</td>\n      <td>6.0</td>\n      <td>3.0</td>\n      <td>t</td>\n      <td>r</td>\n      <td>q</td>\n      <td>...</td>\n      <td>0</td>\n      <td>0</td>\n      <td>0</td>\n      <td>0</td>\n      <td>0</td>\n      <td>0</td>\n      <td>0</td>\n      <td>0</td>\n      <td>0</td>\n      <td>0</td>\n    </tr>\n    <tr>\n      <th>208479</th>\n      <td>26.0</td>\n      <td>366.0</td>\n      <td>2116.0</td>\n      <td>2.0</td>\n      <td>20.0</td>\n      <td>8.0</td>\n      <td>5.0</td>\n      <td>o</td>\n      <td>r</td>\n      <td>n</td>\n      <td>...</td>\n      <td>0</td>\n      <td>0</td>\n      <td>0</td>\n      <td>0</td>\n      <td>0</td>\n      <td>0</td>\n      <td>0</td>\n      <td>0</td>\n      <td>0</td>\n      <td>0</td>\n    </tr>\n  </tbody>\n</table>\n<p>208480 rows × 38 columns</p>\n</div>"
     },
     "execution_count": 11,
     "metadata": {},
     "output_type": "execute_result"
    }
   ],
   "source": [
    "X"
   ],
   "metadata": {
    "collapsed": false,
    "ExecuteTime": {
     "end_time": "2023-11-23T06:56:36.794713584Z",
     "start_time": "2023-11-23T06:56:36.752878120Z"
    }
   },
   "id": "61a85a547ec830d3"
  },
  {
   "cell_type": "code",
   "execution_count": 12,
   "outputs": [],
   "source": [
    "from prince import FAMD\n",
    "famd = FAMD(n_components =24, n_iter = 100, copy=True, random_state = 201)\n",
    "\n",
    "X_t = famd.fit_transform(X)"
   ],
   "metadata": {
    "collapsed": false,
    "ExecuteTime": {
     "end_time": "2023-11-23T06:56:50.428818207Z",
     "start_time": "2023-11-23T06:56:36.793965287Z"
    }
   },
   "id": "8306dd33b1b12a53"
  },
  {
   "cell_type": "code",
   "execution_count": 13,
   "outputs": [
    {
     "data": {
      "text/plain": "component        0         1          2         3         4         5   \\\n0         -1.701051 -3.000050  -2.044228  5.179376 -1.641714 -0.457770   \n1         -4.309564 -2.507675  -2.193442 -2.617493 -1.636667 -0.327119   \n2         -3.977083 -2.600835  -2.686598 -1.733000 -1.327434 -2.821173   \n3         -1.720871  0.469089  -3.641277 -3.406394  3.505867  1.178325   \n4         -3.523487  6.577175  22.226918 -7.553189 -4.212696 -8.171183   \n...             ...       ...        ...       ...       ...       ...   \n208475    -4.461848  0.238742  -0.735954 -2.028388 -1.794362 -0.910754   \n208476    -2.381251 -4.217525  -1.092262 -0.399383 -1.553406 -2.127632   \n208477    -3.066257  2.537775  -1.134772 -3.825351  1.743642 -0.105119   \n208478    -2.572597 -0.301124  -3.120865 -3.591399  2.290917 -1.981141   \n208479    -4.108119 -2.971069  -1.814708 -2.421412 -0.476931  0.563692   \n\ncomponent        6         7         8         9   ...        14        15  \\\n0          0.195021 -1.759314  5.259089  3.656198  ...  1.303162  1.258406   \n1          2.021620  0.281315  0.169952  0.107093  ... -0.885311  0.617391   \n2          1.717161  3.515148  1.285760  1.306363  ...  0.522013  0.458660   \n3         -6.110034  0.078607  1.169644 -2.801277  ... -6.936840 -3.292731   \n4          2.029656 -0.900409 -4.282358 -1.094962  ... -0.662094  2.915530   \n...             ...       ...       ...       ...  ...       ...       ...   \n208475     0.061090 -1.373690 -0.909744  0.533726  ...  1.054899  1.467030   \n208476     0.886747  5.193587  2.025598  3.147709  ... -7.025852 -2.104677   \n208477    -4.270846 -2.584460 -1.082667 -0.569282  ...  1.139079  0.892993   \n208478    -2.663281  2.321769  1.073712  0.206704  ...  0.644068 -0.136356   \n208479     0.149018 -4.456860  0.967941 -1.577584  ...  3.316166 -8.416624   \n\ncomponent        16        17        18        19        20        21  \\\n0         -0.531765  1.876886  2.351836 -2.126017  1.689252  1.533864   \n1          0.943360 -0.836988 -0.870991  1.222009  2.394523 -2.709819   \n2         -1.069290 -0.226129 -0.807389  0.041736  0.141348 -0.180756   \n3          1.140881 -2.613134 -0.115012  5.219438  1.775137 -4.067345   \n4          2.818005  0.590408 -1.693538  1.724616  3.141534 -2.242910   \n...             ...       ...       ...       ...       ...       ...   \n208475    -0.012222  0.631421  0.637616 -0.126554 -0.447467  1.150542   \n208476     1.529800 -1.473126 -1.458080 -1.625334  0.581687 -0.601886   \n208477     0.126387  1.217061  0.797612 -0.561971 -0.779601  1.421715   \n208478    -0.937827  0.395847 -0.669239 -0.427823 -0.189338  0.103367   \n208479    -4.025879  0.431147 -1.176793 -2.309327 -5.867522  4.057720   \n\ncomponent        22        23  \n0         -0.464553  0.519011  \n1         -1.844788  0.194157  \n2         -0.731415 -0.127908  \n3         -7.789231  0.256109  \n4         -1.911997 -0.421602  \n...             ...       ...  \n208475     0.852503 -0.172424  \n208476    -0.900110  0.288106  \n208477     0.962994 -0.125764  \n208478    -0.655218 -0.071902  \n208479     0.947759  1.698226  \n\n[208480 rows x 24 columns]",
      "text/html": "<div>\n<style scoped>\n    .dataframe tbody tr th:only-of-type {\n        vertical-align: middle;\n    }\n\n    .dataframe tbody tr th {\n        vertical-align: top;\n    }\n\n    .dataframe thead th {\n        text-align: right;\n    }\n</style>\n<table border=\"1\" class=\"dataframe\">\n  <thead>\n    <tr style=\"text-align: right;\">\n      <th>component</th>\n      <th>0</th>\n      <th>1</th>\n      <th>2</th>\n      <th>3</th>\n      <th>4</th>\n      <th>5</th>\n      <th>6</th>\n      <th>7</th>\n      <th>8</th>\n      <th>9</th>\n      <th>...</th>\n      <th>14</th>\n      <th>15</th>\n      <th>16</th>\n      <th>17</th>\n      <th>18</th>\n      <th>19</th>\n      <th>20</th>\n      <th>21</th>\n      <th>22</th>\n      <th>23</th>\n    </tr>\n  </thead>\n  <tbody>\n    <tr>\n      <th>0</th>\n      <td>-1.701051</td>\n      <td>-3.000050</td>\n      <td>-2.044228</td>\n      <td>5.179376</td>\n      <td>-1.641714</td>\n      <td>-0.457770</td>\n      <td>0.195021</td>\n      <td>-1.759314</td>\n      <td>5.259089</td>\n      <td>3.656198</td>\n      <td>...</td>\n      <td>1.303162</td>\n      <td>1.258406</td>\n      <td>-0.531765</td>\n      <td>1.876886</td>\n      <td>2.351836</td>\n      <td>-2.126017</td>\n      <td>1.689252</td>\n      <td>1.533864</td>\n      <td>-0.464553</td>\n      <td>0.519011</td>\n    </tr>\n    <tr>\n      <th>1</th>\n      <td>-4.309564</td>\n      <td>-2.507675</td>\n      <td>-2.193442</td>\n      <td>-2.617493</td>\n      <td>-1.636667</td>\n      <td>-0.327119</td>\n      <td>2.021620</td>\n      <td>0.281315</td>\n      <td>0.169952</td>\n      <td>0.107093</td>\n      <td>...</td>\n      <td>-0.885311</td>\n      <td>0.617391</td>\n      <td>0.943360</td>\n      <td>-0.836988</td>\n      <td>-0.870991</td>\n      <td>1.222009</td>\n      <td>2.394523</td>\n      <td>-2.709819</td>\n      <td>-1.844788</td>\n      <td>0.194157</td>\n    </tr>\n    <tr>\n      <th>2</th>\n      <td>-3.977083</td>\n      <td>-2.600835</td>\n      <td>-2.686598</td>\n      <td>-1.733000</td>\n      <td>-1.327434</td>\n      <td>-2.821173</td>\n      <td>1.717161</td>\n      <td>3.515148</td>\n      <td>1.285760</td>\n      <td>1.306363</td>\n      <td>...</td>\n      <td>0.522013</td>\n      <td>0.458660</td>\n      <td>-1.069290</td>\n      <td>-0.226129</td>\n      <td>-0.807389</td>\n      <td>0.041736</td>\n      <td>0.141348</td>\n      <td>-0.180756</td>\n      <td>-0.731415</td>\n      <td>-0.127908</td>\n    </tr>\n    <tr>\n      <th>3</th>\n      <td>-1.720871</td>\n      <td>0.469089</td>\n      <td>-3.641277</td>\n      <td>-3.406394</td>\n      <td>3.505867</td>\n      <td>1.178325</td>\n      <td>-6.110034</td>\n      <td>0.078607</td>\n      <td>1.169644</td>\n      <td>-2.801277</td>\n      <td>...</td>\n      <td>-6.936840</td>\n      <td>-3.292731</td>\n      <td>1.140881</td>\n      <td>-2.613134</td>\n      <td>-0.115012</td>\n      <td>5.219438</td>\n      <td>1.775137</td>\n      <td>-4.067345</td>\n      <td>-7.789231</td>\n      <td>0.256109</td>\n    </tr>\n    <tr>\n      <th>4</th>\n      <td>-3.523487</td>\n      <td>6.577175</td>\n      <td>22.226918</td>\n      <td>-7.553189</td>\n      <td>-4.212696</td>\n      <td>-8.171183</td>\n      <td>2.029656</td>\n      <td>-0.900409</td>\n      <td>-4.282358</td>\n      <td>-1.094962</td>\n      <td>...</td>\n      <td>-0.662094</td>\n      <td>2.915530</td>\n      <td>2.818005</td>\n      <td>0.590408</td>\n      <td>-1.693538</td>\n      <td>1.724616</td>\n      <td>3.141534</td>\n      <td>-2.242910</td>\n      <td>-1.911997</td>\n      <td>-0.421602</td>\n    </tr>\n    <tr>\n      <th>...</th>\n      <td>...</td>\n      <td>...</td>\n      <td>...</td>\n      <td>...</td>\n      <td>...</td>\n      <td>...</td>\n      <td>...</td>\n      <td>...</td>\n      <td>...</td>\n      <td>...</td>\n      <td>...</td>\n      <td>...</td>\n      <td>...</td>\n      <td>...</td>\n      <td>...</td>\n      <td>...</td>\n      <td>...</td>\n      <td>...</td>\n      <td>...</td>\n      <td>...</td>\n      <td>...</td>\n    </tr>\n    <tr>\n      <th>208475</th>\n      <td>-4.461848</td>\n      <td>0.238742</td>\n      <td>-0.735954</td>\n      <td>-2.028388</td>\n      <td>-1.794362</td>\n      <td>-0.910754</td>\n      <td>0.061090</td>\n      <td>-1.373690</td>\n      <td>-0.909744</td>\n      <td>0.533726</td>\n      <td>...</td>\n      <td>1.054899</td>\n      <td>1.467030</td>\n      <td>-0.012222</td>\n      <td>0.631421</td>\n      <td>0.637616</td>\n      <td>-0.126554</td>\n      <td>-0.447467</td>\n      <td>1.150542</td>\n      <td>0.852503</td>\n      <td>-0.172424</td>\n    </tr>\n    <tr>\n      <th>208476</th>\n      <td>-2.381251</td>\n      <td>-4.217525</td>\n      <td>-1.092262</td>\n      <td>-0.399383</td>\n      <td>-1.553406</td>\n      <td>-2.127632</td>\n      <td>0.886747</td>\n      <td>5.193587</td>\n      <td>2.025598</td>\n      <td>3.147709</td>\n      <td>...</td>\n      <td>-7.025852</td>\n      <td>-2.104677</td>\n      <td>1.529800</td>\n      <td>-1.473126</td>\n      <td>-1.458080</td>\n      <td>-1.625334</td>\n      <td>0.581687</td>\n      <td>-0.601886</td>\n      <td>-0.900110</td>\n      <td>0.288106</td>\n    </tr>\n    <tr>\n      <th>208477</th>\n      <td>-3.066257</td>\n      <td>2.537775</td>\n      <td>-1.134772</td>\n      <td>-3.825351</td>\n      <td>1.743642</td>\n      <td>-0.105119</td>\n      <td>-4.270846</td>\n      <td>-2.584460</td>\n      <td>-1.082667</td>\n      <td>-0.569282</td>\n      <td>...</td>\n      <td>1.139079</td>\n      <td>0.892993</td>\n      <td>0.126387</td>\n      <td>1.217061</td>\n      <td>0.797612</td>\n      <td>-0.561971</td>\n      <td>-0.779601</td>\n      <td>1.421715</td>\n      <td>0.962994</td>\n      <td>-0.125764</td>\n    </tr>\n    <tr>\n      <th>208478</th>\n      <td>-2.572597</td>\n      <td>-0.301124</td>\n      <td>-3.120865</td>\n      <td>-3.591399</td>\n      <td>2.290917</td>\n      <td>-1.981141</td>\n      <td>-2.663281</td>\n      <td>2.321769</td>\n      <td>1.073712</td>\n      <td>0.206704</td>\n      <td>...</td>\n      <td>0.644068</td>\n      <td>-0.136356</td>\n      <td>-0.937827</td>\n      <td>0.395847</td>\n      <td>-0.669239</td>\n      <td>-0.427823</td>\n      <td>-0.189338</td>\n      <td>0.103367</td>\n      <td>-0.655218</td>\n      <td>-0.071902</td>\n    </tr>\n    <tr>\n      <th>208479</th>\n      <td>-4.108119</td>\n      <td>-2.971069</td>\n      <td>-1.814708</td>\n      <td>-2.421412</td>\n      <td>-0.476931</td>\n      <td>0.563692</td>\n      <td>0.149018</td>\n      <td>-4.456860</td>\n      <td>0.967941</td>\n      <td>-1.577584</td>\n      <td>...</td>\n      <td>3.316166</td>\n      <td>-8.416624</td>\n      <td>-4.025879</td>\n      <td>0.431147</td>\n      <td>-1.176793</td>\n      <td>-2.309327</td>\n      <td>-5.867522</td>\n      <td>4.057720</td>\n      <td>0.947759</td>\n      <td>1.698226</td>\n    </tr>\n  </tbody>\n</table>\n<p>208480 rows × 24 columns</p>\n</div>"
     },
     "execution_count": 13,
     "metadata": {},
     "output_type": "execute_result"
    }
   ],
   "source": [
    "X_t"
   ],
   "metadata": {
    "collapsed": false,
    "ExecuteTime": {
     "end_time": "2023-11-23T06:56:50.460394066Z",
     "start_time": "2023-11-23T06:56:50.429517025Z"
    }
   },
   "id": "3172a29e426668b7"
  },
  {
   "cell_type": "code",
   "execution_count": 14,
   "outputs": [],
   "source": [
    "from imblearn.combine import SMOTETomek, SMOTEENN\n",
    "cm = SMOTETomek(random_state=201)\n",
    "# cm = SMOTEENN(random_state=20)"
   ],
   "metadata": {
    "collapsed": false,
    "ExecuteTime": {
     "end_time": "2023-11-23T06:56:50.598831943Z",
     "start_time": "2023-11-23T06:56:50.460721633Z"
    }
   },
   "id": "6062f2c1138a1ef7"
  },
  {
   "cell_type": "code",
   "execution_count": 15,
   "outputs": [],
   "source": [
    "X_res, y_res = cm.fit_resample(X_t, y)"
   ],
   "metadata": {
    "collapsed": false,
    "ExecuteTime": {
     "end_time": "2023-11-23T06:57:46.112271031Z",
     "start_time": "2023-11-23T06:56:50.602746765Z"
    }
   },
   "id": "e273a31f1a3e172"
  },
  {
   "cell_type": "code",
   "execution_count": 16,
   "outputs": [
    {
     "data": {
      "text/plain": "component        0         1         2          3         4         5   \\\n0         -1.701051 -3.000050 -2.044228   5.179376 -1.641714 -0.457770   \n1         -4.309564 -2.507675 -2.193442  -2.617493 -1.636667 -0.327119   \n2         -3.977083 -2.600835 -2.686598  -1.733000 -1.327434 -2.821173   \n3         -3.992385 -3.115595 -1.830131  -2.374022 -0.543896  0.627794   \n4          1.898713  5.260786 -2.488995  22.690547 -4.781668 -2.984109   \n...             ...       ...       ...        ...       ...       ...   \n329177    -3.827748 -3.315584 -2.839611  -0.910373  0.025599 -0.889777   \n329178    -3.142781 -3.114843 -3.309449  -0.151284  2.303939  0.727335   \n329179    -3.822957 -3.454365 -2.846388  -0.729386 -0.150355 -0.886296   \n329180    -3.934012 -2.715741 -2.680783  -1.500949 -1.542368 -2.836434   \n329181    -2.636712 -3.780442 -3.152173   1.384311  1.983806  1.722355   \n\ncomponent        6         7         8          9   ...        14        15  \\\n0          0.195021 -1.759314  5.259089   3.656198  ...  1.303162  1.258406   \n1          2.021620  0.281315  0.169952   0.107093  ... -0.885311  0.617391   \n2          1.717161  3.515148  1.285760   1.306363  ...  0.522013  0.458660   \n3          0.231131 -4.448580  0.952272  -1.579381  ...  3.340802 -8.410943   \n4          4.551011  6.163544 -6.858041 -17.570695  ...  7.779697 -9.452363   \n...             ...       ...       ...        ...  ...       ...       ...   \n329177    -1.302103 -0.352542  0.040079   0.410724  ...  0.950193  0.865164   \n329178     3.135233 -1.028712 -0.306178  -0.788334  ...  3.393605 -0.898134   \n329179    -1.131359 -0.328322  0.067758   0.427065  ...  0.960734  0.880909   \n329180     1.926373  3.548349  1.316341   1.316761  ...  0.527505  0.485431   \n329181     3.473639 -0.340924 -0.736643   0.344717  ... -0.350034 -1.060726   \n\ncomponent         16        17        18        19        20         21  \\\n0          -0.531765  1.876886  2.351836 -2.126017  1.689252   1.533864   \n1           0.943360 -0.836988 -0.870991  1.222009  2.394523  -2.709819   \n2          -1.069290 -0.226129 -0.807389  0.041736  0.141348  -0.180756   \n3          -4.038321  0.429795 -1.168166 -2.287849 -5.862878   4.040551   \n4          13.311720 -2.137756  5.684260  0.031427 -1.390358 -11.428665   \n...              ...       ...       ...       ...       ...        ...   \n329177     -0.477008  0.494394  0.281226  0.030949 -0.317044   0.654882   \n329178     -0.676299  0.046214  0.180780 -2.598894 -0.380520   1.402215   \n329179     -0.502859  0.463603  0.269361  0.045122 -0.309678   0.640148   \n329180     -1.093700 -0.268529 -0.800713  0.077161  0.151046  -0.196323   \n329181      1.755562 -0.952268 -1.925226 -1.936021 -0.267079   0.266921   \n\ncomponent        22        23  \n0         -0.464553  0.519011  \n1         -1.844788  0.194157  \n2         -0.731415 -0.127908  \n3          0.936693  1.710758  \n4          7.845837 -4.778557  \n...             ...       ...  \n329177     0.654928 -0.154520  \n329178    -1.060969  0.003392  \n329179     0.644128 -0.161145  \n329180    -0.728214 -0.133603  \n329181    -0.816415 -0.026238  \n\n[329182 rows x 24 columns]",
      "text/html": "<div>\n<style scoped>\n    .dataframe tbody tr th:only-of-type {\n        vertical-align: middle;\n    }\n\n    .dataframe tbody tr th {\n        vertical-align: top;\n    }\n\n    .dataframe thead th {\n        text-align: right;\n    }\n</style>\n<table border=\"1\" class=\"dataframe\">\n  <thead>\n    <tr style=\"text-align: right;\">\n      <th>component</th>\n      <th>0</th>\n      <th>1</th>\n      <th>2</th>\n      <th>3</th>\n      <th>4</th>\n      <th>5</th>\n      <th>6</th>\n      <th>7</th>\n      <th>8</th>\n      <th>9</th>\n      <th>...</th>\n      <th>14</th>\n      <th>15</th>\n      <th>16</th>\n      <th>17</th>\n      <th>18</th>\n      <th>19</th>\n      <th>20</th>\n      <th>21</th>\n      <th>22</th>\n      <th>23</th>\n    </tr>\n  </thead>\n  <tbody>\n    <tr>\n      <th>0</th>\n      <td>-1.701051</td>\n      <td>-3.000050</td>\n      <td>-2.044228</td>\n      <td>5.179376</td>\n      <td>-1.641714</td>\n      <td>-0.457770</td>\n      <td>0.195021</td>\n      <td>-1.759314</td>\n      <td>5.259089</td>\n      <td>3.656198</td>\n      <td>...</td>\n      <td>1.303162</td>\n      <td>1.258406</td>\n      <td>-0.531765</td>\n      <td>1.876886</td>\n      <td>2.351836</td>\n      <td>-2.126017</td>\n      <td>1.689252</td>\n      <td>1.533864</td>\n      <td>-0.464553</td>\n      <td>0.519011</td>\n    </tr>\n    <tr>\n      <th>1</th>\n      <td>-4.309564</td>\n      <td>-2.507675</td>\n      <td>-2.193442</td>\n      <td>-2.617493</td>\n      <td>-1.636667</td>\n      <td>-0.327119</td>\n      <td>2.021620</td>\n      <td>0.281315</td>\n      <td>0.169952</td>\n      <td>0.107093</td>\n      <td>...</td>\n      <td>-0.885311</td>\n      <td>0.617391</td>\n      <td>0.943360</td>\n      <td>-0.836988</td>\n      <td>-0.870991</td>\n      <td>1.222009</td>\n      <td>2.394523</td>\n      <td>-2.709819</td>\n      <td>-1.844788</td>\n      <td>0.194157</td>\n    </tr>\n    <tr>\n      <th>2</th>\n      <td>-3.977083</td>\n      <td>-2.600835</td>\n      <td>-2.686598</td>\n      <td>-1.733000</td>\n      <td>-1.327434</td>\n      <td>-2.821173</td>\n      <td>1.717161</td>\n      <td>3.515148</td>\n      <td>1.285760</td>\n      <td>1.306363</td>\n      <td>...</td>\n      <td>0.522013</td>\n      <td>0.458660</td>\n      <td>-1.069290</td>\n      <td>-0.226129</td>\n      <td>-0.807389</td>\n      <td>0.041736</td>\n      <td>0.141348</td>\n      <td>-0.180756</td>\n      <td>-0.731415</td>\n      <td>-0.127908</td>\n    </tr>\n    <tr>\n      <th>3</th>\n      <td>-3.992385</td>\n      <td>-3.115595</td>\n      <td>-1.830131</td>\n      <td>-2.374022</td>\n      <td>-0.543896</td>\n      <td>0.627794</td>\n      <td>0.231131</td>\n      <td>-4.448580</td>\n      <td>0.952272</td>\n      <td>-1.579381</td>\n      <td>...</td>\n      <td>3.340802</td>\n      <td>-8.410943</td>\n      <td>-4.038321</td>\n      <td>0.429795</td>\n      <td>-1.168166</td>\n      <td>-2.287849</td>\n      <td>-5.862878</td>\n      <td>4.040551</td>\n      <td>0.936693</td>\n      <td>1.710758</td>\n    </tr>\n    <tr>\n      <th>4</th>\n      <td>1.898713</td>\n      <td>5.260786</td>\n      <td>-2.488995</td>\n      <td>22.690547</td>\n      <td>-4.781668</td>\n      <td>-2.984109</td>\n      <td>4.551011</td>\n      <td>6.163544</td>\n      <td>-6.858041</td>\n      <td>-17.570695</td>\n      <td>...</td>\n      <td>7.779697</td>\n      <td>-9.452363</td>\n      <td>13.311720</td>\n      <td>-2.137756</td>\n      <td>5.684260</td>\n      <td>0.031427</td>\n      <td>-1.390358</td>\n      <td>-11.428665</td>\n      <td>7.845837</td>\n      <td>-4.778557</td>\n    </tr>\n    <tr>\n      <th>...</th>\n      <td>...</td>\n      <td>...</td>\n      <td>...</td>\n      <td>...</td>\n      <td>...</td>\n      <td>...</td>\n      <td>...</td>\n      <td>...</td>\n      <td>...</td>\n      <td>...</td>\n      <td>...</td>\n      <td>...</td>\n      <td>...</td>\n      <td>...</td>\n      <td>...</td>\n      <td>...</td>\n      <td>...</td>\n      <td>...</td>\n      <td>...</td>\n      <td>...</td>\n      <td>...</td>\n    </tr>\n    <tr>\n      <th>329177</th>\n      <td>-3.827748</td>\n      <td>-3.315584</td>\n      <td>-2.839611</td>\n      <td>-0.910373</td>\n      <td>0.025599</td>\n      <td>-0.889777</td>\n      <td>-1.302103</td>\n      <td>-0.352542</td>\n      <td>0.040079</td>\n      <td>0.410724</td>\n      <td>...</td>\n      <td>0.950193</td>\n      <td>0.865164</td>\n      <td>-0.477008</td>\n      <td>0.494394</td>\n      <td>0.281226</td>\n      <td>0.030949</td>\n      <td>-0.317044</td>\n      <td>0.654882</td>\n      <td>0.654928</td>\n      <td>-0.154520</td>\n    </tr>\n    <tr>\n      <th>329178</th>\n      <td>-3.142781</td>\n      <td>-3.114843</td>\n      <td>-3.309449</td>\n      <td>-0.151284</td>\n      <td>2.303939</td>\n      <td>0.727335</td>\n      <td>3.135233</td>\n      <td>-1.028712</td>\n      <td>-0.306178</td>\n      <td>-0.788334</td>\n      <td>...</td>\n      <td>3.393605</td>\n      <td>-0.898134</td>\n      <td>-0.676299</td>\n      <td>0.046214</td>\n      <td>0.180780</td>\n      <td>-2.598894</td>\n      <td>-0.380520</td>\n      <td>1.402215</td>\n      <td>-1.060969</td>\n      <td>0.003392</td>\n    </tr>\n    <tr>\n      <th>329179</th>\n      <td>-3.822957</td>\n      <td>-3.454365</td>\n      <td>-2.846388</td>\n      <td>-0.729386</td>\n      <td>-0.150355</td>\n      <td>-0.886296</td>\n      <td>-1.131359</td>\n      <td>-0.328322</td>\n      <td>0.067758</td>\n      <td>0.427065</td>\n      <td>...</td>\n      <td>0.960734</td>\n      <td>0.880909</td>\n      <td>-0.502859</td>\n      <td>0.463603</td>\n      <td>0.269361</td>\n      <td>0.045122</td>\n      <td>-0.309678</td>\n      <td>0.640148</td>\n      <td>0.644128</td>\n      <td>-0.161145</td>\n    </tr>\n    <tr>\n      <th>329180</th>\n      <td>-3.934012</td>\n      <td>-2.715741</td>\n      <td>-2.680783</td>\n      <td>-1.500949</td>\n      <td>-1.542368</td>\n      <td>-2.836434</td>\n      <td>1.926373</td>\n      <td>3.548349</td>\n      <td>1.316341</td>\n      <td>1.316761</td>\n      <td>...</td>\n      <td>0.527505</td>\n      <td>0.485431</td>\n      <td>-1.093700</td>\n      <td>-0.268529</td>\n      <td>-0.800713</td>\n      <td>0.077161</td>\n      <td>0.151046</td>\n      <td>-0.196323</td>\n      <td>-0.728214</td>\n      <td>-0.133603</td>\n    </tr>\n    <tr>\n      <th>329181</th>\n      <td>-2.636712</td>\n      <td>-3.780442</td>\n      <td>-3.152173</td>\n      <td>1.384311</td>\n      <td>1.983806</td>\n      <td>1.722355</td>\n      <td>3.473639</td>\n      <td>-0.340924</td>\n      <td>-0.736643</td>\n      <td>0.344717</td>\n      <td>...</td>\n      <td>-0.350034</td>\n      <td>-1.060726</td>\n      <td>1.755562</td>\n      <td>-0.952268</td>\n      <td>-1.925226</td>\n      <td>-1.936021</td>\n      <td>-0.267079</td>\n      <td>0.266921</td>\n      <td>-0.816415</td>\n      <td>-0.026238</td>\n    </tr>\n  </tbody>\n</table>\n<p>329182 rows × 24 columns</p>\n</div>"
     },
     "execution_count": 16,
     "metadata": {},
     "output_type": "execute_result"
    }
   ],
   "source": [
    "X_res"
   ],
   "metadata": {
    "collapsed": false,
    "ExecuteTime": {
     "end_time": "2023-11-23T06:57:46.153416854Z",
     "start_time": "2023-11-23T06:57:46.152594503Z"
    }
   },
   "id": "f4135f257f49c029"
  },
  {
   "cell_type": "code",
   "execution_count": 17,
   "outputs": [
    {
     "data": {
      "text/plain": "0         2\n1         2\n2         2\n3         2\n4         3\n         ..\n329177    3\n329178    3\n329179    3\n329180    3\n329181    3\nName: damage_grade, Length: 329182, dtype: int64"
     },
     "execution_count": 17,
     "metadata": {},
     "output_type": "execute_result"
    }
   ],
   "source": [
    "y_res"
   ],
   "metadata": {
    "collapsed": false,
    "ExecuteTime": {
     "end_time": "2023-11-23T06:57:46.155186565Z",
     "start_time": "2023-11-23T06:57:46.152811959Z"
    }
   },
   "id": "afd5e662d8088174"
  },
  {
   "cell_type": "code",
   "execution_count": 18,
   "outputs": [
    {
     "data": {
      "text/plain": "(array([1, 2, 3]), array([115547, 105920, 107715]))"
     },
     "execution_count": 18,
     "metadata": {},
     "output_type": "execute_result"
    }
   ],
   "source": [
    "np.unique(y_res, return_counts=True)"
   ],
   "metadata": {
    "collapsed": false,
    "ExecuteTime": {
     "end_time": "2023-11-23T06:57:46.212512578Z",
     "start_time": "2023-11-23T06:57:46.155660978Z"
    }
   },
   "id": "1ec7a0a51881c9f3"
  },
  {
   "cell_type": "code",
   "execution_count": 19,
   "outputs": [
    {
     "data": {
      "text/plain": "array([[-0.37962375, -0.55579973, -0.35104152, ...,  0.36985039,\n        -0.11227734,  0.10541003],\n       [-0.60327034, -0.47907732, -0.37780515, ..., -0.66699757,\n        -0.42454398,  0.04004621],\n       [-0.57476435, -0.49359352, -0.4662596 , ..., -0.04907827,\n        -0.17265277, -0.02475646],\n       ...,\n       [-0.56155   , -0.62659142, -0.49492021, ...,  0.15149114,\n         0.13855255, -0.03144419],\n       [-0.57107151, -0.5114983 , -0.46521654, ..., -0.05288158,\n        -0.17192849, -0.02590242],\n       [-0.45984475, -0.67740107, -0.549767  , ...,  0.0603015 ,\n        -0.19188324, -0.00429948]])"
     },
     "execution_count": 19,
     "metadata": {},
     "output_type": "execute_result"
    }
   ],
   "source": [
    "X_scaled = StandardScaler().fit_transform(X_res.values)\n",
    "X_scaled"
   ],
   "metadata": {
    "collapsed": false,
    "ExecuteTime": {
     "end_time": "2023-11-23T06:57:46.259126756Z",
     "start_time": "2023-11-23T06:57:46.180595117Z"
    }
   },
   "id": "603598fffd94b852"
  },
  {
   "cell_type": "code",
   "execution_count": 20,
   "outputs": [
    {
     "data": {
      "text/plain": "0         2\n1         2\n2         2\n3         2\n4         3\n         ..\n329177    3\n329178    3\n329179    3\n329180    3\n329181    3\nName: damage_grade, Length: 329182, dtype: int64"
     },
     "execution_count": 20,
     "metadata": {},
     "output_type": "execute_result"
    }
   ],
   "source": [
    "y_res"
   ],
   "metadata": {
    "collapsed": false,
    "ExecuteTime": {
     "end_time": "2023-11-23T06:57:46.272176721Z",
     "start_time": "2023-11-23T06:57:46.259832382Z"
    }
   },
   "id": "f22f8bf0b7183a9c"
  },
  {
   "cell_type": "code",
   "execution_count": 21,
   "outputs": [],
   "source": [
    "y_l = np.array(y_res - 1)\n",
    "X_l = np.array(X_scaled)\n",
    "X_train, X_test, y_train, y_test = tts(X_l, y_l, test_size=0.20, random_state=15)"
   ],
   "metadata": {
    "collapsed": false,
    "ExecuteTime": {
     "end_time": "2023-11-23T06:57:46.346312721Z",
     "start_time": "2023-11-23T06:57:46.263082637Z"
    }
   },
   "id": "379ff343ce364cf0"
  },
  {
   "cell_type": "code",
   "execution_count": 31,
   "outputs": [],
   "source": [
    "np.save(\"../data/processed/data.npy\", X_l)\n",
    "np.save(\"../data/processed/label.npy\", y_l)\n"
   ],
   "metadata": {
    "collapsed": false,
    "ExecuteTime": {
     "end_time": "2023-11-23T07:02:37.846510641Z",
     "start_time": "2023-11-23T07:02:37.804835338Z"
    }
   },
   "id": "6314efa571b44e22"
  },
  {
   "cell_type": "code",
   "execution_count": 23,
   "outputs": [
    {
     "data": {
      "text/plain": "(array([0, 1, 2]), array([92464, 84710, 86171]))"
     },
     "execution_count": 23,
     "metadata": {},
     "output_type": "execute_result"
    }
   ],
   "source": [
    "np.unique(y_train, return_counts=True)"
   ],
   "metadata": {
    "collapsed": false,
    "ExecuteTime": {
     "end_time": "2023-11-23T06:57:46.398485302Z",
     "start_time": "2023-11-23T06:57:46.392526851Z"
    }
   },
   "id": "fd66a07c2e1b40db"
  },
  {
   "cell_type": "code",
   "execution_count": 24,
   "outputs": [
    {
     "data": {
      "text/plain": "array([0, 0, 0, ..., 0, 1, 2])"
     },
     "execution_count": 24,
     "metadata": {},
     "output_type": "execute_result"
    }
   ],
   "source": [
    "y_test"
   ],
   "metadata": {
    "collapsed": false,
    "ExecuteTime": {
     "end_time": "2023-11-23T06:57:46.437074439Z",
     "start_time": "2023-11-23T06:57:46.396171809Z"
    }
   },
   "id": "c6545e40d7aac4df"
  },
  {
   "cell_type": "code",
   "execution_count": 25,
   "outputs": [],
   "source": [
    "output_size = np.unique(y_l).shape[0]\n",
    "input_size = X_train.shape[1]"
   ],
   "metadata": {
    "collapsed": false,
    "ExecuteTime": {
     "end_time": "2023-11-23T06:57:46.437954300Z",
     "start_time": "2023-11-23T06:57:46.436467992Z"
    }
   },
   "id": "1fc0af786a67bbb9"
  },
  {
   "cell_type": "code",
   "execution_count": 26,
   "outputs": [
    {
     "data": {
      "text/plain": "array([[-0.37888208,  2.66874078,  1.18425689, ..., -0.2731267 ,\n         0.02616143, -0.17793195],\n       [-0.36362488,  0.70768104,  0.04818605, ..., -0.10213987,\n         0.29631929, -0.13398522],\n       [-0.57367393, -0.52164249, -0.46792856, ..., -0.05241992,\n        -0.17403653, -0.02602054],\n       ...,\n       [ 1.41482165,  0.89974062, -1.44032726, ...,  0.31475178,\n         0.0422726 ,  0.10406311],\n       [-0.57517121, -0.51141067, -0.47038341, ..., -0.0491614 ,\n        -0.17557475, -0.02531088],\n       [-0.35331101,  2.1607683 ,  0.94468907, ..., -2.07825078,\n        -1.95840344,  0.45734276]])"
     },
     "execution_count": 26,
     "metadata": {},
     "output_type": "execute_result"
    }
   ],
   "source": [
    "X_test"
   ],
   "metadata": {
    "collapsed": false,
    "ExecuteTime": {
     "end_time": "2023-11-23T06:57:46.458874288Z",
     "start_time": "2023-11-23T06:57:46.436989685Z"
    }
   },
   "id": "5f5cdf447a0f6541"
  },
  {
   "cell_type": "code",
   "execution_count": 27,
   "outputs": [],
   "source": [
    "sfs = LVQ3(input_size=input_size, output_size=output_size, random_state=201, epoch=3, alpha=0.45, beta=0.25, m=0.2,epsilon=0.25, dMethod=\"cosine\")\n",
    "# sfs.fit(X_train, y_train)\n"
   ],
   "metadata": {
    "collapsed": false,
    "ExecuteTime": {
     "end_time": "2023-11-23T06:57:46.477677382Z",
     "start_time": "2023-11-23T06:57:46.454615527Z"
    }
   },
   "id": "d5f0494a299aa90"
  },
  {
   "cell_type": "code",
   "execution_count": 28,
   "outputs": [
    {
     "data": {
      "text/plain": "array([[-0.7721908 ,  0.49576165,  0.22211879,  0.61938361,  0.42571498,\n        -0.71992637, -0.46497624, -0.70479109, -0.54386416, -0.52887653,\n         0.38004763, -0.70330436, -0.10878835,  0.40168508, -0.80672271,\n         0.76526517,  0.73966457,  0.68918843, -0.45259585,  0.57135909,\n         0.40227159, -0.01053901,  0.67267462, -0.19163248],\n       [-0.65355399, -0.26919644,  0.99417757, -0.31869126,  0.01075933,\n         0.07869494, -0.50132586,  0.62548678, -0.6147153 , -0.83949923,\n        -0.81167557, -0.30006911,  0.57106996,  0.36138397, -0.92412115,\n        -0.41713174, -0.39254003,  0.96769772, -0.67458425,  0.9241251 ,\n         0.4033615 ,  0.41730149,  0.79535607, -0.36764077],\n       [-0.39847356,  0.8891353 , -0.81216045,  0.38358714,  0.92204392,\n         0.42716702, -0.82714944,  0.83001483, -0.58995581, -0.39107245,\n         0.33199011,  0.48099673,  0.64847863,  0.49697567,  0.17048774,\n         0.49893068, -0.2547203 , -0.018561  , -0.48622587,  0.62246903,\n        -0.11143597,  0.39450371, -0.86172919,  0.72842954]])"
     },
     "execution_count": 28,
     "metadata": {},
     "output_type": "execute_result"
    }
   ],
   "source": [
    "sfs.weight"
   ],
   "metadata": {
    "collapsed": false,
    "ExecuteTime": {
     "end_time": "2023-11-23T06:57:46.516918022Z",
     "start_time": "2023-11-23T06:57:46.475546572Z"
    }
   },
   "id": "a9abb00e924baef7"
  },
  {
   "cell_type": "code",
   "execution_count": 29,
   "outputs": [],
   "source": [
    "# res = sfs.predict(X_test)\n",
    "# print(classification_report(res, y_test, zero_division=1))"
   ],
   "metadata": {
    "collapsed": false,
    "ExecuteTime": {
     "end_time": "2023-11-23T06:57:46.518626823Z",
     "start_time": "2023-11-23T06:57:46.516471862Z"
    }
   },
   "id": "c70fe90ef9a286b2"
  }
 ],
 "metadata": {
  "kernelspec": {
   "display_name": "Python 3",
   "language": "python",
   "name": "python3"
  },
  "language_info": {
   "codemirror_mode": {
    "name": "ipython",
    "version": 2
   },
   "file_extension": ".py",
   "mimetype": "text/x-python",
   "name": "python",
   "nbconvert_exporter": "python",
   "pygments_lexer": "ipython2",
   "version": "2.7.6"
  }
 },
 "nbformat": 4,
 "nbformat_minor": 5
}
