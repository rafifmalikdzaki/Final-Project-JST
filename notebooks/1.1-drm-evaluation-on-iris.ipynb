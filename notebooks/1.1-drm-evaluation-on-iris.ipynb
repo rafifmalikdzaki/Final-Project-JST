{
 "cells": [
  {
   "cell_type": "code",
   "execution_count": 2,
   "outputs": [],
   "source": [
    "import numpy as np\n",
    "import sklearn.datasets as dt\n",
    "from sklearn.model_selection import train_test_split as tts\n",
    "from sklearn.metrics import accuracy_score, classification_report\n",
    "from sklearn.datasets import make_blobs, make_classification\n",
    "import matplotlib.pyplot as plt\n",
    "from sklearn.preprocessing import StandardScaler,MinMaxScaler\n",
    "from LVQ.lvq import LVQ3"
   ],
   "metadata": {
    "collapsed": false,
    "ExecuteTime": {
     "end_time": "2023-11-21T09:01:49.456084953Z",
     "start_time": "2023-11-21T09:01:49.018382939Z"
    }
   },
   "id": "initial_id"
  },
  {
   "cell_type": "code",
   "execution_count": 3,
   "outputs": [],
   "source": [
    "X, y = dt.load_iris(return_X_y=True)\n",
    "X = StandardScaler().fit_transform(X)\n",
    "\n",
    "X_train, X_test, y_train, y_test = tts(X, y, test_size=0.2, shuffle=True, random_state=10)\n",
    "output_size = np.unique(y).shape[0]\n",
    "input_size = X_train.shape[1]"
   ],
   "metadata": {
    "collapsed": false,
    "ExecuteTime": {
     "end_time": "2023-11-21T09:01:49.462992100Z",
     "start_time": "2023-11-21T09:01:49.457932080Z"
    }
   },
   "id": "5f7ca36ee97ebc54"
  },
  {
   "cell_type": "code",
   "execution_count": 5,
   "outputs": [
    {
     "data": {
      "text/plain": "array([1, 2, 0, 1, 0, 1, 1, 1, 0, 1, 1, 2, 1, 0, 0, 2, 1, 0, 0, 0, 2, 2,\n       2, 0, 1, 0, 1, 1, 1, 2])"
     },
     "execution_count": 5,
     "metadata": {},
     "output_type": "execute_result"
    }
   ],
   "source": [],
   "metadata": {
    "collapsed": false,
    "ExecuteTime": {
     "end_time": "2023-11-21T09:01:56.845316674Z",
     "start_time": "2023-11-21T09:01:56.838457858Z"
    }
   },
   "id": "3b53a0d28fa2ae8d"
  },
  {
   "cell_type": "code",
   "execution_count": null,
   "outputs": [],
   "source": [
    "one = LVQ3(input_size, output_size, random_state=40, epoch=500, alpha=0.5, beta=0.25, m=0.2,epsilon=0.25)\n",
    "one.fit(X_train, y_train)"
   ],
   "metadata": {
    "collapsed": false
   },
   "id": "1554144d1af5309d"
  },
  {
   "cell_type": "code",
   "execution_count": 3,
   "outputs": [
    {
     "name": "stdout",
     "output_type": "stream",
     "text": [
      "              precision    recall  f1-score   support\n",
      "\n",
      "           0       1.00      1.00      1.00        10\n",
      "           1       0.92      1.00      0.96        12\n",
      "           2       1.00      0.88      0.93         8\n",
      "\n",
      "    accuracy                           0.97        30\n",
      "   macro avg       0.97      0.96      0.96        30\n",
      "weighted avg       0.97      0.97      0.97        30\n"
     ]
    }
   ],
   "source": [
    "res = one.predict(X_test)\n",
    "print(classification_report(res, y_test))"
   ],
   "metadata": {
    "collapsed": false,
    "ExecuteTime": {
     "end_time": "2023-11-21T06:02:53.111810034Z",
     "start_time": "2023-11-21T06:02:53.102760239Z"
    }
   },
   "id": "c70fe90ef9a286b2"
  }
 ],
 "metadata": {
  "kernelspec": {
   "display_name": "Python 3",
   "language": "python",
   "name": "python3"
  },
  "language_info": {
   "codemirror_mode": {
    "name": "ipython",
    "version": 2
   },
   "file_extension": ".py",
   "mimetype": "text/x-python",
   "name": "python",
   "nbconvert_exporter": "python",
   "pygments_lexer": "ipython2",
   "version": "2.7.6"
  }
 },
 "nbformat": 4,
 "nbformat_minor": 5
}
