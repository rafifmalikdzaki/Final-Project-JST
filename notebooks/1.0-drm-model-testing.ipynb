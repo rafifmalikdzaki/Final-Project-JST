{
 "cells": [
  {
   "cell_type": "code",
   "execution_count": 1,
   "id": "initial_id",
   "metadata": {
    "collapsed": true,
    "ExecuteTime": {
     "end_time": "2023-11-20T05:19:06.721217220Z",
     "start_time": "2023-11-20T05:19:06.375534678Z"
    }
   },
   "outputs": [],
   "source": [
    "import numpy as np\n",
    "import sklearn.datasets as dt\n",
    "from sklearn.model_selection import train_test_split as tts\n",
    "from sklearn.metrics import accuracy_score\n",
    "from sklearn.datasets import make_blobs, make_classification\n",
    "import matplotlib.pyplot as plt"
   ]
  },
  {
   "cell_type": "code",
   "execution_count": 2,
   "outputs": [],
   "source": [
    "# X, y = dt.load_iris(return_X_y=True)\n",
    "X, y = make_classification(n_samples=1000, n_features=38, n_redundant=0, n_informative=16, n_classes=2, n_clusters_per_class=1)\n",
    "X_train, X_test, y_train, y_test = tts(X, y, test_size=0.2, random_state=0, shuffle=True)"
   ],
   "metadata": {
    "collapsed": false,
    "ExecuteTime": {
     "end_time": "2023-11-20T05:19:06.737551033Z",
     "start_time": "2023-11-20T05:19:06.722646915Z"
    }
   },
   "id": "c4998c7e90363575"
  },
  {
   "cell_type": "code",
   "execution_count": 3,
   "outputs": [],
   "source": [
    "from LVQ.lvq import LVQ3"
   ],
   "metadata": {
    "collapsed": false,
    "ExecuteTime": {
     "end_time": "2023-11-20T05:19:06.769972155Z",
     "start_time": "2023-11-20T05:19:06.735013605Z"
    }
   },
   "id": "975c9aa46ab3d004"
  },
  {
   "cell_type": "code",
   "execution_count": 4,
   "outputs": [],
   "source": [
    "lvq = LVQ3(epsilon=0.2, epoch=200)"
   ],
   "metadata": {
    "collapsed": false,
    "ExecuteTime": {
     "end_time": "2023-11-20T05:19:06.785918958Z",
     "start_time": "2023-11-20T05:19:06.761865771Z"
    }
   },
   "id": "83bf2571d34bfd14"
  },
  {
   "cell_type": "code",
   "execution_count": 5,
   "outputs": [],
   "source": [
    "model = lvq.fit(X_train, y_train)"
   ],
   "metadata": {
    "collapsed": false,
    "ExecuteTime": {
     "end_time": "2023-11-20T05:19:11.854417174Z",
     "start_time": "2023-11-20T05:19:06.786678643Z"
    }
   },
   "id": "da18955f245d9649"
  },
  {
   "cell_type": "code",
   "execution_count": 6,
   "outputs": [],
   "source": [
    "result = lvq.predict(X_test)"
   ],
   "metadata": {
    "collapsed": false,
    "ExecuteTime": {
     "end_time": "2023-11-20T05:19:11.866454103Z",
     "start_time": "2023-11-20T05:19:11.859613615Z"
    }
   },
   "id": "43ff61e4913f9410"
  },
  {
   "cell_type": "code",
   "execution_count": 7,
   "outputs": [
    {
     "data": {
      "text/plain": "0.935"
     },
     "execution_count": 7,
     "metadata": {},
     "output_type": "execute_result"
    }
   ],
   "source": [
    "accuracy_score(result, y_test)"
   ],
   "metadata": {
    "collapsed": false,
    "ExecuteTime": {
     "end_time": "2023-11-20T05:19:11.908103511Z",
     "start_time": "2023-11-20T05:19:11.861459606Z"
    }
   },
   "id": "aa96a8f71528ccea"
  },
  {
   "cell_type": "code",
   "execution_count": 8,
   "outputs": [],
   "source": [
    "from LVQ.multiclass import OneVsRestClassifier\n",
    "from sklearn.preprocessing import StandardScaler,MinMaxScaler\n",
    "X, y = dt.load_iris(return_X_y=True)\n",
    "X = StandardScaler().fit_transform(X)\n",
    "# X, y = make_classification(n_samples=200, n_features=38, n_redundant=0, n_informative=20, n_classes=3, n_clusters_per_class=1)\n",
    "\n",
    "X_train, X_test, y_train, y_test = tts(X, y, test_size=0.2, random_state=0)\n",
    "\n",
    "one = OneVsRestClassifier(LVQ3(random_state=0, epoch=350, alpha=0.65, beta=0.2, m=0.25,epsilon=0.35))\n",
    "one.fit(X_train, y_train)"
   ],
   "metadata": {
    "collapsed": false,
    "ExecuteTime": {
     "end_time": "2023-11-20T05:19:15.914350515Z",
     "start_time": "2023-11-20T05:19:11.897921917Z"
    }
   },
   "id": "5f7ca36ee97ebc54"
  },
  {
   "cell_type": "code",
   "execution_count": 9,
   "outputs": [],
   "source": [
    "result = one.predict(X_test)"
   ],
   "metadata": {
    "collapsed": false,
    "ExecuteTime": {
     "end_time": "2023-11-20T05:19:15.927868667Z",
     "start_time": "2023-11-20T05:19:15.918472914Z"
    }
   },
   "id": "816acb4367928e60"
  },
  {
   "cell_type": "code",
   "execution_count": 10,
   "outputs": [
    {
     "data": {
      "text/plain": "0.5666666666666667"
     },
     "execution_count": 10,
     "metadata": {},
     "output_type": "execute_result"
    }
   ],
   "source": [
    "accuracy_score(result, y_test)"
   ],
   "metadata": {
    "collapsed": false,
    "ExecuteTime": {
     "end_time": "2023-11-20T05:19:15.955760818Z",
     "start_time": "2023-11-20T05:19:15.919792869Z"
    }
   },
   "id": "162814a42e8d24b3"
  },
  {
   "cell_type": "code",
   "execution_count": 11,
   "outputs": [
    {
     "data": {
      "text/plain": "{'data': array([[ 0.,  0.,  5., ...,  0.,  0.,  0.],\n        [ 0.,  0.,  0., ..., 10.,  0.,  0.],\n        [ 0.,  0.,  0., ..., 16.,  9.,  0.],\n        ...,\n        [ 0.,  0.,  1., ...,  6.,  0.,  0.],\n        [ 0.,  0.,  2., ..., 12.,  0.,  0.],\n        [ 0.,  0., 10., ..., 12.,  1.,  0.]]),\n 'target': array([0, 1, 2, ..., 8, 9, 8]),\n 'frame': None,\n 'feature_names': ['pixel_0_0',\n  'pixel_0_1',\n  'pixel_0_2',\n  'pixel_0_3',\n  'pixel_0_4',\n  'pixel_0_5',\n  'pixel_0_6',\n  'pixel_0_7',\n  'pixel_1_0',\n  'pixel_1_1',\n  'pixel_1_2',\n  'pixel_1_3',\n  'pixel_1_4',\n  'pixel_1_5',\n  'pixel_1_6',\n  'pixel_1_7',\n  'pixel_2_0',\n  'pixel_2_1',\n  'pixel_2_2',\n  'pixel_2_3',\n  'pixel_2_4',\n  'pixel_2_5',\n  'pixel_2_6',\n  'pixel_2_7',\n  'pixel_3_0',\n  'pixel_3_1',\n  'pixel_3_2',\n  'pixel_3_3',\n  'pixel_3_4',\n  'pixel_3_5',\n  'pixel_3_6',\n  'pixel_3_7',\n  'pixel_4_0',\n  'pixel_4_1',\n  'pixel_4_2',\n  'pixel_4_3',\n  'pixel_4_4',\n  'pixel_4_5',\n  'pixel_4_6',\n  'pixel_4_7',\n  'pixel_5_0',\n  'pixel_5_1',\n  'pixel_5_2',\n  'pixel_5_3',\n  'pixel_5_4',\n  'pixel_5_5',\n  'pixel_5_6',\n  'pixel_5_7',\n  'pixel_6_0',\n  'pixel_6_1',\n  'pixel_6_2',\n  'pixel_6_3',\n  'pixel_6_4',\n  'pixel_6_5',\n  'pixel_6_6',\n  'pixel_6_7',\n  'pixel_7_0',\n  'pixel_7_1',\n  'pixel_7_2',\n  'pixel_7_3',\n  'pixel_7_4',\n  'pixel_7_5',\n  'pixel_7_6',\n  'pixel_7_7'],\n 'target_names': array([0, 1, 2, 3, 4, 5, 6, 7, 8, 9]),\n 'images': array([[[ 0.,  0.,  5., ...,  1.,  0.,  0.],\n         [ 0.,  0., 13., ..., 15.,  5.,  0.],\n         [ 0.,  3., 15., ..., 11.,  8.,  0.],\n         ...,\n         [ 0.,  4., 11., ..., 12.,  7.,  0.],\n         [ 0.,  2., 14., ..., 12.,  0.,  0.],\n         [ 0.,  0.,  6., ...,  0.,  0.,  0.]],\n \n        [[ 0.,  0.,  0., ...,  5.,  0.,  0.],\n         [ 0.,  0.,  0., ...,  9.,  0.,  0.],\n         [ 0.,  0.,  3., ...,  6.,  0.,  0.],\n         ...,\n         [ 0.,  0.,  1., ...,  6.,  0.,  0.],\n         [ 0.,  0.,  1., ...,  6.,  0.,  0.],\n         [ 0.,  0.,  0., ..., 10.,  0.,  0.]],\n \n        [[ 0.,  0.,  0., ..., 12.,  0.,  0.],\n         [ 0.,  0.,  3., ..., 14.,  0.,  0.],\n         [ 0.,  0.,  8., ..., 16.,  0.,  0.],\n         ...,\n         [ 0.,  9., 16., ...,  0.,  0.,  0.],\n         [ 0.,  3., 13., ..., 11.,  5.,  0.],\n         [ 0.,  0.,  0., ..., 16.,  9.,  0.]],\n \n        ...,\n \n        [[ 0.,  0.,  1., ...,  1.,  0.,  0.],\n         [ 0.,  0., 13., ...,  2.,  1.,  0.],\n         [ 0.,  0., 16., ..., 16.,  5.,  0.],\n         ...,\n         [ 0.,  0., 16., ..., 15.,  0.,  0.],\n         [ 0.,  0., 15., ..., 16.,  0.,  0.],\n         [ 0.,  0.,  2., ...,  6.,  0.,  0.]],\n \n        [[ 0.,  0.,  2., ...,  0.,  0.,  0.],\n         [ 0.,  0., 14., ..., 15.,  1.,  0.],\n         [ 0.,  4., 16., ..., 16.,  7.,  0.],\n         ...,\n         [ 0.,  0.,  0., ..., 16.,  2.,  0.],\n         [ 0.,  0.,  4., ..., 16.,  2.,  0.],\n         [ 0.,  0.,  5., ..., 12.,  0.,  0.]],\n \n        [[ 0.,  0., 10., ...,  1.,  0.,  0.],\n         [ 0.,  2., 16., ...,  1.,  0.,  0.],\n         [ 0.,  0., 15., ..., 15.,  0.,  0.],\n         ...,\n         [ 0.,  4., 16., ..., 16.,  6.,  0.],\n         [ 0.,  8., 16., ..., 16.,  8.,  0.],\n         [ 0.,  1.,  8., ..., 12.,  1.,  0.]]]),\n 'DESCR': \".. _digits_dataset:\\n\\nOptical recognition of handwritten digits dataset\\n--------------------------------------------------\\n\\n**Data Set Characteristics:**\\n\\n    :Number of Instances: 1797\\n    :Number of Attributes: 64\\n    :Attribute Information: 8x8 image of integer pixels in the range 0..16.\\n    :Missing Attribute Values: None\\n    :Creator: E. Alpaydin (alpaydin '@' boun.edu.tr)\\n    :Date: July; 1998\\n\\nThis is a copy of the test set of the UCI ML hand-written digits datasets\\nhttps://archive.ics.uci.edu/ml/datasets/Optical+Recognition+of+Handwritten+Digits\\n\\nThe data set contains images of hand-written digits: 10 classes where\\neach class refers to a digit.\\n\\nPreprocessing programs made available by NIST were used to extract\\nnormalized bitmaps of handwritten digits from a preprinted form. From a\\ntotal of 43 people, 30 contributed to the training set and different 13\\nto the test set. 32x32 bitmaps are divided into nonoverlapping blocks of\\n4x4 and the number of on pixels are counted in each block. This generates\\nan input matrix of 8x8 where each element is an integer in the range\\n0..16. This reduces dimensionality and gives invariance to small\\ndistortions.\\n\\nFor info on NIST preprocessing routines, see M. D. Garris, J. L. Blue, G.\\nT. Candela, D. L. Dimmick, J. Geist, P. J. Grother, S. A. Janet, and C.\\nL. Wilson, NIST Form-Based Handprint Recognition System, NISTIR 5469,\\n1994.\\n\\n.. topic:: References\\n\\n  - C. Kaynak (1995) Methods of Combining Multiple Classifiers and Their\\n    Applications to Handwritten Digit Recognition, MSc Thesis, Institute of\\n    Graduate Studies in Science and Engineering, Bogazici University.\\n  - E. Alpaydin, C. Kaynak (1998) Cascading Classifiers, Kybernetika.\\n  - Ken Tang and Ponnuthurai N. Suganthan and Xi Yao and A. Kai Qin.\\n    Linear dimensionalityreduction using relevance weighted LDA. School of\\n    Electrical and Electronic Engineering Nanyang Technological University.\\n    2005.\\n  - Claudio Gentile. A New Approximate Maximal Margin Classification\\n    Algorithm. NIPS. 2000.\\n\"}"
     },
     "execution_count": 11,
     "metadata": {},
     "output_type": "execute_result"
    }
   ],
   "source": [
    "digits = dt.load_digits()\n",
    "digits"
   ],
   "metadata": {
    "collapsed": false,
    "ExecuteTime": {
     "end_time": "2023-11-20T05:19:16.019368681Z",
     "start_time": "2023-11-20T05:19:15.952791685Z"
    }
   },
   "id": "2f72e15963d4aeb4"
  },
  {
   "cell_type": "code",
   "execution_count": 12,
   "outputs": [
    {
     "data": {
      "text/plain": "<Figure size 640x480 with 1 Axes>",
      "image/png": "[encoded data removed]"
     },
     "metadata": {},
     "output_type": "display_data"
    }
   ],
   "source": [
    "fig = plt.figure\n",
    "plt.imshow(digits.images[-2], cmap='gray_r')\n",
    "plt.show()"
   ],
   "metadata": {
    "collapsed": false,
    "ExecuteTime": {
     "end_time": "2023-11-20T05:19:16.087475621Z",
     "start_time": "2023-11-20T05:19:15.984907979Z"
    }
   },
   "id": "bbe284c75776fc25"
  },
  {
   "cell_type": "code",
   "execution_count": 13,
   "outputs": [
    {
     "data": {
      "text/plain": "9"
     },
     "execution_count": 13,
     "metadata": {},
     "output_type": "execute_result"
    }
   ],
   "source": [
    "digits.target[-2]"
   ],
   "metadata": {
    "collapsed": false,
    "ExecuteTime": {
     "end_time": "2023-11-20T05:19:16.133004744Z",
     "start_time": "2023-11-20T05:19:16.088831848Z"
    }
   },
   "id": "a3de0ac2db2acbd7"
  },
  {
   "cell_type": "code",
   "execution_count": 14,
   "outputs": [
    {
     "data": {
      "text/plain": "(array([[ 0.,  0.,  5., ...,  0.,  0.,  0.],\n        [ 0.,  0.,  0., ..., 10.,  0.,  0.],\n        [ 0.,  0.,  0., ..., 16.,  9.,  0.],\n        ...,\n        [ 0.,  0.,  1., ...,  6.,  0.,  0.],\n        [ 0.,  0.,  2., ..., 12.,  0.,  0.],\n        [ 0.,  0., 10., ..., 12.,  1.,  0.]]),\n array([0, 1, 2, ..., 8, 9, 8]))"
     },
     "execution_count": 14,
     "metadata": {},
     "output_type": "execute_result"
    }
   ],
   "source": [
    "X = digits.data\n",
    "Y = digits.target\n",
    "X, Y"
   ],
   "metadata": {
    "collapsed": false,
    "ExecuteTime": {
     "end_time": "2023-11-20T05:19:16.133281183Z",
     "start_time": "2023-11-20T05:19:16.129536912Z"
    }
   },
   "id": "225ebb90a7e50274"
  },
  {
   "cell_type": "code",
   "execution_count": 15,
   "outputs": [],
   "source": [
    "x_train, x_test, y_train, y_test = tts(X, Y, shuffle=False, test_size=0.3)"
   ],
   "metadata": {
    "collapsed": false,
    "ExecuteTime": {
     "end_time": "2023-11-20T05:19:16.139990168Z",
     "start_time": "2023-11-20T05:19:16.129663824Z"
    }
   },
   "id": "464b84fe3f3c629e"
  },
  {
   "cell_type": "code",
   "execution_count": 16,
   "outputs": [],
   "source": [
    "lvq_digit = LVQ3(epsilon=0.3, alpha=0.2, beta=0.5,epoch=500)\n",
    "lvq_digit.fit(x_train, y_train)"
   ],
   "metadata": {
    "collapsed": false,
    "ExecuteTime": {
     "end_time": "2023-11-20T05:19:39.277263296Z",
     "start_time": "2023-11-20T05:19:16.140596353Z"
    }
   },
   "id": "8e073ea286b1f909"
  },
  {
   "cell_type": "code",
   "execution_count": 17,
   "outputs": [
    {
     "data": {
      "text/plain": "array([[-8.08690088e-01,  3.59683445e-01, -7.33112656e-02,\n        -1.02518235e-01,  5.44660214e-01,  1.48345223e-01,\n        -7.45169224e-01,  5.42667529e-01,  8.02374888e-01,\n        -3.93457400e-01, -4.92873526e-02, -6.73013254e-02,\n         9.27357102e-01,  2.01623547e-01, -3.39770704e-01,\n         6.71014467e-01,  1.78538119e-01, -5.53808835e-01,\n        -8.66103897e-01, -1.38103895e-01,  4.54117482e-01,\n         3.72574269e-01, -4.00646734e-01, -4.12487968e-01,\n        -3.88889873e-01, -6.82842157e-02, -9.86443999e-01,\n         9.52511711e-01,  6.24636801e-01, -5.55126786e-01,\n        -9.96794640e-01,  2.52043845e-01, -3.78619862e-01,\n        -4.05132923e-01,  7.24623239e-01, -6.11047763e-01,\n        -2.94140540e-01, -1.77686007e-01, -3.35745727e-03,\n         9.39133123e-01, -3.72361092e-01, -3.28723444e-01,\n        -9.98719452e-01, -3.95475606e-01, -2.43221137e-01,\n         6.50888790e-01, -8.16838129e-02, -8.88422509e-01,\n         8.91806667e-01, -1.32222967e-01,  7.77608792e-01,\n        -3.87416258e-01,  6.44303116e-01, -2.73917508e-02,\n        -6.88529082e-01, -3.50792876e-01,  2.59771611e-01,\n         2.88727265e-01, -1.72203264e-01, -1.07796860e-01,\n        -6.18784357e-02,  6.74830655e-02,  8.83603694e-01,\n         6.88414481e-01],\n       [ 8.96115240e-01, -2.49936337e-01,  5.65406814e-01,\n        -2.84644122e-01, -8.46439734e-01,  8.78418277e-01,\n        -8.50487287e-01,  3.88211063e-01,  2.26020808e-01,\n         1.22388342e-01, -1.44892273e-01, -1.55951685e-01,\n        -3.28159428e-01,  3.93838605e-01, -5.38886651e-01,\n        -5.77402944e-01, -7.65371666e-01, -8.55410595e-01,\n         3.21915826e-01,  7.80904430e-01,  6.13952884e-01,\n         5.08723241e-01, -8.45010048e-01,  6.00213195e-01,\n        -1.28233444e-01,  5.18724047e-01,  3.16567189e-01,\n         1.73821380e-03,  7.95285289e-01,  4.37138830e-01,\n        -1.44011374e-02,  4.38097428e-01,  3.74553536e-01,\n        -7.00022516e-01, -8.15210562e-02, -9.28217815e-01,\n        -8.87297331e-01, -9.87315707e-01,  9.02256732e-01,\n         2.06910623e-01, -2.57195498e-01,  5.28765263e-01,\n        -2.34189053e-01, -9.18811394e-01, -1.23398958e-01,\n         6.81473822e-01,  7.69774131e-01, -1.93759074e-01,\n        -5.94146420e-02, -7.36869411e-01, -5.96091229e-02,\n        -1.77975931e-01,  9.12525830e-01,  9.48797815e-01,\n        -3.35069624e-01,  8.08602081e-01,  8.26920100e-01,\n         9.71119510e-01, -6.39988717e-01, -9.26923469e-01,\n         1.76577288e-01,  8.45414206e-01,  1.47188710e-01,\n        -6.72783910e-01],\n       [-7.10758744e-01,  1.97971607e-01,  6.87509494e-02,\n         6.58533134e-01,  3.13198177e+00,  1.96305847e+00,\n        -2.62000574e-01,  6.27719080e-01, -5.14966294e-01,\n         2.23699045e-01,  5.00242990e-01,  3.32527055e+00,\n         3.29055329e+00,  2.75048317e+00,  4.70982033e-01,\n         2.81374958e-01, -7.76854880e-01,  5.67299002e-01,\n         2.22733080e+00,  2.65596985e+00,  1.18670530e+00,\n         3.92429299e+00, -4.94145962e-01, -1.98116524e-01,\n        -7.62613540e-01,  7.38406947e-01,  8.96271529e-01,\n         1.55948842e+00,  3.53843341e+00,  2.95096136e+00,\n        -5.32547069e-01, -7.28817220e-01, -6.51416060e-01,\n         6.26128114e-01,  1.34277268e+00,  2.28903009e+00,\n         3.21993790e+00,  7.00021654e-01, -6.72156775e-01,\n        -9.58474591e-03,  6.18466352e-01,  1.87346650e+00,\n         2.49591925e+00,  3.39650008e+00,  9.58205285e-01,\n         7.78011086e-01,  7.66824874e-01,  6.18040412e-01,\n         7.36163562e-01,  1.12060503e+00,  3.14092608e+00,\n         3.78103407e+00,  3.63814233e+00,  1.65029184e+00,\n         1.73634053e+00,  5.79804729e-01, -7.13196553e-01,\n         3.92717774e-01, -5.99784684e-01,  9.78088243e-01,\n         2.11243343e+00,  3.14864549e+00,  2.20808044e+00,\n         6.46620546e-01],\n       [-2.42950236e-01,  9.40064978e-01,  5.44646391e-01,\n        -3.09344416e-01,  7.19983290e-01,  9.32831170e-01,\n        -7.46065841e-01, -3.39982954e-01, -9.86530333e-01,\n         1.20263108e-01, -9.04734020e-01, -4.37067841e-01,\n        -2.66698516e-01,  2.45680746e-01, -1.75658269e-02,\n        -1.11578857e-01, -1.40917459e-01, -7.25154737e-02,\n         5.89788951e-01, -7.12408041e-01,  9.77821162e-01,\n         7.03638308e-01,  6.46317627e-01, -1.14185496e-01,\n         2.04423383e-01,  4.19600410e-01,  8.35300204e-01,\n        -6.90656068e-01, -3.48306845e-01, -6.49580269e-01,\n        -5.55341695e-01,  7.94764163e-01, -9.35533104e-01,\n         4.14479203e-01, -3.77793518e-01,  4.25689059e-01,\n        -5.70007674e-01, -7.86231533e-01, -1.41177457e-01,\n        -8.17760122e-01, -5.16080816e-01, -1.01780729e-01,\n         8.24857309e-01,  6.10757170e-01, -6.20035792e-01,\n         3.61456362e-01,  7.56895733e-01,  6.01039967e-01,\n         1.32788775e-01,  8.59960204e-02, -1.73456131e-01,\n        -1.24788559e-01, -6.10341355e-01, -5.16708932e-01,\n         4.38575853e-01,  7.34383246e-01, -7.27612246e-01,\n        -5.17342737e-01, -9.04446833e-01, -2.37127062e-01,\n        -9.76655378e-01, -8.59333604e-01, -5.90217208e-01,\n        -3.14995203e-01],\n       [-9.69381044e-01, -8.11851249e-01, -9.63615466e-01,\n         2.62949885e-01,  7.59165183e-01, -2.31178871e-01,\n        -8.38287764e-01,  9.94382073e-02,  7.45752749e-01,\n         3.27172744e-01,  7.66870875e-01, -2.52174456e-01,\n         4.17564859e-01,  3.24334526e-01,  4.42987690e-01,\n         9.73767983e-01, -4.49735890e-01, -4.36153705e-01,\n         5.86670737e-01,  7.18405322e-01, -4.73583384e-01,\n         5.88289326e-01, -8.14715471e-01, -6.38071273e-01,\n        -5.89725668e-01, -8.60453866e-01,  8.39262679e-01,\n         5.25757407e-01,  9.01685558e-01, -8.03608759e-01,\n        -7.54285035e-01, -5.37537816e-01,  2.74669833e-02,\n        -6.63324879e-01,  7.41443860e-02,  2.06342557e-01,\n        -6.13962877e-01,  9.86401698e-01, -9.77000240e-01,\n         2.96448260e-01, -7.50905674e-01,  1.18641031e-03,\n        -9.39482055e-01, -5.77870088e-01, -6.52487925e-01,\n         9.42898694e-01,  1.99073268e-01, -3.15508726e-01,\n         5.40215631e-01,  5.13435749e-01,  1.12110863e-01,\n         1.78319996e-01, -3.29526343e-01, -4.52203892e-01,\n         4.17168721e-01,  1.45276834e-02, -9.93640722e-01,\n         2.22065353e-01,  7.86660989e-01,  1.92099740e-01,\n         4.58838175e-01,  6.59866220e-01, -8.00403561e-02,\n         7.67836600e-02],\n       [ 5.82769617e-01,  3.29165776e-01, -6.55478017e-01,\n        -4.83454248e-01, -1.08366046e-01,  7.24265433e-01,\n         9.98605344e-01,  9.29373999e-01,  7.04200960e-01,\n        -1.84971361e-01,  3.34487251e-01, -6.85035964e-01,\n        -8.79478635e-01,  2.36386889e-01, -5.40975383e-02,\n        -1.34118765e-01,  9.16327165e-01, -1.05448392e-01,\n         2.28107906e-01,  5.06265110e-01,  7.30316533e-01,\n         7.40877372e-01,  2.90620485e-02, -7.69079374e-01,\n        -9.05255378e-01, -6.05554440e-01, -5.99361788e-01,\n        -4.13339247e-01,  8.44565944e-01, -7.61710147e-01,\n        -2.81496304e-01, -1.08663561e-01, -8.10567487e-01,\n         8.07974717e-02,  7.80984547e-02,  2.59492470e-01,\n         4.45290263e-01, -7.39273890e-01,  2.68727216e-01,\n        -9.69836097e-01,  9.13059243e-01,  7.41687915e-01,\n         9.53511361e-02, -2.80283971e-01, -3.90465210e-01,\n         6.06800854e-01,  1.50318622e-01,  2.27036267e-01,\n         3.17574736e-01, -6.32034640e-01,  5.77609950e-01,\n        -7.37340665e-01,  3.24259291e-01, -3.59294583e-02,\n        -5.53660241e-02,  3.03132255e-01, -7.95518473e-01,\n        -8.93814922e-01,  6.44018845e-01,  5.84072493e-01,\n         1.98366773e-01,  4.33944850e-01,  6.66008381e-01,\n        -9.10999250e-01],\n       [-8.76179346e-01, -9.67698015e-01,  9.08472427e-01,\n         4.99861049e-01, -2.22703618e-01,  2.24717018e-01,\n        -4.96428628e-01,  7.02346610e-01, -6.96308003e-01,\n         7.29437524e-01, -3.40567463e-01,  7.09191787e-01,\n        -3.75749790e-01,  4.14635379e-01, -1.09779340e-01,\n         6.23905798e-03,  8.25155959e-01, -3.93963534e-01,\n        -2.03460892e-01, -6.24862321e-01, -6.14168832e-01,\n        -9.27498925e-01, -8.37399369e-01,  3.57752286e-01,\n         3.09047130e-02, -3.26986891e-01, -3.31759750e-01,\n         3.97245328e-01,  4.90027227e-01,  7.07032131e-01,\n        -7.29918760e-01,  6.22969791e-01,  5.63357674e-01,\n         7.38425823e-01, -2.91923448e-01,  9.07888841e-01,\n        -5.82144185e-01, -9.26135392e-01,  1.24194425e-01,\n        -2.62537250e-01, -6.35221636e-01,  5.50459848e-01,\n         2.42229992e-01, -1.30770356e-01,  6.45982096e-01,\n        -9.80759642e-01,  3.98160007e-01, -2.39197974e-01,\n        -5.44089804e-01, -5.96822455e-01, -2.93954815e-01,\n        -7.41339253e-01,  3.52790558e-01,  8.83381635e-01,\n         1.55818859e-01, -2.87534149e-02, -9.96901418e-01,\n         5.57422765e-01,  5.42831421e-01,  6.94683712e-01,\n        -9.85794522e-01,  7.30849242e-01,  7.62687059e-02,\n        -7.54391518e-01],\n       [-7.37972099e-01, -8.91837178e-01, -5.68032571e-01,\n         7.88891440e-01,  1.34576464e-01,  1.36415061e-01,\n         4.97997352e-03, -1.97820677e-01, -8.34873619e-01,\n        -3.35889874e-01,  9.44255935e-01,  6.51404484e-01,\n         1.12707164e-01, -7.58999388e-01,  4.59523723e-01,\n        -2.82677880e-01, -4.75770749e-01, -1.60144156e-01,\n        -1.44230570e-01,  6.03717558e-01,  8.77262237e-01,\n         8.86177948e-01, -9.19062493e-01, -4.95027292e-01,\n        -8.74067834e-01,  3.21709624e-01,  6.88720670e-01,\n         6.28487244e-01,  9.51757856e-01, -3.38139728e-01,\n         7.67655795e-01,  9.01728574e-01, -7.70505375e-01,\n         5.96627338e-01,  7.62721153e-01,  3.94485764e-01,\n         1.40688471e-01,  7.03157526e-01, -4.09345820e-01,\n         7.92900393e-01, -7.02769253e-01,  7.90455282e-01,\n         3.29898047e-02,  2.13265046e-01,  1.01495318e-01,\n        -2.87672708e-01,  6.32598062e-01, -3.19203674e-01,\n         6.87736895e-01, -5.68022902e-01, -7.46757141e-01,\n        -2.70330530e-01,  4.16854472e-01, -7.81918458e-01,\n         2.01328267e-01, -3.42302070e-01, -8.82454962e-01,\n         5.79599740e-01, -4.75854932e-01,  1.81287863e-01,\n        -2.40328001e-01, -9.61143665e-01, -4.90017623e-01,\n        -7.66340808e-01],\n       [-3.86928522e-01, -9.59249400e-01, -1.15395332e+00,\n         1.71686932e-01, -3.61626171e+00, -3.39226546e+00,\n        -1.08418390e+00,  5.09397750e-01,  9.22830081e-01,\n        -8.78686463e-01, -1.01323163e+00, -2.09307846e+00,\n        -1.93688527e+00, -2.22274982e+00,  8.75240082e-01,\n         9.41125640e-01,  7.98422277e-01, -9.01240901e-01,\n        -7.87312205e-01, -2.29469910e+00, -2.13171041e+00,\n        -2.42270989e+00,  1.72599168e-01, -9.76802721e-01,\n         7.39537966e-01,  1.16432390e+00, -8.36284320e-01,\n        -4.20954739e-01, -2.29635792e+00, -2.24263635e+00,\n         1.06587009e+00, -5.03004875e-02, -7.34750737e-01,\n         2.45890386e-01, -5.74083109e-01, -2.41132249e+00,\n        -2.69504421e+00,  4.17504032e-01, -5.17760390e-01,\n        -9.76485449e-01,  8.82821017e-01, -2.73646006e+00,\n        -2.41342589e+00, -3.83781137e+00, -1.85089706e+00,\n         2.63769349e-01,  4.68003724e-01, -5.39494846e-02,\n         7.94579854e-01,  2.75238991e-01, -2.73228115e+00,\n        -2.32524773e+00, -3.92151570e+00, -1.51054522e+00,\n         4.65413560e-02,  6.47806717e-01,  7.17455005e-01,\n        -2.39278506e-01,  7.68417761e-01, -5.95271878e-01,\n        -1.34820801e+00, -3.99052785e+00, -2.76098546e+00,\n        -3.05212072e-01],\n       [-2.87352733e-01, -5.33783120e-02, -2.48560051e-01,\n        -2.92707087e-01,  5.41200238e-02, -4.42572174e-01,\n         7.53827706e-01,  8.07408295e-01, -4.52427766e-02,\n        -7.12432101e-01, -7.22764061e-01, -1.01093309e-01,\n        -9.30988529e-01,  7.84442112e-01,  1.98055683e-01,\n        -9.97367913e-01, -8.83950370e-01,  5.84995717e-01,\n         2.67801291e-02,  1.30609830e-01,  7.84797031e-02,\n        -4.16882062e-01, -3.23983588e-01, -6.51397312e-02,\n        -8.43931879e-01,  8.78704806e-01,  2.57177809e-01,\n         6.75611765e-01,  5.59161145e-01, -3.29049973e-02,\n         4.25243888e-01, -8.42799842e-01,  8.99143371e-01,\n         3.30617826e-01, -6.51604406e-01,  4.26428955e-01,\n        -6.48974054e-01, -9.71952612e-01, -7.16645002e-02,\n        -8.34224486e-01,  5.18273312e-01,  7.33525458e-01,\n        -1.21342212e-02, -7.17126534e-01,  4.49103650e-02,\n         4.16540071e-01, -2.21535022e-01,  3.65367943e-01,\n         8.49184316e-01, -4.97758827e-01,  3.34399670e-01,\n        -3.80948823e-01,  1.50706615e-01, -1.25246516e-01,\n         9.26791690e-02, -2.20909536e-01, -5.36035379e-01,\n        -9.14080437e-01, -3.98883996e-01, -1.17951640e-01,\n         3.72863932e-01, -5.76058814e-01,  8.85706531e-01,\n        -5.26479602e-01]])"
     },
     "execution_count": 17,
     "metadata": {},
     "output_type": "execute_result"
    }
   ],
   "source": [
    "lvq_digit.weight"
   ],
   "metadata": {
    "collapsed": false,
    "ExecuteTime": {
     "end_time": "2023-11-20T05:19:39.283528724Z",
     "start_time": "2023-11-20T05:19:39.282703766Z"
    }
   },
   "id": "32594a099be3fa6"
  },
  {
   "cell_type": "code",
   "execution_count": 18,
   "outputs": [],
   "source": [
    "result = lvq_digit.predict(x_test)"
   ],
   "metadata": {
    "collapsed": false,
    "ExecuteTime": {
     "end_time": "2023-11-20T05:19:39.324579158Z",
     "start_time": "2023-11-20T05:19:39.323454103Z"
    }
   },
   "id": "612b7c720bfd5ec4"
  },
  {
   "cell_type": "code",
   "execution_count": 19,
   "outputs": [
    {
     "data": {
      "text/plain": "array([2, 2, 2, 2, 2, 2, 2, 2, 2, 2, 2, 2, 2, 2, 2, 2, 2, 2, 2, 2, 2, 2,\n       2, 2, 2, 2, 2, 2, 2, 2, 2, 2, 2, 2, 2, 2, 2, 2, 2, 2, 2, 2, 2, 2,\n       2, 2, 2, 2, 2, 2, 2, 2, 2, 2, 2, 2, 2, 2, 2, 2, 2, 2, 2, 2, 2, 2,\n       2, 2, 2, 2, 2, 2, 2, 2, 2, 2, 2, 2, 2, 2, 2, 2, 2, 2, 2, 2, 2, 2,\n       2, 2, 2, 2, 2, 2, 2, 2, 2, 2, 2, 2, 2, 2, 2, 2, 2, 2, 2, 2, 2, 2,\n       2, 2, 2, 2, 2, 2, 2, 2, 2, 2, 2, 2, 2, 2, 2, 2, 2, 2, 2, 2, 2, 2,\n       2, 2, 2, 2, 2, 2, 2, 2, 2, 2, 2, 2, 2, 2, 2, 2, 2, 2, 2, 2, 2, 2,\n       2, 2, 2, 2, 2, 2, 2, 2, 2, 2, 2, 2, 2, 2, 2, 2, 2, 2, 2, 2, 2, 2,\n       2, 2, 2, 2, 2, 2, 2, 2, 2, 2, 2, 2, 2, 2, 2, 2, 2, 2, 2, 2, 2, 2,\n       2, 2, 2, 2, 2, 2, 2, 2, 2, 2, 2, 2, 2, 2, 2, 2, 2, 2, 2, 2, 2, 2,\n       2, 2, 2, 2, 2, 2, 2, 2, 2, 2, 2, 2, 2, 2, 2, 2, 2, 2, 2, 2, 2, 2,\n       2, 2, 2, 2, 2, 2, 2, 2, 2, 2, 2, 2, 2, 2, 2, 2, 2, 2, 2, 2, 2, 2,\n       2, 2, 2, 2, 2, 2, 2, 2, 2, 2, 2, 2, 2, 2, 2, 2, 2, 2, 2, 2, 2, 2,\n       2, 2, 2, 2, 2, 2, 2, 2, 2, 2, 2, 2, 2, 2, 2, 2, 2, 2, 2, 2, 2, 2,\n       2, 2, 2, 2, 2, 2, 2, 2, 2, 2, 2, 2, 2, 2, 2, 2, 2, 2, 2, 2, 2, 2,\n       2, 2, 2, 2, 2, 2, 2, 2, 2, 2, 2, 2, 2, 2, 2, 2, 2, 2, 2, 2, 2, 2,\n       2, 2, 2, 2, 2, 2, 2, 2, 2, 2, 2, 2, 2, 2, 2, 2, 2, 2, 2, 2, 2, 2,\n       2, 2, 2, 2, 2, 2, 2, 2, 2, 2, 2, 2, 2, 2, 2, 2, 2, 2, 2, 2, 2, 2,\n       2, 2, 2, 2, 2, 2, 2, 2, 2, 2, 2, 2, 2, 2, 2, 2, 2, 2, 2, 2, 2, 2,\n       2, 2, 2, 2, 2, 2, 2, 2, 2, 2, 2, 2, 2, 2, 2, 2, 2, 2, 2, 2, 2, 2,\n       2, 2, 2, 2, 2, 2, 2, 2, 2, 2, 2, 2, 2, 2, 2, 2, 2, 2, 2, 2, 2, 2,\n       2, 2, 2, 2, 2, 2, 2, 2, 2, 2, 2, 2, 2, 2, 2, 2, 2, 2, 2, 2, 2, 2,\n       2, 2, 2, 2, 2, 2, 2, 2, 2, 2, 2, 2, 2, 2, 2, 2, 2, 2, 2, 2, 2, 2,\n       2, 2, 2, 2, 2, 2, 2, 2, 2, 2, 2, 2, 2, 2, 2, 2, 2, 2, 2, 2, 2, 2,\n       2, 2, 2, 2, 2, 2, 2, 2, 2, 2, 2, 2])"
     },
     "execution_count": 19,
     "metadata": {},
     "output_type": "execute_result"
    }
   ],
   "source": [
    "result"
   ],
   "metadata": {
    "collapsed": false,
    "ExecuteTime": {
     "end_time": "2023-11-20T05:19:39.336344954Z",
     "start_time": "2023-11-20T05:19:39.325331204Z"
    }
   },
   "id": "2e60e3e1a977eb08"
  },
  {
   "cell_type": "code",
   "execution_count": 20,
   "outputs": [
    {
     "data": {
      "text/plain": "0.09814814814814815"
     },
     "execution_count": 20,
     "metadata": {},
     "output_type": "execute_result"
    }
   ],
   "source": [
    "accuracy_score(result, y_test)"
   ],
   "metadata": {
    "collapsed": false,
    "ExecuteTime": {
     "end_time": "2023-11-20T05:19:39.361224592Z",
     "start_time": "2023-11-20T05:19:39.336679025Z"
    }
   },
   "id": "47868bebfa1824d"
  }
 ],
 "metadata": {
  "kernelspec": {
   "display_name": "Python 3",
   "language": "python",
   "name": "python3"
  },
  "language_info": {
   "codemirror_mode": {
    "name": "ipython",
    "version": 2
   },
   "file_extension": ".py",
   "mimetype": "text/x-python",
   "name": "python",
   "nbconvert_exporter": "python",
   "pygments_lexer": "ipython2",
   "version": "2.7.6"
  }
 },
 "nbformat": 4,
 "nbformat_minor": 5
}
