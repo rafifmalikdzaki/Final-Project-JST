{
 "cells": [
  {
   "cell_type": "code",
   "execution_count": 13,
   "id": "initial_id",
   "metadata": {
    "collapsed": true,
    "ExecuteTime": {
     "end_time": "2023-11-18T09:26:32.170803186Z",
     "start_time": "2023-11-18T09:26:32.130045313Z"
    }
   },
   "outputs": [],
   "source": [
    "import numpy as np\n",
    "import sklearn.datasets as dt\n",
    "from sklearn.model_selection import train_test_split as tts\n",
    "from sklearn.metrics import accuracy_score\n",
    "from sklearn.datasets import make_blobs, make_classification"
   ]
  },
  {
   "cell_type": "code",
   "execution_count": 14,
   "outputs": [],
   "source": [
    "# X, y = dt.load_iris(return_X_y=True)\n",
    "X, y = make_classification(n_samples=500, n_features=38, n_redundant=0, n_informative=4, n_classes=2, n_clusters_per_class=1)\n",
    "X_train, X_test, y_train, y_test = tts(X, y, test_size=0.2, random_state=0)"
   ],
   "metadata": {
    "collapsed": false,
    "ExecuteTime": {
     "end_time": "2023-11-18T09:26:32.170942156Z",
     "start_time": "2023-11-18T09:26:32.170716737Z"
    }
   },
   "id": "c4998c7e90363575"
  },
  {
   "cell_type": "code",
   "execution_count": 15,
   "outputs": [],
   "source": [
    "from LVQ.lvq import LVQ3"
   ],
   "metadata": {
    "collapsed": false,
    "ExecuteTime": {
     "end_time": "2023-11-18T09:26:32.194866133Z",
     "start_time": "2023-11-18T09:26:32.170974011Z"
    }
   },
   "id": "975c9aa46ab3d004"
  },
  {
   "cell_type": "code",
   "execution_count": 16,
   "outputs": [],
   "source": [
    "lvq = LVQ3(epsilon=0.2, epoch=200)"
   ],
   "metadata": {
    "collapsed": false,
    "ExecuteTime": {
     "end_time": "2023-11-18T09:26:32.220793678Z",
     "start_time": "2023-11-18T09:26:32.195278210Z"
    }
   },
   "id": "83bf2571d34bfd14"
  },
  {
   "cell_type": "code",
   "execution_count": 17,
   "outputs": [],
   "source": [
    "model = lvq.fit(X_train, y_train)"
   ],
   "metadata": {
    "collapsed": false,
    "ExecuteTime": {
     "end_time": "2023-11-18T09:26:34.102561379Z",
     "start_time": "2023-11-18T09:26:32.221378546Z"
    }
   },
   "id": "da18955f245d9649"
  },
  {
   "cell_type": "code",
   "execution_count": 18,
   "outputs": [
    {
     "data": {
      "text/plain": "38"
     },
     "execution_count": 18,
     "metadata": {},
     "output_type": "execute_result"
    }
   ],
   "source": [
    "X.shape[1]"
   ],
   "metadata": {
    "collapsed": false,
    "ExecuteTime": {
     "end_time": "2023-11-18T09:26:34.106350642Z",
     "start_time": "2023-11-18T09:26:34.103939197Z"
    }
   },
   "id": "418893847459bcca"
  },
  {
   "cell_type": "code",
   "execution_count": 19,
   "outputs": [
    {
     "data": {
      "text/plain": "array([[-0.36531064,  0.86489859, -0.39097678,  0.37235634,  0.37378254,\n        -0.01157905, -0.97764682, -0.31486147, -0.26603832,  0.08116944,\n         0.09984649, -0.02096887, -0.56694473, -0.1318667 ,  0.05993801,\n         1.6772551 , -0.48779384,  0.60743425,  0.04437447, -0.16863458,\n        -0.36387132,  1.16051592, -0.26027367, -0.5708659 ,  1.09301909,\n        -0.64803609,  0.71958136, -0.86675751,  0.26205591, -0.53541001,\n         0.14823599,  0.31067514, -2.23389558,  0.32782902,  4.38576204,\n         0.46955988,  0.71656774,  0.01068257],\n       [ 0.44033039, -0.49839771,  1.27273259,  0.49909341,  0.50391801,\n         0.14284496, -0.54281552,  0.12895198,  0.26924612, -0.55964737,\n         0.30663172,  0.40311491,  0.44158284, -0.14384687, -0.26869482,\n        -1.36854922, -0.34757566,  0.81990067, -0.06993255,  0.00707279,\n        -0.47918374, -0.39137578,  0.20475636, -0.39012261, -0.33114004,\n         1.09132451,  0.00654261,  1.19312576, -0.33931057,  0.46705286,\n        -0.06626295,  0.07682531,  2.67403856, -0.27060188, -5.15016482,\n        -0.31364001,  0.08363094,  0.34732766]])"
     },
     "execution_count": 19,
     "metadata": {},
     "output_type": "execute_result"
    }
   ],
   "source": [
    "lvq.weight"
   ],
   "metadata": {
    "collapsed": false,
    "ExecuteTime": {
     "end_time": "2023-11-18T09:26:34.132896253Z",
     "start_time": "2023-11-18T09:26:34.106282780Z"
    }
   },
   "id": "be180aeabf449db"
  },
  {
   "cell_type": "code",
   "execution_count": 20,
   "outputs": [],
   "source": [
    "result = lvq.predict(X_test)"
   ],
   "metadata": {
    "collapsed": false,
    "ExecuteTime": {
     "end_time": "2023-11-18T09:26:34.160881984Z",
     "start_time": "2023-11-18T09:26:34.132144014Z"
    }
   },
   "id": "43ff61e4913f9410"
  },
  {
   "cell_type": "code",
   "execution_count": 21,
   "outputs": [
    {
     "data": {
      "text/plain": "array([[ 1.11802225,  0.24027562,  0.2081602 , -0.56752487, -0.91024946,\n        -0.22739502, -1.73491142,  1.15954015, -0.7409227 ,  0.16301498,\n         0.87876599, -0.04905042,  0.40548027,  0.90099347,  1.09485021,\n         0.12957916,  2.33838261,  0.9243    ,  1.98624817, -1.56407257,\n        -0.48045692,  0.65560829, -1.34656487,  0.13638447, -0.47229672,\n         0.48175155, -1.07237261,  1.89428555, -2.65664561,  1.54938075,\n        -0.441103  , -0.55482729,  1.44327381,  0.84414448, -1.11487745,\n         0.17016374, -2.05710662, -1.13557497],\n       [-1.19324474, -0.51987907,  0.20703706,  0.47271562,  0.62405988,\n        -1.52072494, -0.47169727, -0.69146861,  0.10798524,  0.55905217,\n        -0.50935354, -0.61245749, -0.7221654 ,  0.66281953, -0.13957258,\n        -0.23564363,  1.45844463, -0.6336255 , -0.31970842,  0.13659868,\n        -0.54990734,  0.47663729,  0.83250743,  0.61879877,  0.44505886,\n         0.79315527, -2.62246856,  1.13802487,  0.81437475,  1.33643066,\n         0.50301469, -0.73160753,  0.59747659,  1.51491108, -1.01809492,\n        -0.47728145, -0.34328698, -1.24369007],\n       [-0.7514814 , -0.21493557,  0.21487711,  0.74026362, -1.29004164,\n         0.99726185,  0.80083553, -0.78323869, -0.50775375,  0.94162294,\n        -0.27722791, -0.2007345 , -1.00056489,  0.61896388,  0.44162633,\n         0.52396953,  0.12046858, -1.38617895,  0.39867695, -0.09155914,\n        -0.75454695,  0.84861278,  0.26711447, -1.71469513, -0.49770754,\n        -1.41131076, -0.59289833,  0.44212647,  0.92906367, -0.11825748,\n        -0.40182281,  0.60074569,  0.35932579,  2.38172964,  0.4494897 ,\n         1.61102956,  0.70620327, -0.08806985],\n       [ 0.0706625 , -1.65048528,  1.43885725,  1.75238108, -0.84134377,\n         0.30322844,  0.65184671, -0.33609101,  0.10280384,  0.00603016,\n        -0.22132213,  1.53282284,  0.71795694, -0.58554259,  1.61682939,\n         0.1422601 ,  0.05089282,  0.51894362, -0.97561545,  0.63085002,\n        -1.32929091, -1.25283909, -0.5999628 , -0.63168467,  1.07624722,\n        -0.37225852, -1.33547722,  1.33378483, -1.50273669, -0.36359031,\n         0.20062646, -1.42023205,  1.23551516,  3.24533289, -1.26597137,\n        -2.80871237, -1.1501894 , -0.70582571]])"
     },
     "execution_count": 21,
     "metadata": {},
     "output_type": "execute_result"
    }
   ],
   "source": [
    "X[:4]"
   ],
   "metadata": {
    "collapsed": false,
    "ExecuteTime": {
     "end_time": "2023-11-18T09:26:34.189188305Z",
     "start_time": "2023-11-18T09:26:34.160934172Z"
    }
   },
   "id": "f58113e553660726"
  },
  {
   "cell_type": "code",
   "execution_count": 22,
   "outputs": [
    {
     "data": {
      "text/plain": "array([0, 1, 1, 1, 1, 1, 0, 0, 0, 0, 1, 1, 0, 0, 1, 1, 0, 0, 1, 1, 0, 0,\n       1, 1, 0, 0, 1, 0, 1, 1, 0, 0, 0, 0, 1, 1, 0, 0, 0, 0, 1, 1, 0, 0,\n       0, 1, 0, 0, 1, 1, 0, 1, 0, 0, 1, 1, 1, 1, 1, 0, 1, 1, 1, 0, 0, 1,\n       0, 0, 0, 1, 1, 1, 0, 0, 1, 0, 1, 0, 0, 0, 0, 0, 0, 1, 1, 1, 1, 0,\n       0, 1, 0, 1, 1, 0, 1, 0, 1, 0, 1, 0])"
     },
     "execution_count": 22,
     "metadata": {},
     "output_type": "execute_result"
    }
   ],
   "source": [
    "y_test"
   ],
   "metadata": {
    "collapsed": false,
    "ExecuteTime": {
     "end_time": "2023-11-18T09:26:34.230949661Z",
     "start_time": "2023-11-18T09:26:34.190170073Z"
    }
   },
   "id": "c9d18980a2983114"
  },
  {
   "cell_type": "code",
   "execution_count": 23,
   "outputs": [
    {
     "data": {
      "text/plain": "array([0, 1, 1, 1, 1, 1, 0, 0, 0, 0, 1, 1, 0, 0, 1, 1, 0, 0, 1, 1, 0, 0,\n       1, 1, 0, 0, 1, 0, 1, 1, 0, 0, 0, 0, 0, 1, 0, 0, 0, 0, 1, 0, 0, 0,\n       0, 1, 0, 0, 1, 1, 0, 1, 0, 0, 1, 1, 1, 1, 1, 0, 1, 1, 1, 0, 0, 1,\n       0, 0, 0, 1, 1, 1, 0, 0, 1, 0, 1, 0, 0, 0, 0, 0, 0, 1, 1, 1, 1, 0,\n       0, 1, 0, 1, 1, 1, 1, 1, 1, 0, 1, 0])"
     },
     "execution_count": 23,
     "metadata": {},
     "output_type": "execute_result"
    }
   ],
   "source": [
    "result"
   ],
   "metadata": {
    "collapsed": false,
    "ExecuteTime": {
     "end_time": "2023-11-18T09:26:34.246895154Z",
     "start_time": "2023-11-18T09:26:34.230620114Z"
    }
   },
   "id": "7877bb11e7ca6dc8"
  },
  {
   "cell_type": "code",
   "execution_count": 24,
   "outputs": [
    {
     "data": {
      "text/plain": "0.96"
     },
     "execution_count": 24,
     "metadata": {},
     "output_type": "execute_result"
    }
   ],
   "source": [
    "accuracy_score(result, y_test)"
   ],
   "metadata": {
    "collapsed": false,
    "ExecuteTime": {
     "end_time": "2023-11-18T09:26:34.271767011Z",
     "start_time": "2023-11-18T09:26:34.247725487Z"
    }
   },
   "id": "aa96a8f71528ccea"
  }
 ],
 "metadata": {
  "kernelspec": {
   "display_name": "Python 3",
   "language": "python",
   "name": "python3"
  },
  "language_info": {
   "codemirror_mode": {
    "name": "ipython",
    "version": 2
   },
   "file_extension": ".py",
   "mimetype": "text/x-python",
   "name": "python",
   "nbconvert_exporter": "python",
   "pygments_lexer": "ipython2",
   "version": "2.7.6"
  }
 },
 "nbformat": 4,
 "nbformat_minor": 5
}
