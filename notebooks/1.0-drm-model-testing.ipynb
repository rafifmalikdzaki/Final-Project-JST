{
 "cells": [
  {
   "cell_type": "code",
   "execution_count": 1,
   "id": "initial_id",
   "metadata": {
    "collapsed": true,
    "ExecuteTime": {
     "end_time": "2023-11-18T13:16:02.565483641Z",
     "start_time": "2023-11-18T13:16:02.336256368Z"
    }
   },
   "outputs": [],
   "source": [
    "import numpy as np\n",
    "import sklearn.datasets as dt\n",
    "from sklearn.model_selection import train_test_split as tts\n",
    "from sklearn.metrics import accuracy_score\n",
    "from sklearn.datasets import make_blobs, make_classification"
   ]
  },
  {
   "cell_type": "code",
   "execution_count": 2,
   "outputs": [],
   "source": [
    "# X, y = dt.load_iris(return_X_y=True)\n",
    "X, y = make_classification(n_samples=1000, n_features=38, n_redundant=0, n_informative=16, n_classes=2, n_clusters_per_class=1)\n",
    "X_train, X_test, y_train, y_test = tts(X, y, test_size=0.2, random_state=0, shuffle=True)"
   ],
   "metadata": {
    "collapsed": false,
    "ExecuteTime": {
     "end_time": "2023-11-18T13:16:02.569251980Z",
     "start_time": "2023-11-18T13:16:02.566337356Z"
    }
   },
   "id": "c4998c7e90363575"
  },
  {
   "cell_type": "code",
   "execution_count": 3,
   "outputs": [],
   "source": [
    "from LVQ.lvq import LVQ3"
   ],
   "metadata": {
    "collapsed": false,
    "ExecuteTime": {
     "end_time": "2023-11-18T13:16:02.599520027Z",
     "start_time": "2023-11-18T13:16:02.570573798Z"
    }
   },
   "id": "975c9aa46ab3d004"
  },
  {
   "cell_type": "code",
   "execution_count": 4,
   "outputs": [],
   "source": [
    "lvq = LVQ3(epsilon=0.2, epoch=200)"
   ],
   "metadata": {
    "collapsed": false,
    "ExecuteTime": {
     "end_time": "2023-11-18T13:16:02.618361613Z",
     "start_time": "2023-11-18T13:16:02.600213739Z"
    }
   },
   "id": "83bf2571d34bfd14"
  },
  {
   "cell_type": "code",
   "execution_count": 5,
   "outputs": [],
   "source": [
    "model = lvq.fit(X_train, y_train)"
   ],
   "metadata": {
    "collapsed": false,
    "ExecuteTime": {
     "end_time": "2023-11-18T13:16:06.045765594Z",
     "start_time": "2023-11-18T13:16:02.618470736Z"
    }
   },
   "id": "da18955f245d9649"
  },
  {
   "cell_type": "code",
   "execution_count": 8,
   "outputs": [],
   "source": [
    "result = lvq.predict(X_test)"
   ],
   "metadata": {
    "collapsed": false,
    "ExecuteTime": {
     "end_time": "2023-11-18T13:16:06.105192003Z",
     "start_time": "2023-11-18T13:16:06.081834536Z"
    }
   },
   "id": "43ff61e4913f9410"
  },
  {
   "cell_type": "code",
   "execution_count": 12,
   "outputs": [
    {
     "data": {
      "text/plain": "0.94"
     },
     "execution_count": 12,
     "metadata": {},
     "output_type": "execute_result"
    }
   ],
   "source": [
    "accuracy_score(result, y_test)"
   ],
   "metadata": {
    "collapsed": false,
    "ExecuteTime": {
     "end_time": "2023-11-18T13:16:06.189551621Z",
     "start_time": "2023-11-18T13:16:06.188297151Z"
    }
   },
   "id": "aa96a8f71528ccea"
  },
  {
   "cell_type": "code",
   "execution_count": 50,
   "outputs": [],
   "source": [
    "from LVQ.multiclass import OneVsRestClassifier\n",
    "from sklearn.preprocessing import StandardScaler,MinMaxScaler\n",
    "X, y = dt.load_iris(return_X_y=True)\n",
    "X = StandardScaler().fit_transform(X)\n",
    "# X, y = make_classification(n_samples=200, n_features=38, n_redundant=0, n_informative=20, n_classes=3, n_clusters_per_class=1)\n",
    "\n",
    "X_train, X_test, y_train, y_test = tts(X, y, shuffle=True, test_size=0.2, random_state=0)\n",
    "\n",
    "one = OneVsRestClassifier(LVQ3(random_state=0, epoch=300, alpha=0.95, beta=0.25, m=0.25,epsilon=0.3))\n",
    "one.fit(X_train, y_train)"
   ],
   "metadata": {
    "collapsed": false,
    "ExecuteTime": {
     "end_time": "2023-11-18T13:18:15.695683776Z",
     "start_time": "2023-11-18T13:18:13.227542625Z"
    }
   },
   "id": "5f7ca36ee97ebc54"
  },
  {
   "cell_type": "code",
   "execution_count": 51,
   "outputs": [],
   "source": [
    "result = one.predict(X_test)"
   ],
   "metadata": {
    "collapsed": false,
    "ExecuteTime": {
     "end_time": "2023-11-18T13:18:15.740560341Z",
     "start_time": "2023-11-18T13:18:15.699594345Z"
    }
   },
   "id": "816acb4367928e60"
  },
  {
   "cell_type": "code",
   "execution_count": 52,
   "outputs": [
    {
     "data": {
      "text/plain": "0.8666666666666667"
     },
     "execution_count": 52,
     "metadata": {},
     "output_type": "execute_result"
    }
   ],
   "source": [
    "accuracy_score(result, y_test)"
   ],
   "metadata": {
    "collapsed": false,
    "ExecuteTime": {
     "end_time": "2023-11-18T13:18:15.740860553Z",
     "start_time": "2023-11-18T13:18:15.740425129Z"
    }
   },
   "id": "162814a42e8d24b3"
  },
  {
   "cell_type": "code",
   "execution_count": 17,
   "outputs": [],
   "source": [],
   "metadata": {
    "collapsed": false,
    "ExecuteTime": {
     "end_time": "2023-11-18T13:16:08.249864873Z",
     "start_time": "2023-11-18T13:16:08.247295924Z"
    }
   },
   "id": "2f72e15963d4aeb4"
  }
 ],
 "metadata": {
  "kernelspec": {
   "display_name": "Python 3",
   "language": "python",
   "name": "python3"
  },
  "language_info": {
   "codemirror_mode": {
    "name": "ipython",
    "version": 2
   },
   "file_extension": ".py",
   "mimetype": "text/x-python",
   "name": "python",
   "nbconvert_exporter": "python",
   "pygments_lexer": "ipython2",
   "version": "2.7.6"
  }
 },
 "nbformat": 4,
 "nbformat_minor": 5
}
